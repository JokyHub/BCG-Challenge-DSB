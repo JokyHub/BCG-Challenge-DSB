{
 "cells": [
  {
   "cell_type": "markdown",
   "metadata": {},
   "source": [
    "### 1.1 Load Data Efficiently"
   ]
  },
  {
   "cell_type": "code",
   "execution_count": 1,
   "metadata": {},
   "outputs": [],
   "source": [
    "import pandas as pd\n",
    "import numpy as np\n",
    "import polars as pl"
   ]
  },
  {
   "cell_type": "code",
   "execution_count": null,
   "metadata": {},
   "outputs": [],
   "source": [
    "\n",
    "# Load CSV efficiently\n",
    "df = pl.read_csv(\"transactions_dataset.csv\", separator=\";\", try_parse_dates=True)\n"
   ]
  },
  {
   "cell_type": "code",
   "execution_count": 3,
   "metadata": {},
   "outputs": [
    {
     "data": {
      "text/html": [
       "<div><style>\n",
       ".dataframe > thead > tr,\n",
       ".dataframe > tbody > tr {\n",
       "  text-align: right;\n",
       "  white-space: pre-wrap;\n",
       "}\n",
       "</style>\n",
       "<small>shape: (5, 8)</small><table border=\"1\" class=\"dataframe\"><thead><tr><th>date_order</th><th>date_invoice</th><th>product_id</th><th>client_id</th><th>sales_net</th><th>quantity</th><th>order_channel</th><th>branch_id</th></tr><tr><td>date</td><td>date</td><td>i64</td><td>i64</td><td>f64</td><td>i64</td><td>str</td><td>i64</td></tr></thead><tbody><tr><td>2017-09-25</td><td>2017-09-25</td><td>2376333</td><td>188502</td><td>155.4432</td><td>3</td><td>&quot;online&quot;</td><td>2732</td></tr><tr><td>2017-09-25</td><td>2017-09-25</td><td>2520527</td><td>835089</td><td>16.3944</td><td>3</td><td>&quot;at the store&quot;</td><td>10279</td></tr><tr><td>2017-09-25</td><td>2017-09-25</td><td>2536756</td><td>1977896</td><td>365.76624</td><td>21</td><td>&quot;online&quot;</td><td>6184</td></tr><tr><td>2017-09-25</td><td>2017-09-25</td><td>3028673</td><td>598816</td><td>8.59878</td><td>201</td><td>&quot;at the store&quot;</td><td>4200</td></tr><tr><td>2017-09-25</td><td>2017-09-25</td><td>203377</td><td>2086861</td><td>1093.374</td><td>3</td><td>&quot;by phone&quot;</td><td>7051</td></tr></tbody></table></div>"
      ],
      "text/plain": [
       "shape: (5, 8)\n",
       "┌────────────┬────────────┬────────────┬───────────┬───────────┬──────────┬────────────┬───────────┐\n",
       "│ date_order ┆ date_invoi ┆ product_id ┆ client_id ┆ sales_net ┆ quantity ┆ order_chan ┆ branch_id │\n",
       "│ ---        ┆ ce         ┆ ---        ┆ ---       ┆ ---       ┆ ---      ┆ nel        ┆ ---       │\n",
       "│ date       ┆ ---        ┆ i64        ┆ i64       ┆ f64       ┆ i64      ┆ ---        ┆ i64       │\n",
       "│            ┆ date       ┆            ┆           ┆           ┆          ┆ str        ┆           │\n",
       "╞════════════╪════════════╪════════════╪═══════════╪═══════════╪══════════╪════════════╪═══════════╡\n",
       "│ 2017-09-25 ┆ 2017-09-25 ┆ 2376333    ┆ 188502    ┆ 155.4432  ┆ 3        ┆ online     ┆ 2732      │\n",
       "│ 2017-09-25 ┆ 2017-09-25 ┆ 2520527    ┆ 835089    ┆ 16.3944   ┆ 3        ┆ at the     ┆ 10279     │\n",
       "│            ┆            ┆            ┆           ┆           ┆          ┆ store      ┆           │\n",
       "│ 2017-09-25 ┆ 2017-09-25 ┆ 2536756    ┆ 1977896   ┆ 365.76624 ┆ 21       ┆ online     ┆ 6184      │\n",
       "│ 2017-09-25 ┆ 2017-09-25 ┆ 3028673    ┆ 598816    ┆ 8.59878   ┆ 201      ┆ at the     ┆ 4200      │\n",
       "│            ┆            ┆            ┆           ┆           ┆          ┆ store      ┆           │\n",
       "│ 2017-09-25 ┆ 2017-09-25 ┆ 203377     ┆ 2086861   ┆ 1093.374  ┆ 3        ┆ by phone   ┆ 7051      │\n",
       "└────────────┴────────────┴────────────┴───────────┴───────────┴──────────┴────────────┴───────────┘"
      ]
     },
     "execution_count": 3,
     "metadata": {},
     "output_type": "execute_result"
    }
   ],
   "source": [
    "df.head()"
   ]
  },
  {
   "cell_type": "code",
   "execution_count": 4,
   "metadata": {},
   "outputs": [
    {
     "data": {
      "text/html": [
       "<div>\n",
       "<style scoped>\n",
       "    .dataframe tbody tr th:only-of-type {\n",
       "        vertical-align: middle;\n",
       "    }\n",
       "\n",
       "    .dataframe tbody tr th {\n",
       "        vertical-align: top;\n",
       "    }\n",
       "\n",
       "    .dataframe thead th {\n",
       "        text-align: right;\n",
       "    }\n",
       "</style>\n",
       "<table border=\"1\" class=\"dataframe\">\n",
       "  <thead>\n",
       "    <tr style=\"text-align: right;\">\n",
       "      <th></th>\n",
       "      <th>client_id</th>\n",
       "      <th>quali_relation</th>\n",
       "    </tr>\n",
       "  </thead>\n",
       "  <tbody>\n",
       "    <tr>\n",
       "      <th>0</th>\n",
       "      <td>188502</td>\n",
       "      <td>Difficult client</td>\n",
       "    </tr>\n",
       "    <tr>\n",
       "      <th>1</th>\n",
       "      <td>598816</td>\n",
       "      <td>Difficult client</td>\n",
       "    </tr>\n",
       "    <tr>\n",
       "      <th>2</th>\n",
       "      <td>564878</td>\n",
       "      <td>Difficult client</td>\n",
       "    </tr>\n",
       "    <tr>\n",
       "      <th>3</th>\n",
       "      <td>1883627</td>\n",
       "      <td>Difficult client</td>\n",
       "    </tr>\n",
       "    <tr>\n",
       "      <th>4</th>\n",
       "      <td>224223</td>\n",
       "      <td>Difficult client</td>\n",
       "    </tr>\n",
       "  </tbody>\n",
       "</table>\n",
       "</div>"
      ],
      "text/plain": [
       "   client_id    quali_relation\n",
       "0     188502  Difficult client\n",
       "1     598816  Difficult client\n",
       "2     564878  Difficult client\n",
       "3    1883627  Difficult client\n",
       "4     224223  Difficult client"
      ]
     },
     "execution_count": 4,
     "metadata": {},
     "output_type": "execute_result"
    }
   ],
   "source": [
    "relation_df = pd.read_csv(\"sales_client.csv\")\n",
    "relation_df.head()"
   ]
  },
  {
   "cell_type": "code",
   "execution_count": 5,
   "metadata": {},
   "outputs": [
    {
     "name": "stderr",
     "output_type": "stream",
     "text": [
      "C:\\Users\\DELL\\AppData\\Local\\Temp\\ipykernel_8524\\3463571570.py:5: DeprecationWarning: The default coalesce behavior of left join will change to `False` in the next breaking release. Pass `coalesce=True` to keep the current behavior and silence this warning.\n",
      "  merged_df = df.join(relation_df_pl, on=\"client_id\", how=\"left\")\n"
     ]
    },
    {
     "name": "stdout",
     "output_type": "stream",
     "text": [
      "shape: (5, 9)\n",
      "┌───────────┬───────────┬───────────┬───────────┬───┬──────────┬───────────┬───────────┬───────────┐\n",
      "│ date_orde ┆ date_invo ┆ product_i ┆ client_id ┆ … ┆ quantity ┆ order_cha ┆ branch_id ┆ quali_rel │\n",
      "│ r         ┆ ice       ┆ d         ┆ ---       ┆   ┆ ---      ┆ nnel      ┆ ---       ┆ ation     │\n",
      "│ ---       ┆ ---       ┆ ---       ┆ i64       ┆   ┆ i64      ┆ ---       ┆ i64       ┆ ---       │\n",
      "│ date      ┆ date      ┆ i64       ┆           ┆   ┆          ┆ str       ┆           ┆ str       │\n",
      "╞═══════════╪═══════════╪═══════════╪═══════════╪═══╪══════════╪═══════════╪═══════════╪═══════════╡\n",
      "│ 2017-09-2 ┆ 2017-09-2 ┆ 2376333   ┆ 188502    ┆ … ┆ 3        ┆ online    ┆ 2732      ┆ Difficult │\n",
      "│ 5         ┆ 5         ┆           ┆           ┆   ┆          ┆           ┆           ┆ client    │\n",
      "│ 2017-09-2 ┆ 2017-09-2 ┆ 2520527   ┆ 835089    ┆ … ┆ 3        ┆ at the    ┆ 10279     ┆ Demanding │\n",
      "│ 5         ┆ 5         ┆           ┆           ┆   ┆          ┆ store     ┆           ┆ client    │\n",
      "│ 2017-09-2 ┆ 2017-09-2 ┆ 2536756   ┆ 1977896   ┆ … ┆ 21       ┆ online    ┆ 6184      ┆ Agreeable │\n",
      "│ 5         ┆ 5         ┆           ┆           ┆   ┆          ┆           ┆           ┆ client    │\n",
      "│ 2017-09-2 ┆ 2017-09-2 ┆ 3028673   ┆ 598816    ┆ … ┆ 201      ┆ at the    ┆ 4200      ┆ Difficult │\n",
      "│ 5         ┆ 5         ┆           ┆           ┆   ┆          ┆ store     ┆           ┆ client    │\n",
      "│ 2017-09-2 ┆ 2017-09-2 ┆ 203377    ┆ 2086861   ┆ … ┆ 3        ┆ by phone  ┆ 7051      ┆ Agreeable │\n",
      "│ 5         ┆ 5         ┆           ┆           ┆   ┆          ┆           ┆           ┆ client    │\n",
      "└───────────┴───────────┴───────────┴───────────┴───┴──────────┴───────────┴───────────┴───────────┘\n"
     ]
    }
   ],
   "source": [
    "# Convert relation_df to Polars DataFrame\n",
    "relation_df_pl = pl.from_pandas(relation_df)\n",
    "\n",
    "# Merge the datasets based on client_id\n",
    "merged_df = df.join(relation_df_pl, on=\"client_id\", how=\"left\")\n",
    "\n",
    "# Display the first few rows of the merged dataframe\n",
    "print(merged_df.head())"
   ]
  },
  {
   "cell_type": "markdown",
   "metadata": {},
   "source": [
    "### Profitability Index computation"
   ]
  },
  {
   "cell_type": "code",
   "execution_count": 76,
   "metadata": {},
   "outputs": [
    {
     "name": "stderr",
     "output_type": "stream",
     "text": [
      "C:\\Users\\DELL\\AppData\\Local\\Temp\\ipykernel_8524\\3715135940.py:7: DeprecationWarning: `groupby` is deprecated. It has been renamed to `group_by`.\n",
      "  sales_by_customer_channel_year = df.groupby([\"client_id\", \"order_channel\", \"year\"]).agg(\n"
     ]
    },
    {
     "name": "stdout",
     "output_type": "stream",
     "text": [
      "shape: (646_580, 5)\n",
      "┌───────────┬───────────────┬──────┬─────────────┬───────────────┐\n",
      "│ client_id ┆ order_channel ┆ year ┆ sales_count ┆ sales_net_sum │\n",
      "│ ---       ┆ ---           ┆ ---  ┆ ---         ┆ ---           │\n",
      "│ i64       ┆ str           ┆ i32  ┆ u32         ┆ f64           │\n",
      "╞═══════════╪═══════════════╪══════╪═════════════╪═══════════════╡\n",
      "│ 2200107   ┆ at the store  ┆ 2017 ┆ 8           ┆ 2906.725832   │\n",
      "│ 1891002   ┆ by phone      ┆ 2018 ┆ 12          ┆ 9939.878352   │\n",
      "│ 993645    ┆ at the store  ┆ 2017 ┆ 1           ┆ 52.7666       │\n",
      "│ 1146681   ┆ by phone      ┆ 2017 ┆ 1           ┆ 4058.32056    │\n",
      "│ 417224    ┆ by phone      ┆ 2018 ┆ 1           ┆ 241.73        │\n",
      "│ …         ┆ …             ┆ …    ┆ …           ┆ …             │\n",
      "│ 902640    ┆ by phone      ┆ 2019 ┆ 17          ┆ 4323.61222    │\n",
      "│ 1772380   ┆ by phone      ┆ 2019 ┆ 9           ┆ 3426.815233   │\n",
      "│ 1971577   ┆ online        ┆ 2019 ┆ 7           ┆ 11194.092832  │\n",
      "│ 431452    ┆ by phone      ┆ 2017 ┆ 8           ┆ 35870.329256  │\n",
      "│ 654329    ┆ by phone      ┆ 2018 ┆ 4           ┆ 1792.643276   │\n",
      "└───────────┴───────────────┴──────┴─────────────┴───────────────┘\n"
     ]
    }
   ],
   "source": [
    "# Add a year column to the dataframe\n",
    "df = df.with_columns(\n",
    "    pl.col(\"date_order\").dt.year().alias(\"year\")\n",
    ")\n",
    "\n",
    "# Group by client_id, order_channel, and year, and count unique dates and sum sales_net\n",
    "sales_by_customer_channel_year = df.groupby([\"client_id\", \"order_channel\", \"year\"]).agg(\n",
    "    [\n",
    "        pl.col(\"date_order\").n_unique().alias(\"sales_count\"),\n",
    "        pl.col(\"sales_net\").sum().alias(\"sales_net_sum\")\n",
    "    ]\n",
    ")\n",
    "\n",
    "# Display the result\n",
    "print(sales_by_customer_channel_year)"
   ]
  },
  {
   "cell_type": "code",
   "execution_count": 77,
   "metadata": {},
   "outputs": [
    {
     "name": "stdout",
     "output_type": "stream",
     "text": [
      "shape: (646_580, 5)\n",
      "┌───────────┬───────────────┬──────┬─────────────┬───────────────┐\n",
      "│ client_id ┆ order_channel ┆ year ┆ sales_count ┆ sales_net_sum │\n",
      "│ ---       ┆ ---           ┆ ---  ┆ ---         ┆ ---           │\n",
      "│ i64       ┆ str           ┆ i32  ┆ u32         ┆ f64           │\n",
      "╞═══════════╪═══════════════╪══════╪═════════════╪═══════════════╡\n",
      "│ 6         ┆ by phone      ┆ 2017 ┆ 1           ┆ 1358.089878   │\n",
      "│ 6         ┆ at the store  ┆ 2017 ┆ 1           ┆ 204.1296      │\n",
      "│ 6         ┆ at the store  ┆ 2018 ┆ 2           ┆ 464.2228      │\n",
      "│ 6         ┆ by phone      ┆ 2018 ┆ 3           ┆ 1133.901825   │\n",
      "│ 6         ┆ by phone      ┆ 2019 ┆ 3           ┆ 2071.646974   │\n",
      "│ …         ┆ …             ┆ …    ┆ …           ┆ …             │\n",
      "│ 2274517   ┆ by phone      ┆ 2017 ┆ 4           ┆ 4383.780923   │\n",
      "│ 2274517   ┆ by phone      ┆ 2018 ┆ 5           ┆ 5833.756603   │\n",
      "│ 2274517   ┆ at the store  ┆ 2018 ┆ 5           ┆ 2032.074472   │\n",
      "│ 2274517   ┆ at the store  ┆ 2019 ┆ 5           ┆ 2529.208831   │\n",
      "│ 2274517   ┆ by phone      ┆ 2019 ┆ 3           ┆ 1989.127929   │\n",
      "└───────────┴───────────────┴──────┴─────────────┴───────────────┘\n"
     ]
    }
   ],
   "source": [
    "# Sort the dataframe by client_id and year\n",
    "sales_by_customer_channel_year = sales_by_customer_channel_year.sort([\"client_id\", \"year\"])\n",
    "\n",
    "# Display the sorted dataframe\n",
    "print(sales_by_customer_channel_year)"
   ]
  },
  {
   "cell_type": "code",
   "execution_count": 78,
   "metadata": {},
   "outputs": [
    {
     "name": "stdout",
     "output_type": "stream",
     "text": [
      "shape: (646_580, 6)\n",
      "┌───────────┬───────────────┬──────┬─────────────┬───────────────┬─────────────────────────┐\n",
      "│ client_id ┆ order_channel ┆ year ┆ sales_count ┆ sales_net_sum ┆ fixed_hourly_sales_rate │\n",
      "│ ---       ┆ ---           ┆ ---  ┆ ---         ┆ ---           ┆ ---                     │\n",
      "│ i64       ┆ str           ┆ i32  ┆ u32         ┆ f64           ┆ i32                     │\n",
      "╞═══════════╪═══════════════╪══════╪═════════════╪═══════════════╪═════════════════════════╡\n",
      "│ 6         ┆ by phone      ┆ 2017 ┆ 1           ┆ 1358.089878   ┆ 80                      │\n",
      "│ 6         ┆ at the store  ┆ 2017 ┆ 1           ┆ 204.1296      ┆ 80                      │\n",
      "│ 6         ┆ at the store  ┆ 2018 ┆ 2           ┆ 464.2228      ┆ 80                      │\n",
      "│ 6         ┆ by phone      ┆ 2018 ┆ 3           ┆ 1133.901825   ┆ 80                      │\n",
      "│ 6         ┆ by phone      ┆ 2019 ┆ 3           ┆ 2071.646974   ┆ 80                      │\n",
      "│ …         ┆ …             ┆ …    ┆ …           ┆ …             ┆ …                       │\n",
      "│ 2274517   ┆ by phone      ┆ 2017 ┆ 4           ┆ 4383.780923   ┆ 80                      │\n",
      "│ 2274517   ┆ by phone      ┆ 2018 ┆ 5           ┆ 5833.756603   ┆ 80                      │\n",
      "│ 2274517   ┆ at the store  ┆ 2018 ┆ 5           ┆ 2032.074472   ┆ 80                      │\n",
      "│ 2274517   ┆ at the store  ┆ 2019 ┆ 5           ┆ 2529.208831   ┆ 80                      │\n",
      "│ 2274517   ┆ by phone      ┆ 2019 ┆ 3           ┆ 1989.127929   ┆ 80                      │\n",
      "└───────────┴───────────────┴──────┴─────────────┴───────────────┴─────────────────────────┘\n"
     ]
    }
   ],
   "source": [
    "# Add fixed hourly sales rate\n",
    "sales_by_customer_channel_year = sales_by_customer_channel_year.with_columns(\n",
    "    (pl.lit(80)).alias(\"fixed_hourly_sales_rate\")\n",
    ")\n",
    "\n",
    "# Display the result\n",
    "print(sales_by_customer_channel_year)"
   ]
  },
  {
   "cell_type": "code",
   "execution_count": 79,
   "metadata": {},
   "outputs": [
    {
     "name": "stdout",
     "output_type": "stream",
     "text": [
      "shape: (5, 7)\n",
      "┌───────────┬───────────────┬──────┬─────────────┬───────────────┬────────────────┬────────────────┐\n",
      "│ client_id ┆ order_channel ┆ year ┆ sales_count ┆ sales_net_sum ┆ fixed_hourly_s ┆ quali_relation │\n",
      "│ ---       ┆ ---           ┆ ---  ┆ ---         ┆ ---           ┆ ales_rate      ┆ ---            │\n",
      "│ i64       ┆ str           ┆ i32  ┆ u32         ┆ f64           ┆ ---            ┆ str            │\n",
      "│           ┆               ┆      ┆             ┆               ┆ i32            ┆                │\n",
      "╞═══════════╪═══════════════╪══════╪═════════════╪═══════════════╪════════════════╪════════════════╡\n",
      "│ 6         ┆ by phone      ┆ 2017 ┆ 1           ┆ 1358.089878   ┆ 80             ┆ Agreeable      │\n",
      "│           ┆               ┆      ┆             ┆               ┆                ┆ client         │\n",
      "│ 6         ┆ at the store  ┆ 2017 ┆ 1           ┆ 204.1296      ┆ 80             ┆ Agreeable      │\n",
      "│           ┆               ┆      ┆             ┆               ┆                ┆ client         │\n",
      "│ 6         ┆ at the store  ┆ 2018 ┆ 2           ┆ 464.2228      ┆ 80             ┆ Agreeable      │\n",
      "│           ┆               ┆      ┆             ┆               ┆                ┆ client         │\n",
      "│ 6         ┆ by phone      ┆ 2018 ┆ 3           ┆ 1133.901825   ┆ 80             ┆ Agreeable      │\n",
      "│           ┆               ┆      ┆             ┆               ┆                ┆ client         │\n",
      "│ 6         ┆ by phone      ┆ 2019 ┆ 3           ┆ 2071.646974   ┆ 80             ┆ Agreeable      │\n",
      "│           ┆               ┆      ┆             ┆               ┆                ┆ client         │\n",
      "└───────────┴───────────────┴──────┴─────────────┴───────────────┴────────────────┴────────────────┘\n"
     ]
    },
    {
     "name": "stderr",
     "output_type": "stream",
     "text": [
      "C:\\Users\\DELL\\AppData\\Local\\Temp\\ipykernel_8524\\2644061185.py:2: DeprecationWarning: The default coalesce behavior of left join will change to `False` in the next breaking release. Pass `coalesce=True` to keep the current behavior and silence this warning.\n",
      "  sales_by_customer_channel_year = sales_by_customer_channel_year.join(relation_df_pl, on=\"client_id\", how=\"left\")\n"
     ]
    }
   ],
   "source": [
    "# Join sales_by_customer_channel_year with relation_df_pl to add the quality of customer status\n",
    "sales_by_customer_channel_year = sales_by_customer_channel_year.join(relation_df_pl, on=\"client_id\", how=\"left\")\n",
    "\n",
    "# Display the result\n",
    "print(sales_by_customer_channel_year.head())"
   ]
  },
  {
   "cell_type": "code",
   "execution_count": 80,
   "metadata": {},
   "outputs": [
    {
     "name": "stdout",
     "output_type": "stream",
     "text": [
      "shape: (646_580, 7)\n",
      "┌───────────┬───────────────┬──────┬─────────────┬───────────────┬────────────────┬────────────────┐\n",
      "│ client_id ┆ order_channel ┆ year ┆ sales_count ┆ sales_net_sum ┆ fixed_hourly_s ┆ quali_relation │\n",
      "│ ---       ┆ ---           ┆ ---  ┆ ---         ┆ ---           ┆ ales_rate      ┆ ---            │\n",
      "│ i64       ┆ str           ┆ i32  ┆ u32         ┆ f64           ┆ ---            ┆ str            │\n",
      "│           ┆               ┆      ┆             ┆               ┆ i32            ┆                │\n",
      "╞═══════════╪═══════════════╪══════╪═════════════╪═══════════════╪════════════════╪════════════════╡\n",
      "│ 6         ┆ at the store  ┆ 2017 ┆ 1           ┆ 204.1296      ┆ 80             ┆ Agreeable      │\n",
      "│           ┆               ┆      ┆             ┆               ┆                ┆ client         │\n",
      "│ 6         ┆ at the store  ┆ 2018 ┆ 2           ┆ 464.2228      ┆ 80             ┆ Agreeable      │\n",
      "│           ┆               ┆      ┆             ┆               ┆                ┆ client         │\n",
      "│ 6         ┆ at the store  ┆ 2019 ┆ 3           ┆ 650.241924    ┆ 80             ┆ Agreeable      │\n",
      "│           ┆               ┆      ┆             ┆               ┆                ┆ client         │\n",
      "│ 6         ┆ by phone      ┆ 2017 ┆ 1           ┆ 1358.089878   ┆ 80             ┆ Agreeable      │\n",
      "│           ┆               ┆      ┆             ┆               ┆                ┆ client         │\n",
      "│ 6         ┆ by phone      ┆ 2018 ┆ 3           ┆ 1133.901825   ┆ 80             ┆ Agreeable      │\n",
      "│           ┆               ┆      ┆             ┆               ┆                ┆ client         │\n",
      "│ …         ┆ …             ┆ …    ┆ …           ┆ …             ┆ …              ┆ …              │\n",
      "│ 2274517   ┆ at the store  ┆ 2018 ┆ 5           ┆ 2032.074472   ┆ 80             ┆ Difficult      │\n",
      "│           ┆               ┆      ┆             ┆               ┆                ┆ client         │\n",
      "│ 2274517   ┆ at the store  ┆ 2019 ┆ 5           ┆ 2529.208831   ┆ 80             ┆ Difficult      │\n",
      "│           ┆               ┆      ┆             ┆               ┆                ┆ client         │\n",
      "│ 2274517   ┆ by phone      ┆ 2017 ┆ 4           ┆ 4383.780923   ┆ 80             ┆ Difficult      │\n",
      "│           ┆               ┆      ┆             ┆               ┆                ┆ client         │\n",
      "│ 2274517   ┆ by phone      ┆ 2018 ┆ 5           ┆ 5833.756603   ┆ 80             ┆ Difficult      │\n",
      "│           ┆               ┆      ┆             ┆               ┆                ┆ client         │\n",
      "│ 2274517   ┆ by phone      ┆ 2019 ┆ 3           ┆ 1989.127929   ┆ 80             ┆ Difficult      │\n",
      "│           ┆               ┆      ┆             ┆               ┆                ┆ client         │\n",
      "└───────────┴───────────────┴──────┴─────────────┴───────────────┴────────────────┴────────────────┘\n"
     ]
    }
   ],
   "source": [
    "# Sort the dataframe by client_id, order_channel, and year\n",
    "sorted_sales_by_customer_channel_year = sales_by_customer_channel_year.sort([\"client_id\", \"order_channel\", \"year\"])\n",
    "\n",
    "# Display the sorted dataframe\n",
    "print(sorted_sales_by_customer_channel_year)"
   ]
  },
  {
   "cell_type": "code",
   "execution_count": 81,
   "metadata": {},
   "outputs": [
    {
     "name": "stdout",
     "output_type": "stream",
     "text": [
      "shape: (646_580, 8)\n",
      "┌───────────┬─────────────┬──────┬─────────────┬────────────┬────────────┬────────────┬────────────┐\n",
      "│ client_id ┆ order_chann ┆ year ┆ sales_count ┆ sales_net_ ┆ fixed_hour ┆ quali_rela ┆ client_cat │\n",
      "│ ---       ┆ el          ┆ ---  ┆ ---         ┆ sum        ┆ ly_sales_r ┆ tion       ┆ egory      │\n",
      "│ i64       ┆ ---         ┆ i32  ┆ u32         ┆ ---        ┆ ate        ┆ ---        ┆ ---        │\n",
      "│           ┆ str         ┆      ┆             ┆ f64        ┆ ---        ┆ str        ┆ str        │\n",
      "│           ┆             ┆      ┆             ┆            ┆ i32        ┆            ┆            │\n",
      "╞═══════════╪═════════════╪══════╪═════════════╪════════════╪════════════╪════════════╪════════════╡\n",
      "│ 6         ┆ at the      ┆ 2017 ┆ 1           ┆ 204.1296   ┆ 80         ┆ Agreeable  ┆ Easy       │\n",
      "│           ┆ store       ┆      ┆             ┆            ┆            ┆ client     ┆            │\n",
      "│ 6         ┆ at the      ┆ 2018 ┆ 2           ┆ 464.2228   ┆ 80         ┆ Agreeable  ┆ Easy       │\n",
      "│           ┆ store       ┆      ┆             ┆            ┆            ┆ client     ┆            │\n",
      "│ 6         ┆ at the      ┆ 2019 ┆ 3           ┆ 650.241924 ┆ 80         ┆ Agreeable  ┆ Easy       │\n",
      "│           ┆ store       ┆      ┆             ┆            ┆            ┆ client     ┆            │\n",
      "│ 6         ┆ by phone    ┆ 2017 ┆ 1           ┆ 1358.08987 ┆ 80         ┆ Agreeable  ┆ Easy       │\n",
      "│           ┆             ┆      ┆             ┆ 8          ┆            ┆ client     ┆            │\n",
      "│ 6         ┆ by phone    ┆ 2018 ┆ 3           ┆ 1133.90182 ┆ 80         ┆ Agreeable  ┆ Easy       │\n",
      "│           ┆             ┆      ┆             ┆ 5          ┆            ┆ client     ┆            │\n",
      "│ …         ┆ …           ┆ …    ┆ …           ┆ …          ┆ …          ┆ …          ┆ …          │\n",
      "│ 2274517   ┆ at the      ┆ 2018 ┆ 5           ┆ 2032.07447 ┆ 80         ┆ Difficult  ┆ Difficult  │\n",
      "│           ┆ store       ┆      ┆             ┆ 2          ┆            ┆ client     ┆            │\n",
      "│ 2274517   ┆ at the      ┆ 2019 ┆ 5           ┆ 2529.20883 ┆ 80         ┆ Difficult  ┆ Difficult  │\n",
      "│           ┆ store       ┆      ┆             ┆ 1          ┆            ┆ client     ┆            │\n",
      "│ 2274517   ┆ by phone    ┆ 2017 ┆ 4           ┆ 4383.78092 ┆ 80         ┆ Difficult  ┆ Difficult  │\n",
      "│           ┆             ┆      ┆             ┆ 3          ┆            ┆ client     ┆            │\n",
      "│ 2274517   ┆ by phone    ┆ 2018 ┆ 5           ┆ 5833.75660 ┆ 80         ┆ Difficult  ┆ Difficult  │\n",
      "│           ┆             ┆      ┆             ┆ 3          ┆            ┆ client     ┆            │\n",
      "│ 2274517   ┆ by phone    ┆ 2019 ┆ 3           ┆ 1989.12792 ┆ 80         ┆ Difficult  ┆ Difficult  │\n",
      "│           ┆             ┆      ┆             ┆ 9          ┆            ┆ client     ┆            │\n",
      "└───────────┴─────────────┴──────┴─────────────┴────────────┴────────────┴────────────┴────────────┘\n"
     ]
    }
   ],
   "source": [
    "# Categorize clients\n",
    "sorted_sales_by_customer_channel_year = sorted_sales_by_customer_channel_year.with_columns(\n",
    "  pl.when(pl.col(\"quali_relation\") == \"Agreeable client\")\n",
    "    .then(pl.lit(\"Easy\"))\n",
    "    .otherwise(pl.lit(\"Difficult\"))\n",
    "    .alias(\"client_category\")\n",
    ")\n",
    "\n",
    "# Display the result\n",
    "print(sorted_sales_by_customer_channel_year)"
   ]
  },
  {
   "cell_type": "code",
   "execution_count": null,
   "metadata": {},
   "outputs": [],
   "source": []
  },
  {
   "cell_type": "code",
   "execution_count": 82,
   "metadata": {},
   "outputs": [
    {
     "name": "stdout",
     "output_type": "stream",
     "text": [
      "shape: (646_580, 9)\n",
      "┌───────────┬────────────┬──────┬────────────┬───┬────────────┬────────────┬───────────┬───────────┐\n",
      "│ client_id ┆ order_chan ┆ year ┆ sales_coun ┆ … ┆ fixed_hour ┆ quali_rela ┆ client_ca ┆ sale_time │\n",
      "│ ---       ┆ nel        ┆ ---  ┆ t          ┆   ┆ ly_sales_r ┆ tion       ┆ tegory    ┆ _spent    │\n",
      "│ i64       ┆ ---        ┆ i32  ┆ ---        ┆   ┆ ate        ┆ ---        ┆ ---       ┆ ---       │\n",
      "│           ┆ str        ┆      ┆ u32        ┆   ┆ ---        ┆ str        ┆ str       ┆ f64       │\n",
      "│           ┆            ┆      ┆            ┆   ┆ i32        ┆            ┆           ┆           │\n",
      "╞═══════════╪════════════╪══════╪════════════╪═══╪════════════╪════════════╪═══════════╪═══════════╡\n",
      "│ 6         ┆ at the     ┆ 2017 ┆ 1          ┆ … ┆ 80         ┆ Agreeable  ┆ Easy      ┆ 4.0       │\n",
      "│           ┆ store      ┆      ┆            ┆   ┆            ┆ client     ┆           ┆           │\n",
      "│ 6         ┆ at the     ┆ 2018 ┆ 2          ┆ … ┆ 80         ┆ Agreeable  ┆ Easy      ┆ 4.0       │\n",
      "│           ┆ store      ┆      ┆            ┆   ┆            ┆ client     ┆           ┆           │\n",
      "│ 6         ┆ at the     ┆ 2019 ┆ 3          ┆ … ┆ 80         ┆ Agreeable  ┆ Easy      ┆ 4.0       │\n",
      "│           ┆ store      ┆      ┆            ┆   ┆            ┆ client     ┆           ┆           │\n",
      "│ 6         ┆ by phone   ┆ 2017 ┆ 1          ┆ … ┆ 80         ┆ Agreeable  ┆ Easy      ┆ 1.0       │\n",
      "│           ┆            ┆      ┆            ┆   ┆            ┆ client     ┆           ┆           │\n",
      "│ 6         ┆ by phone   ┆ 2018 ┆ 3          ┆ … ┆ 80         ┆ Agreeable  ┆ Easy      ┆ 1.0       │\n",
      "│           ┆            ┆      ┆            ┆   ┆            ┆ client     ┆           ┆           │\n",
      "│ …         ┆ …          ┆ …    ┆ …          ┆ … ┆ …          ┆ …          ┆ …         ┆ …         │\n",
      "│ 2274517   ┆ at the     ┆ 2018 ┆ 5          ┆ … ┆ 80         ┆ Difficult  ┆ Difficult ┆ 4.0       │\n",
      "│           ┆ store      ┆      ┆            ┆   ┆            ┆ client     ┆           ┆           │\n",
      "│ 2274517   ┆ at the     ┆ 2019 ┆ 5          ┆ … ┆ 80         ┆ Difficult  ┆ Difficult ┆ 4.0       │\n",
      "│           ┆ store      ┆      ┆            ┆   ┆            ┆ client     ┆           ┆           │\n",
      "│ 2274517   ┆ by phone   ┆ 2017 ┆ 4          ┆ … ┆ 80         ┆ Difficult  ┆ Difficult ┆ 2.0       │\n",
      "│           ┆            ┆      ┆            ┆   ┆            ┆ client     ┆           ┆           │\n",
      "│ 2274517   ┆ by phone   ┆ 2018 ┆ 5          ┆ … ┆ 80         ┆ Difficult  ┆ Difficult ┆ 2.0       │\n",
      "│           ┆            ┆      ┆            ┆   ┆            ┆ client     ┆           ┆           │\n",
      "│ 2274517   ┆ by phone   ┆ 2019 ┆ 3          ┆ … ┆ 80         ┆ Difficult  ┆ Difficult ┆ 2.0       │\n",
      "│           ┆            ┆      ┆            ┆   ┆            ┆ client     ┆           ┆           │\n",
      "└───────────┴────────────┴──────┴────────────┴───┴────────────┴────────────┴───────────┴───────────┘\n"
     ]
    }
   ],
   "source": [
    "# Add sale_time_spent column based on the specified conditions\n",
    "sorted_sales_by_customer_channel_year = sorted_sales_by_customer_channel_year.with_columns(\n",
    "  pl.when(pl.col(\"order_channel\") == \"by phone\")\n",
    "    .then(pl.when(pl.col(\"client_category\") == \"Easy\").then(1).otherwise(2))\n",
    "    .when(pl.col(\"order_channel\") == \"at the store\")\n",
    "    .then(4)\n",
    "    .when(pl.col(\"order_channel\").str.starts_with(\"during\"))\n",
    "    .then(4)\n",
    "    .when(pl.col(\"order_channel\") == \"online\")\n",
    "    .then(0.5)\n",
    "    .when(pl.col(\"order_channel\") == \"other\")\n",
    "    .then(0.5)\n",
    "    .otherwise(pl.lit(None))\n",
    "    .alias(\"sale_time_spent\")\n",
    ")\n",
    "\n",
    "# Display the result\n",
    "print(sorted_sales_by_customer_channel_year)"
   ]
  },
  {
   "cell_type": "code",
   "execution_count": 83,
   "metadata": {},
   "outputs": [
    {
     "name": "stdout",
     "output_type": "stream",
     "text": [
      "shape: (646_580, 10)\n",
      "┌───────────┬────────────┬──────┬────────────┬───┬────────────┬────────────┬───────────┬───────────┐\n",
      "│ client_id ┆ order_chan ┆ year ┆ sales_coun ┆ … ┆ quali_rela ┆ client_cat ┆ sale_time ┆ total_net │\n",
      "│ ---       ┆ nel        ┆ ---  ┆ t          ┆   ┆ tion       ┆ egory      ┆ _spent    ┆ _annual_s │\n",
      "│ i64       ┆ ---        ┆ i32  ┆ ---        ┆   ┆ ---        ┆ ---        ┆ ---       ┆ ales      │\n",
      "│           ┆ str        ┆      ┆ u32        ┆   ┆ str        ┆ str        ┆ f64       ┆ ---       │\n",
      "│           ┆            ┆      ┆            ┆   ┆            ┆            ┆           ┆ f64       │\n",
      "╞═══════════╪════════════╪══════╪════════════╪═══╪════════════╪════════════╪═══════════╪═══════════╡\n",
      "│ 6         ┆ at the     ┆ 2017 ┆ 1          ┆ … ┆ Agreeable  ┆ Easy       ┆ 4.0       ┆ 1562.2194 │\n",
      "│           ┆ store      ┆      ┆            ┆   ┆ client     ┆            ┆           ┆ 78        │\n",
      "│ 6         ┆ at the     ┆ 2018 ┆ 2          ┆ … ┆ Agreeable  ┆ Easy       ┆ 4.0       ┆ 1598.1246 │\n",
      "│           ┆ store      ┆      ┆            ┆   ┆ client     ┆            ┆           ┆ 25        │\n",
      "│ 6         ┆ at the     ┆ 2019 ┆ 3          ┆ … ┆ Agreeable  ┆ Easy       ┆ 4.0       ┆ 2721.8888 │\n",
      "│           ┆ store      ┆      ┆            ┆   ┆ client     ┆            ┆           ┆ 98        │\n",
      "│ 6         ┆ by phone   ┆ 2017 ┆ 1          ┆ … ┆ Agreeable  ┆ Easy       ┆ 1.0       ┆ 1562.2194 │\n",
      "│           ┆            ┆      ┆            ┆   ┆ client     ┆            ┆           ┆ 78        │\n",
      "│ 6         ┆ by phone   ┆ 2018 ┆ 3          ┆ … ┆ Agreeable  ┆ Easy       ┆ 1.0       ┆ 1598.1246 │\n",
      "│           ┆            ┆      ┆            ┆   ┆ client     ┆            ┆           ┆ 25        │\n",
      "│ …         ┆ …          ┆ …    ┆ …          ┆ … ┆ …          ┆ …          ┆ …         ┆ …         │\n",
      "│ 2274517   ┆ at the     ┆ 2018 ┆ 5          ┆ … ┆ Difficult  ┆ Difficult  ┆ 4.0       ┆ 7865.8310 │\n",
      "│           ┆ store      ┆      ┆            ┆   ┆ client     ┆            ┆           ┆ 75        │\n",
      "│ 2274517   ┆ at the     ┆ 2019 ┆ 5          ┆ … ┆ Difficult  ┆ Difficult  ┆ 4.0       ┆ 4518.3367 │\n",
      "│           ┆ store      ┆      ┆            ┆   ┆ client     ┆            ┆           ┆ 6         │\n",
      "│ 2274517   ┆ by phone   ┆ 2017 ┆ 4          ┆ … ┆ Difficult  ┆ Difficult  ┆ 2.0       ┆ 4773.7670 │\n",
      "│           ┆            ┆      ┆            ┆   ┆ client     ┆            ┆           ┆ 83        │\n",
      "│ 2274517   ┆ by phone   ┆ 2018 ┆ 5          ┆ … ┆ Difficult  ┆ Difficult  ┆ 2.0       ┆ 7865.8310 │\n",
      "│           ┆            ┆      ┆            ┆   ┆ client     ┆            ┆           ┆ 75        │\n",
      "│ 2274517   ┆ by phone   ┆ 2019 ┆ 3          ┆ … ┆ Difficult  ┆ Difficult  ┆ 2.0       ┆ 4518.3367 │\n",
      "│           ┆            ┆      ┆            ┆   ┆ client     ┆            ┆           ┆ 6         │\n",
      "└───────────┴────────────┴──────┴────────────┴───┴────────────┴────────────┴───────────┴───────────┘\n"
     ]
    }
   ],
   "source": [
    "# Create a new column in the sorted_sales_by_customer_channel_year dataframe to store the total sales calculated\n",
    "sorted_sales_by_customer_channel_year = sorted_sales_by_customer_channel_year.with_columns(\n",
    "    pl.col(\"sales_net_sum\").sum().over([\"client_id\", \"year\"]).alias(\"total_net_annual_sales\")\n",
    ")\n",
    "\n",
    "# Display the result\n",
    "print(sorted_sales_by_customer_channel_year)"
   ]
  },
  {
   "cell_type": "code",
   "execution_count": 90,
   "metadata": {},
   "outputs": [
    {
     "name": "stdout",
     "output_type": "stream",
     "text": [
      "shape: (5, 10)\n",
      "┌───────────┬────────────┬──────┬────────────┬───┬────────────┬────────────┬───────────┬───────────┐\n",
      "│ client_id ┆ order_chan ┆ year ┆ sales_coun ┆ … ┆ quali_rela ┆ client_cat ┆ sale_time ┆ total_net │\n",
      "│ ---       ┆ nel        ┆ ---  ┆ t          ┆   ┆ tion       ┆ egory      ┆ _spent    ┆ _annual_s │\n",
      "│ i64       ┆ ---        ┆ i32  ┆ ---        ┆   ┆ ---        ┆ ---        ┆ ---       ┆ ales      │\n",
      "│           ┆ str        ┆      ┆ u32        ┆   ┆ str        ┆ str        ┆ f64       ┆ ---       │\n",
      "│           ┆            ┆      ┆            ┆   ┆            ┆            ┆           ┆ f64       │\n",
      "╞═══════════╪════════════╪══════╪════════════╪═══╪════════════╪════════════╪═══════════╪═══════════╡\n",
      "│ 2271274   ┆ at the     ┆ 2017 ┆ 4          ┆ … ┆ Agreeable  ┆ Easy       ┆ 4.0       ┆ 1024.7840 │\n",
      "│           ┆ store      ┆      ┆            ┆   ┆ client     ┆            ┆           ┆ 75        │\n",
      "│ 2271274   ┆ at the     ┆ 2018 ┆ 18         ┆ … ┆ Agreeable  ┆ Easy       ┆ 4.0       ┆ 3290.6007 │\n",
      "│           ┆ store      ┆      ┆            ┆   ┆ client     ┆            ┆           ┆ 08        │\n",
      "│ 2271274   ┆ at the     ┆ 2019 ┆ 28         ┆ … ┆ Agreeable  ┆ Easy       ┆ 4.0       ┆ 6933.7290 │\n",
      "│           ┆ store      ┆      ┆            ┆   ┆ client     ┆            ┆           ┆ 6         │\n",
      "│ 2271274   ┆ by phone   ┆ 2018 ┆ 1          ┆ … ┆ Agreeable  ┆ Easy       ┆ 1.0       ┆ 3290.6007 │\n",
      "│           ┆            ┆      ┆            ┆   ┆ client     ┆            ┆           ┆ 08        │\n",
      "│ 2271274   ┆ by phone   ┆ 2019 ┆ 1          ┆ … ┆ Agreeable  ┆ Easy       ┆ 1.0       ┆ 6933.7290 │\n",
      "│           ┆            ┆      ┆            ┆   ┆ client     ┆            ┆           ┆ 6         │\n",
      "└───────────┴────────────┴──────┴────────────┴───┴────────────┴────────────┴───────────┴───────────┘\n"
     ]
    }
   ],
   "source": [
    "# Filter the dataframe for client_id 6\n",
    "client_6_data = sorted_sales_by_customer_channel_year.filter(pl.col(\"client_id\") == 2271274)\n",
    "\n",
    "# Display the result\n",
    "print(client_6_data)"
   ]
  },
  {
   "cell_type": "code",
   "execution_count": 91,
   "metadata": {},
   "outputs": [
    {
     "name": "stderr",
     "output_type": "stream",
     "text": [
      "C:\\Users\\DELL\\AppData\\Local\\Temp\\ipykernel_8524\\1894913612.py:2: DeprecationWarning: `groupby` is deprecated. It has been renamed to `group_by`.\n",
      "  gamma_coefficient_df = sorted_sales_by_customer_channel_year.groupby([\"client_id\", \"year\"]).agg(\n"
     ]
    },
    {
     "name": "stdout",
     "output_type": "stream",
     "text": [
      "shape: (379_284, 3)\n",
      "┌───────────┬──────┬───────────────────┐\n",
      "│ client_id ┆ year ┆ gamma_coefficient │\n",
      "│ ---       ┆ ---  ┆ ---               │\n",
      "│ i64       ┆ i32  ┆ f64               │\n",
      "╞═══════════╪══════╪═══════════════════╡\n",
      "│ 105404    ┆ 2018 ┆ 0.06074           │\n",
      "│ 364911    ┆ 2018 ┆ 1.442986          │\n",
      "│ 16317     ┆ 2019 ┆ 2.910537          │\n",
      "│ 221600    ┆ 2017 ┆ 0.905554          │\n",
      "│ 33682     ┆ 2018 ┆ 3.876363          │\n",
      "│ …         ┆ …    ┆ …                 │\n",
      "│ 91039     ┆ 2018 ┆ 1.0291            │\n",
      "│ 1284933   ┆ 2019 ┆ 0.482618          │\n",
      "│ 20656     ┆ 2019 ┆ 1.126314          │\n",
      "│ 1237677   ┆ 2019 ┆ 0.450578          │\n",
      "│ 1530751   ┆ 2018 ┆ 1.598981          │\n",
      "└───────────┴──────┴───────────────────┘\n"
     ]
    }
   ],
   "source": [
    "# Calculate the gamma coefficient for each customer by year\n",
    "gamma_coefficient_df = sorted_sales_by_customer_channel_year.groupby([\"client_id\", \"year\"]).agg(\n",
    "    [\n",
    "        ((pl.col(\"sale_time_spent\") * pl.col(\"fixed_hourly_sales_rate\") * pl.col(\"sales_count\")).sum() / pl.col(\"total_net_annual_sales\").first()).alias(\"gamma_coefficient\")\n",
    "    ]\n",
    ")\n",
    "\n",
    "# Display the result\n",
    "print(gamma_coefficient_df)"
   ]
  },
  {
   "cell_type": "code",
   "execution_count": 92,
   "metadata": {},
   "outputs": [
    {
     "name": "stdout",
     "output_type": "stream",
     "text": [
      "shape: (646_580, 11)\n",
      "┌───────────┬────────────┬──────┬────────────┬───┬────────────┬────────────┬───────────┬───────────┐\n",
      "│ client_id ┆ order_chan ┆ year ┆ sales_coun ┆ … ┆ client_cat ┆ sale_time_ ┆ total_net ┆ gamma_coe │\n",
      "│ ---       ┆ nel        ┆ ---  ┆ t          ┆   ┆ egory      ┆ spent      ┆ _annual_s ┆ fficient  │\n",
      "│ i64       ┆ ---        ┆ i32  ┆ ---        ┆   ┆ ---        ┆ ---        ┆ ales      ┆ ---       │\n",
      "│           ┆ str        ┆      ┆ u32        ┆   ┆ str        ┆ f64        ┆ ---       ┆ f64       │\n",
      "│           ┆            ┆      ┆            ┆   ┆            ┆            ┆ f64       ┆           │\n",
      "╞═══════════╪════════════╪══════╪════════════╪═══╪════════════╪════════════╪═══════════╪═══════════╡\n",
      "│ 6         ┆ at the     ┆ 2017 ┆ 1          ┆ … ┆ Easy       ┆ 4.0        ┆ 1562.2194 ┆ 0.256046  │\n",
      "│           ┆ store      ┆      ┆            ┆   ┆            ┆            ┆ 78        ┆           │\n",
      "│ 6         ┆ at the     ┆ 2018 ┆ 2          ┆ … ┆ Easy       ┆ 4.0        ┆ 1598.1246 ┆ 0.550645  │\n",
      "│           ┆ store      ┆      ┆            ┆   ┆            ┆            ┆ 25        ┆           │\n",
      "│ 6         ┆ at the     ┆ 2019 ┆ 3          ┆ … ┆ Easy       ┆ 4.0        ┆ 2721.8888 ┆ 0.44087   │\n",
      "│           ┆ store      ┆      ┆            ┆   ┆            ┆            ┆ 98        ┆           │\n",
      "│ 6         ┆ by phone   ┆ 2017 ┆ 1          ┆ … ┆ Easy       ┆ 1.0        ┆ 1562.2194 ┆ 0.256046  │\n",
      "│           ┆            ┆      ┆            ┆   ┆            ┆            ┆ 78        ┆           │\n",
      "│ 6         ┆ by phone   ┆ 2018 ┆ 3          ┆ … ┆ Easy       ┆ 1.0        ┆ 1598.1246 ┆ 0.550645  │\n",
      "│           ┆            ┆      ┆            ┆   ┆            ┆            ┆ 25        ┆           │\n",
      "│ …         ┆ …          ┆ …    ┆ …          ┆ … ┆ …          ┆ …          ┆ …         ┆ …         │\n",
      "│ 2274517   ┆ at the     ┆ 2018 ┆ 5          ┆ … ┆ Difficult  ┆ 4.0        ┆ 7865.8310 ┆ 0.305117  │\n",
      "│           ┆ store      ┆      ┆            ┆   ┆            ┆            ┆ 75        ┆           │\n",
      "│ 2274517   ┆ at the     ┆ 2019 ┆ 5          ┆ … ┆ Difficult  ┆ 4.0        ┆ 4518.3367 ┆ 0.460346  │\n",
      "│           ┆ store      ┆      ┆            ┆   ┆            ┆            ┆ 6         ┆           │\n",
      "│ 2274517   ┆ by phone   ┆ 2017 ┆ 4          ┆ … ┆ Difficult  ┆ 2.0        ┆ 4773.7670 ┆ 0.268132  │\n",
      "│           ┆            ┆      ┆            ┆   ┆            ┆            ┆ 83        ┆           │\n",
      "│ 2274517   ┆ by phone   ┆ 2018 ┆ 5          ┆ … ┆ Difficult  ┆ 2.0        ┆ 7865.8310 ┆ 0.305117  │\n",
      "│           ┆            ┆      ┆            ┆   ┆            ┆            ┆ 75        ┆           │\n",
      "│ 2274517   ┆ by phone   ┆ 2019 ┆ 3          ┆ … ┆ Difficult  ┆ 2.0        ┆ 4518.3367 ┆ 0.460346  │\n",
      "│           ┆            ┆      ┆            ┆   ┆            ┆            ┆ 6         ┆           │\n",
      "└───────────┴────────────┴──────┴────────────┴───┴────────────┴────────────┴───────────┴───────────┘\n"
     ]
    },
    {
     "name": "stderr",
     "output_type": "stream",
     "text": [
      "C:\\Users\\DELL\\AppData\\Local\\Temp\\ipykernel_8524\\91879695.py:2: DeprecationWarning: The default coalesce behavior of left join will change to `False` in the next breaking release. Pass `coalesce=True` to keep the current behavior and silence this warning.\n",
      "  sorted_sales_by_customer_channel_year = sorted_sales_by_customer_channel_year.join(gamma_coefficient_df, on=[\"client_id\", \"year\"], how=\"left\")\n"
     ]
    }
   ],
   "source": [
    "# Join the gamma_coefficient_df with sorted_sales_by_customer_channel_year to add the gamma coefficient\n",
    "sorted_sales_by_customer_channel_year = sorted_sales_by_customer_channel_year.join(gamma_coefficient_df, on=[\"client_id\", \"year\"], how=\"left\")\n",
    "\n",
    "# Display the result\n",
    "print(sorted_sales_by_customer_channel_year)\n"
   ]
  },
  {
   "cell_type": "code",
   "execution_count": 93,
   "metadata": {},
   "outputs": [
    {
     "name": "stdout",
     "output_type": "stream",
     "text": [
      "shape: (646_580, 11)\n",
      "┌───────────┬────────────┬──────┬────────────┬───┬────────────┬────────────┬───────────┬───────────┐\n",
      "│ client_id ┆ order_chan ┆ year ┆ sales_coun ┆ … ┆ client_cat ┆ sale_time_ ┆ total_net ┆ gamma_coe │\n",
      "│ ---       ┆ nel        ┆ ---  ┆ t          ┆   ┆ egory      ┆ spent      ┆ _annual_s ┆ fficient  │\n",
      "│ i64       ┆ ---        ┆ i32  ┆ ---        ┆   ┆ ---        ┆ ---        ┆ ales      ┆ ---       │\n",
      "│           ┆ str        ┆      ┆ u32        ┆   ┆ str        ┆ f64        ┆ ---       ┆ f64       │\n",
      "│           ┆            ┆      ┆            ┆   ┆            ┆            ┆ f64       ┆           │\n",
      "╞═══════════╪════════════╪══════╪════════════╪═══╪════════════╪════════════╪═══════════╪═══════════╡\n",
      "│ 6         ┆ at the     ┆ 2017 ┆ 1          ┆ … ┆ Easy       ┆ 4.0        ┆ 1562.2194 ┆ 0.256046  │\n",
      "│           ┆ store      ┆      ┆            ┆   ┆            ┆            ┆ 78        ┆           │\n",
      "│ 6         ┆ at the     ┆ 2018 ┆ 2          ┆ … ┆ Easy       ┆ 4.0        ┆ 1598.1246 ┆ 0.550645  │\n",
      "│           ┆ store      ┆      ┆            ┆   ┆            ┆            ┆ 25        ┆           │\n",
      "│ 6         ┆ at the     ┆ 2019 ┆ 3          ┆ … ┆ Easy       ┆ 4.0        ┆ 2721.8888 ┆ 0.44087   │\n",
      "│           ┆ store      ┆      ┆            ┆   ┆            ┆            ┆ 98        ┆           │\n",
      "│ 6         ┆ by phone   ┆ 2017 ┆ 1          ┆ … ┆ Easy       ┆ 1.0        ┆ 1562.2194 ┆ 0.256046  │\n",
      "│           ┆            ┆      ┆            ┆   ┆            ┆            ┆ 78        ┆           │\n",
      "│ 6         ┆ by phone   ┆ 2018 ┆ 3          ┆ … ┆ Easy       ┆ 1.0        ┆ 1598.1246 ┆ 0.550645  │\n",
      "│           ┆            ┆      ┆            ┆   ┆            ┆            ┆ 25        ┆           │\n",
      "│ …         ┆ …          ┆ …    ┆ …          ┆ … ┆ …          ┆ …          ┆ …         ┆ …         │\n",
      "│ 2274517   ┆ at the     ┆ 2018 ┆ 5          ┆ … ┆ Difficult  ┆ 4.0        ┆ 7865.8310 ┆ 0.305117  │\n",
      "│           ┆ store      ┆      ┆            ┆   ┆            ┆            ┆ 75        ┆           │\n",
      "│ 2274517   ┆ at the     ┆ 2019 ┆ 5          ┆ … ┆ Difficult  ┆ 4.0        ┆ 4518.3367 ┆ 0.460346  │\n",
      "│           ┆ store      ┆      ┆            ┆   ┆            ┆            ┆ 6         ┆           │\n",
      "│ 2274517   ┆ by phone   ┆ 2017 ┆ 4          ┆ … ┆ Difficult  ┆ 2.0        ┆ 4773.7670 ┆ 0.268132  │\n",
      "│           ┆            ┆      ┆            ┆   ┆            ┆            ┆ 83        ┆           │\n",
      "│ 2274517   ┆ by phone   ┆ 2018 ┆ 5          ┆ … ┆ Difficult  ┆ 2.0        ┆ 7865.8310 ┆ 0.305117  │\n",
      "│           ┆            ┆      ┆            ┆   ┆            ┆            ┆ 75        ┆           │\n",
      "│ 2274517   ┆ by phone   ┆ 2019 ┆ 3          ┆ … ┆ Difficult  ┆ 2.0        ┆ 4518.3367 ┆ 0.460346  │\n",
      "│           ┆            ┆      ┆            ┆   ┆            ┆            ┆ 6         ┆           │\n",
      "└───────────┴────────────┴──────┴────────────┴───┴────────────┴────────────┴───────────┴───────────┘\n"
     ]
    }
   ],
   "source": [
    "# Calculate the total sales for each client\n",
    "print(sorted_sales_by_customer_channel_year)\n"
   ]
  },
  {
   "cell_type": "code",
   "execution_count": 95,
   "metadata": {},
   "outputs": [
    {
     "name": "stdout",
     "output_type": "stream",
     "text": [
      "shape: (646_580, 12)\n",
      "┌───────────┬────────────┬──────┬────────────┬───┬────────────┬────────────┬───────────┬───────────┐\n",
      "│ client_id ┆ order_chan ┆ year ┆ sales_coun ┆ … ┆ sale_time_ ┆ total_net_ ┆ gamma_coe ┆ profitabi │\n",
      "│ ---       ┆ nel        ┆ ---  ┆ t          ┆   ┆ spent      ┆ annual_sal ┆ fficient  ┆ lity_inde │\n",
      "│ i64       ┆ ---        ┆ i32  ┆ ---        ┆   ┆ ---        ┆ es         ┆ ---       ┆ x         │\n",
      "│           ┆ str        ┆      ┆ u32        ┆   ┆ f64        ┆ ---        ┆ f64       ┆ ---       │\n",
      "│           ┆            ┆      ┆            ┆   ┆            ┆ f64        ┆           ┆ f64       │\n",
      "╞═══════════╪════════════╪══════╪════════════╪═══╪════════════╪════════════╪═══════════╪═══════════╡\n",
      "│ 6         ┆ at the     ┆ 2017 ┆ 1          ┆ … ┆ 4.0        ┆ 1562.21947 ┆ 0.256046  ┆ 74.395403 │\n",
      "│           ┆ store      ┆      ┆            ┆   ┆            ┆ 8          ┆           ┆           │\n",
      "│ 6         ┆ at the     ┆ 2018 ┆ 2          ┆ … ┆ 4.0        ┆ 1598.12462 ┆ 0.550645  ┆ 44.935458 │\n",
      "│           ┆ store      ┆      ┆            ┆   ┆            ┆ 5          ┆           ┆           │\n",
      "│ 6         ┆ at the     ┆ 2019 ┆ 3          ┆ … ┆ 4.0        ┆ 2721.88889 ┆ 0.44087   ┆ 55.912969 │\n",
      "│           ┆ store      ┆      ┆            ┆   ┆            ┆ 8          ┆           ┆           │\n",
      "│ 6         ┆ by phone   ┆ 2017 ┆ 1          ┆ … ┆ 1.0        ┆ 1562.21947 ┆ 0.256046  ┆ 74.395403 │\n",
      "│           ┆            ┆      ┆            ┆   ┆            ┆ 8          ┆           ┆           │\n",
      "│ 6         ┆ by phone   ┆ 2018 ┆ 3          ┆ … ┆ 1.0        ┆ 1598.12462 ┆ 0.550645  ┆ 44.935458 │\n",
      "│           ┆            ┆      ┆            ┆   ┆            ┆ 5          ┆           ┆           │\n",
      "│ …         ┆ …          ┆ …    ┆ …          ┆ … ┆ …          ┆ …          ┆ …         ┆ …         │\n",
      "│ 2274517   ┆ at the     ┆ 2018 ┆ 5          ┆ … ┆ 4.0        ┆ 7865.83107 ┆ 0.305117  ┆ 69.488284 │\n",
      "│           ┆ store      ┆      ┆            ┆   ┆            ┆ 5          ┆           ┆           │\n",
      "│ 2274517   ┆ at the     ┆ 2019 ┆ 5          ┆ … ┆ 4.0        ┆ 4518.33676 ┆ 0.460346  ┆ 53.965361 │\n",
      "│           ┆ store      ┆      ┆            ┆   ┆            ┆            ┆           ┆           │\n",
      "│ 2274517   ┆ by phone   ┆ 2017 ┆ 4          ┆ … ┆ 2.0        ┆ 4773.76708 ┆ 0.268132  ┆ 73.186794 │\n",
      "│           ┆            ┆      ┆            ┆   ┆            ┆ 3          ┆           ┆           │\n",
      "│ 2274517   ┆ by phone   ┆ 2018 ┆ 5          ┆ … ┆ 2.0        ┆ 7865.83107 ┆ 0.305117  ┆ 69.488284 │\n",
      "│           ┆            ┆      ┆            ┆   ┆            ┆ 5          ┆           ┆           │\n",
      "│ 2274517   ┆ by phone   ┆ 2019 ┆ 3          ┆ … ┆ 2.0        ┆ 4518.33676 ┆ 0.460346  ┆ 53.965361 │\n",
      "└───────────┴────────────┴──────┴────────────┴───┴────────────┴────────────┴───────────┴───────────┘\n"
     ]
    }
   ],
   "source": [
    "# Add profitability index column\n",
    "sorted_sales_by_customer_channel_year = sorted_sales_by_customer_channel_year.with_columns(\n",
    "    (100 - (pl.col(\"gamma_coefficient\") * 100)).alias(\"profitability_index\")\n",
    ")\n",
    "\n",
    "# Display the result\n",
    "print(sorted_sales_by_customer_channel_year)"
   ]
  },
  {
   "cell_type": "code",
   "execution_count": 97,
   "metadata": {},
   "outputs": [
    {
     "name": "stdout",
     "output_type": "stream",
     "text": [
      "shape: (646_580, 12)\n",
      "┌───────────┬────────────┬──────┬────────────┬───┬────────────┬────────────┬───────────┬───────────┐\n",
      "│ client_id ┆ order_chan ┆ year ┆ sales_coun ┆ … ┆ sale_time_ ┆ total_net_ ┆ gamma_coe ┆ profitabi │\n",
      "│ ---       ┆ nel        ┆ ---  ┆ t          ┆   ┆ spent      ┆ annual_sal ┆ fficient  ┆ lity_inde │\n",
      "│ i64       ┆ ---        ┆ i32  ┆ ---        ┆   ┆ ---        ┆ es         ┆ ---       ┆ x         │\n",
      "│           ┆ str        ┆      ┆ u32        ┆   ┆ f64        ┆ ---        ┆ f64       ┆ ---       │\n",
      "│           ┆            ┆      ┆            ┆   ┆            ┆ f64        ┆           ┆ f64       │\n",
      "╞═══════════╪════════════╪══════╪════════════╪═══╪════════════╪════════════╪═══════════╪═══════════╡\n",
      "│ 6         ┆ by phone   ┆ 2017 ┆ 1          ┆ … ┆ 1.0        ┆ 1562.21947 ┆ 0.256046  ┆ 74.395403 │\n",
      "│           ┆            ┆      ┆            ┆   ┆            ┆ 8          ┆           ┆           │\n",
      "│ 6         ┆ at the     ┆ 2017 ┆ 1          ┆ … ┆ 4.0        ┆ 1562.21947 ┆ 0.256046  ┆ 74.395403 │\n",
      "│           ┆ store      ┆      ┆            ┆   ┆            ┆ 8          ┆           ┆           │\n",
      "│ 6         ┆ at the     ┆ 2018 ┆ 2          ┆ … ┆ 4.0        ┆ 1598.12462 ┆ 0.550645  ┆ 44.935458 │\n",
      "│           ┆ store      ┆      ┆            ┆   ┆            ┆ 5          ┆           ┆           │\n",
      "│ 6         ┆ by phone   ┆ 2018 ┆ 3          ┆ … ┆ 1.0        ┆ 1598.12462 ┆ 0.550645  ┆ 44.935458 │\n",
      "│           ┆            ┆      ┆            ┆   ┆            ┆ 5          ┆           ┆           │\n",
      "│ 6         ┆ at the     ┆ 2019 ┆ 3          ┆ … ┆ 4.0        ┆ 2721.88889 ┆ 0.44087   ┆ 55.912969 │\n",
      "│           ┆ store      ┆      ┆            ┆   ┆            ┆ 8          ┆           ┆           │\n",
      "│ …         ┆ …          ┆ …    ┆ …          ┆ … ┆ …          ┆ …          ┆ …         ┆ …         │\n",
      "│ 2274517   ┆ by phone   ┆ 2017 ┆ 4          ┆ … ┆ 2.0        ┆ 4773.76708 ┆ 0.268132  ┆ 73.186794 │\n",
      "│           ┆            ┆      ┆            ┆   ┆            ┆ 3          ┆           ┆           │\n",
      "│ 2274517   ┆ at the     ┆ 2018 ┆ 5          ┆ … ┆ 4.0        ┆ 7865.83107 ┆ 0.305117  ┆ 69.488284 │\n",
      "│           ┆ store      ┆      ┆            ┆   ┆            ┆ 5          ┆           ┆           │\n",
      "│ 2274517   ┆ by phone   ┆ 2018 ┆ 5          ┆ … ┆ 2.0        ┆ 7865.83107 ┆ 0.305117  ┆ 69.488284 │\n",
      "│           ┆            ┆      ┆            ┆   ┆            ┆ 5          ┆           ┆           │\n",
      "│ 2274517   ┆ at the     ┆ 2019 ┆ 5          ┆ … ┆ 4.0        ┆ 4518.33676 ┆ 0.460346  ┆ 53.965361 │\n",
      "│           ┆ store      ┆      ┆            ┆   ┆            ┆            ┆           ┆           │\n",
      "│ 2274517   ┆ by phone   ┆ 2019 ┆ 3          ┆ … ┆ 2.0        ┆ 4518.33676 ┆ 0.460346  ┆ 53.965361 │\n",
      "└───────────┴────────────┴──────┴────────────┴───┴────────────┴────────────┴───────────┴───────────┘\n"
     ]
    }
   ],
   "source": [
    "# Sort the dataframe by client_id, year, and profitability_index in descending order\n",
    "sorted_sales_by_customer_channel_year = sorted_sales_by_customer_channel_year.sort(\n",
    "    [\"client_id\", \"year\", \"profitability_index\"]\n",
    ")\n",
    "\n",
    "# Display the sorted dataframe\n",
    "print(sorted_sales_by_customer_channel_year)"
   ]
  },
  {
   "cell_type": "code",
   "execution_count": 100,
   "metadata": {},
   "outputs": [
    {
     "name": "stdout",
     "output_type": "stream",
     "text": [
      "shape: (161_022, 12)\n",
      "┌───────────┬────────────┬──────┬────────────┬───┬────────────┬────────────┬───────────┬───────────┐\n",
      "│ client_id ┆ order_chan ┆ year ┆ sales_coun ┆ … ┆ sale_time_ ┆ total_net_ ┆ gamma_coe ┆ profitabi │\n",
      "│ ---       ┆ nel        ┆ ---  ┆ t          ┆   ┆ spent      ┆ annual_sal ┆ fficient  ┆ lity_inde │\n",
      "│ i64       ┆ ---        ┆ i32  ┆ ---        ┆   ┆ ---        ┆ es         ┆ ---       ┆ x         │\n",
      "│           ┆ str        ┆      ┆ u32        ┆   ┆ f64        ┆ ---        ┆ f64       ┆ ---       │\n",
      "│           ┆            ┆      ┆            ┆   ┆            ┆ f64        ┆           ┆ f64       │\n",
      "╞═══════════╪════════════╪══════╪════════════╪═══╪════════════╪════════════╪═══════════╪═══════════╡\n",
      "│ 37        ┆ at the     ┆ 2019 ┆ 5          ┆ … ┆ 4.0        ┆ 950.259862 ┆ 1.68375   ┆ -68.37499 │\n",
      "│           ┆ store      ┆      ┆            ┆   ┆            ┆            ┆           ┆ 6         │\n",
      "│ 43        ┆ by phone   ┆ 2019 ┆ 1          ┆ … ┆ 2.0        ┆ 99.5532    ┆ 1.607181  ┆ -60.71808 │\n",
      "│           ┆            ┆      ┆            ┆   ┆            ┆            ┆           ┆ 8         │\n",
      "│ 56        ┆ at the     ┆ 2019 ┆ 7          ┆ … ┆ 4.0        ┆ 1849.79593 ┆ 1.210944  ┆ -21.09443 │\n",
      "│           ┆ store      ┆      ┆            ┆   ┆            ┆ 5          ┆           ┆ 8         │\n",
      "│ 60        ┆ at the     ┆ 2019 ┆ 1          ┆ … ┆ 4.0        ┆ 0.0        ┆ inf       ┆ -inf      │\n",
      "│           ┆ store      ┆      ┆            ┆   ┆            ┆            ┆           ┆           │\n",
      "│ 60        ┆ by phone   ┆ 2019 ┆ 1          ┆ … ┆ 2.0        ┆ 0.0        ┆ inf       ┆ -inf      │\n",
      "│ …         ┆ …          ┆ …    ┆ …          ┆ … ┆ …          ┆ …          ┆ …         ┆ …         │\n",
      "│ 2274440   ┆ by phone   ┆ 2019 ┆ 3          ┆ … ┆ 2.0        ┆ 2934.21524 ┆ 1.14511   ┆ -14.51102 │\n",
      "│           ┆            ┆      ┆            ┆   ┆            ┆ 8          ┆           ┆ 6         │\n",
      "│ 2274479   ┆ at the     ┆ 2017 ┆ 1          ┆ … ┆ 4.0        ┆ 77.2248    ┆ 4.143747  ┆ -314.3746 │\n",
      "│           ┆ store      ┆      ┆            ┆   ┆            ┆            ┆           ┆ 57        │\n",
      "│ 2274504   ┆ at the     ┆ 2017 ┆ 1          ┆ … ┆ 4.0        ┆ 88.4856    ┆ 3.616408  ┆ -261.6407 │\n",
      "│           ┆ store      ┆      ┆            ┆   ┆            ┆            ┆           ┆ 64        │\n",
      "│ 2274504   ┆ by phone   ┆ 2019 ┆ 1          ┆ … ┆ 2.0        ┆ 24.771     ┆ 6.459166  ┆ -545.9165 │\n",
      "│           ┆            ┆      ┆            ┆   ┆            ┆            ┆           ┆ 96        │\n",
      "│ 2274508   ┆ at the     ┆ 2017 ┆ 1          ┆ … ┆ 4.0        ┆ -1.7764e-1 ┆ -1.8014e1 ┆ 1.8014e19 │\n",
      "│           ┆ store      ┆      ┆            ┆   ┆            ┆ 5          ┆ 7         ┆           │\n",
      "└───────────┴────────────┴──────┴────────────┴───┴────────────┴────────────┴───────────┴───────────┘\n"
     ]
    }
   ],
   "source": [
    "print(sorted_sales_by_customer_channel_year.filter((pl.col(\"profitability_index\") > 100) | (pl.col(\"profitability_index\") < 0)))"
   ]
  },
  {
   "cell_type": "code",
   "execution_count": 101,
   "metadata": {},
   "outputs": [],
   "source": [
    "# Save the sorted_sales_by_customer_channel_year dataframe to a CSV file\n",
    "sorted_sales_by_customer_channel_year.write_csv(\"sorted_sales_by_customer_channel_year.csv\")"
   ]
  },
  {
   "cell_type": "markdown",
   "metadata": {},
   "source": [
    "## 🔍 Step 2: Exploratory Data Analysis (EDA)"
   ]
  },
  {
   "cell_type": "code",
   "execution_count": 4,
   "metadata": {},
   "outputs": [
    {
     "name": "stdout",
     "output_type": "stream",
     "text": [
      "(63319315, 8)\n",
      "shape: (5, 8)\n",
      "┌────────────┬────────────┬────────────┬───────────┬───────────┬──────────┬────────────┬───────────┐\n",
      "│ date_order ┆ date_invoi ┆ product_id ┆ client_id ┆ sales_net ┆ quantity ┆ order_chan ┆ branch_id │\n",
      "│ ---        ┆ ce         ┆ ---        ┆ ---       ┆ ---       ┆ ---      ┆ nel        ┆ ---       │\n",
      "│ date       ┆ ---        ┆ i64        ┆ i64       ┆ f64       ┆ i64      ┆ ---        ┆ i64       │\n",
      "│            ┆ date       ┆            ┆           ┆           ┆          ┆ str        ┆           │\n",
      "╞════════════╪════════════╪════════════╪═══════════╪═══════════╪══════════╪════════════╪═══════════╡\n",
      "│ 2017-09-25 ┆ 2017-09-25 ┆ 2376333    ┆ 188502    ┆ 155.4432  ┆ 3        ┆ online     ┆ 2732      │\n",
      "│ 2017-09-25 ┆ 2017-09-25 ┆ 2520527    ┆ 835089    ┆ 16.3944   ┆ 3        ┆ at the     ┆ 10279     │\n",
      "│            ┆            ┆            ┆           ┆           ┆          ┆ store      ┆           │\n",
      "│ 2017-09-25 ┆ 2017-09-25 ┆ 2536756    ┆ 1977896   ┆ 365.76624 ┆ 21       ┆ online     ┆ 6184      │\n",
      "│ 2017-09-25 ┆ 2017-09-25 ┆ 3028673    ┆ 598816    ┆ 8.59878   ┆ 201      ┆ at the     ┆ 4200      │\n",
      "│            ┆            ┆            ┆           ┆           ┆          ┆ store      ┆           │\n",
      "│ 2017-09-25 ┆ 2017-09-25 ┆ 203377     ┆ 2086861   ┆ 1093.374  ┆ 3        ┆ by phone   ┆ 7051      │\n",
      "└────────────┴────────────┴────────────┴───────────┴───────────┴──────────┴────────────┴───────────┘\n"
     ]
    }
   ],
   "source": [
    "# Check memory usage and first rows\n",
    "print(df.shape)\n",
    "print(df.head())"
   ]
  },
  {
   "cell_type": "code",
   "execution_count": 5,
   "metadata": {},
   "outputs": [
    {
     "name": "stdout",
     "output_type": "stream",
     "text": [
      "shape: (9, 9)\n",
      "┌───────────┬───────────┬───────────┬───────────┬───┬───────────┬───────────┬───────────┬──────────┐\n",
      "│ statistic ┆ date_orde ┆ date_invo ┆ product_i ┆ … ┆ sales_net ┆ quantity  ┆ order_cha ┆ branch_i │\n",
      "│ ---       ┆ r         ┆ ice       ┆ d         ┆   ┆ ---       ┆ ---       ┆ nnel      ┆ d        │\n",
      "│ str       ┆ ---       ┆ ---       ┆ ---       ┆   ┆ f64       ┆ f64       ┆ ---       ┆ ---      │\n",
      "│           ┆ str       ┆ str       ┆ f64       ┆   ┆           ┆           ┆ str       ┆ f64      │\n",
      "╞═══════════╪═══════════╪═══════════╪═══════════╪═══╪═══════════╪═══════════╪═══════════╪══════════╡\n",
      "│ count     ┆ 63319315  ┆ 63319314  ┆ 6.3319315 ┆ … ┆ 6.3319315 ┆ 6.3319315 ┆ 63319315  ┆ 6.331931 │\n",
      "│           ┆           ┆           ┆ e7        ┆   ┆ e7        ┆ e7        ┆           ┆ 5e7      │\n",
      "│ null_coun ┆ 0         ┆ 1         ┆ 0.0       ┆ … ┆ 0.0       ┆ 0.0       ┆ 0         ┆ 0.0      │\n",
      "│ t         ┆           ┆           ┆           ┆   ┆           ┆           ┆           ┆          │\n",
      "│ mean      ┆ 2018-09-2 ┆ 2018-09-2 ┆ 1.6323e6  ┆ … ┆ 147.94159 ┆ 92.156583 ┆ null      ┆ 5466.713 │\n",
      "│           ┆ 1         ┆ 6         ┆           ┆   ┆ 2         ┆           ┆           ┆ 661      │\n",
      "│ std       ┆ null      ┆ null      ┆ 918452.40 ┆ … ┆ 864.65482 ┆ 867.48008 ┆ null      ┆ 3175.258 │\n",
      "│           ┆           ┆           ┆ 2853      ┆   ┆           ┆           ┆           ┆ 392      │\n",
      "│ min       ┆ 2017-09-2 ┆ 2016-10-1 ┆ 15.0      ┆ … ┆ -1.7388e6 ┆ 3.0       ┆ at the    ┆ 20.0     │\n",
      "│           ┆ 2         ┆ 2         ┆           ┆   ┆           ┆           ┆ store     ┆          │\n",
      "│ 25%       ┆ 2018-03-1 ┆ 2018-03-2 ┆ 851737.0  ┆ … ┆ 14.146533 ┆ 3.0       ┆ null      ┆ 2907.0   │\n",
      "│           ┆ 9         ┆ 2         ┆           ┆   ┆           ┆           ┆           ┆          │\n",
      "│ 50%       ┆ 2018-09-2 ┆ 2018-09-2 ┆ 1.621731e ┆ … ┆ 44.2428   ┆ 5.0       ┆ null      ┆ 5226.0   │\n",
      "│           ┆ 1         ┆ 7         ┆ 6         ┆   ┆           ┆           ┆           ┆          │\n",
      "│ 75%       ┆ 2019-03-2 ┆ 2019-03-2 ┆ 2.434262e ┆ … ┆ 131.468   ┆ 21.0      ┆ null      ┆ 8361.0   │\n",
      "│           ┆ 1         ┆ 6         ┆ 6         ┆   ┆           ┆           ┆           ┆          │\n",
      "│ max       ┆ 2019-09-2 ┆ 2021-07-1 ┆ 3.238833e ┆ … ┆ 1.740456e ┆ 198001.0  ┆ other     ┆ 11057.0  │\n",
      "│           ┆ 2         ┆ 3         ┆ 6         ┆   ┆ 6         ┆           ┆           ┆          │\n",
      "└───────────┴───────────┴───────────┴───────────┴───┴───────────┴───────────┴───────────┴──────────┘\n"
     ]
    }
   ],
   "source": [
    "# Summary statistics\n",
    "print(df.describe())\n"
   ]
  },
  {
   "cell_type": "code",
   "execution_count": 6,
   "metadata": {},
   "outputs": [
    {
     "name": "stdout",
     "output_type": "stream",
     "text": [
      "shape: (1, 8)\n",
      "┌────────────┬────────────┬────────────┬───────────┬───────────┬──────────┬────────────┬───────────┐\n",
      "│ date_order ┆ date_invoi ┆ product_id ┆ client_id ┆ sales_net ┆ quantity ┆ order_chan ┆ branch_id │\n",
      "│ ---        ┆ ce         ┆ ---        ┆ ---       ┆ ---       ┆ ---      ┆ nel        ┆ ---       │\n",
      "│ u32        ┆ ---        ┆ u32        ┆ u32       ┆ u32       ┆ u32      ┆ ---        ┆ u32       │\n",
      "│            ┆ u32        ┆            ┆           ┆           ┆          ┆ u32        ┆           │\n",
      "╞════════════╪════════════╪════════════╪═══════════╪═══════════╪══════════╪════════════╪═══════════╡\n",
      "│ 0          ┆ 1          ┆ 0          ┆ 0         ┆ 0         ┆ 0        ┆ 0          ┆ 0         │\n",
      "└────────────┴────────────┴────────────┴───────────┴───────────┴──────────┴────────────┴───────────┘\n"
     ]
    }
   ],
   "source": [
    "\n",
    "# Check missing values\n",
    "missing_values = df.null_count()\n",
    "print(missing_values)"
   ]
  },
  {
   "cell_type": "code",
   "execution_count": 7,
   "metadata": {},
   "outputs": [],
   "source": [
    "# Fill missing invoice dates with estimated order date + 5 days (we could later on refine this estimate)\n",
    "df = df.with_columns(\n",
    "    pl.when(pl.col(\"date_invoice\").is_null())\n",
    "      .then(pl.col(\"date_order\") + pl.duration(days=5))\n",
    "      .otherwise(pl.col(\"date_invoice\"))\n",
    "      .alias(\"date_invoice\")\n",
    ")"
   ]
  },
  {
   "cell_type": "code",
   "execution_count": 8,
   "metadata": {},
   "outputs": [
    {
     "name": "stdout",
     "output_type": "stream",
     "text": [
      "shape: (1, 8)\n",
      "┌────────────┬────────────┬────────────┬───────────┬───────────┬──────────┬────────────┬───────────┐\n",
      "│ date_order ┆ date_invoi ┆ product_id ┆ client_id ┆ sales_net ┆ quantity ┆ order_chan ┆ branch_id │\n",
      "│ ---        ┆ ce         ┆ ---        ┆ ---       ┆ ---       ┆ ---      ┆ nel        ┆ ---       │\n",
      "│ u32        ┆ ---        ┆ u32        ┆ u32       ┆ u32       ┆ u32      ┆ ---        ┆ u32       │\n",
      "│            ┆ u32        ┆            ┆           ┆           ┆          ┆ u32        ┆           │\n",
      "╞════════════╪════════════╪════════════╪═══════════╪═══════════╪══════════╪════════════╪═══════════╡\n",
      "│ 0          ┆ 0          ┆ 0          ┆ 0         ┆ 0         ┆ 0        ┆ 0          ┆ 0         │\n",
      "└────────────┴────────────┴────────────┴───────────┴───────────┴──────────┴────────────┴───────────┘\n"
     ]
    }
   ],
   "source": [
    "\n",
    "# Check missing values\n",
    "missing_values = df.null_count()\n",
    "print(missing_values)"
   ]
  },
  {
   "cell_type": "code",
   "execution_count": 9,
   "metadata": {},
   "outputs": [
    {
     "name": "stdout",
     "output_type": "stream",
     "text": [
      "shape: (5, 2)\n",
      "┌─────────────────────────────────┬──────────┐\n",
      "│ order_channel                   ┆ count    │\n",
      "│ ---                             ┆ ---      │\n",
      "│ str                             ┆ u32      │\n",
      "╞═════════════════════════════════╪══════════╡\n",
      "│ during the visit of a sales re… ┆ 29313    │\n",
      "│ other                           ┆ 58735    │\n",
      "│ at the store                    ┆ 32114196 │\n",
      "│ online                          ┆ 5651866  │\n",
      "│ by phone                        ┆ 25465205 │\n",
      "└─────────────────────────────────┴──────────┘\n"
     ]
    }
   ],
   "source": [
    "\n",
    "# Distribution of order channels\n",
    "print(df[\"order_channel\"].value_counts())\n"
   ]
  },
  {
   "cell_type": "markdown",
   "metadata": {},
   "source": []
  },
  {
   "cell_type": "code",
   "execution_count": null,
   "metadata": {},
   "outputs": [
    {
     "ename": "KeyboardInterrupt",
     "evalue": "",
     "output_type": "error",
     "traceback": [
      "\u001b[1;31m---------------------------------------------------------------------------\u001b[0m",
      "\u001b[1;31mKeyboardInterrupt\u001b[0m                         Traceback (most recent call last)",
      "Cell \u001b[1;32mIn[10], line 9\u001b[0m\n\u001b[0;32m      6\u001b[0m df_pd \u001b[38;5;241m=\u001b[39m df\u001b[38;5;241m.\u001b[39mto_pandas()\n\u001b[0;32m      8\u001b[0m \u001b[38;5;66;03m# Plot the distribution of a column\u001b[39;00m\n\u001b[1;32m----> 9\u001b[0m \u001b[43msns\u001b[49m\u001b[38;5;241;43m.\u001b[39;49m\u001b[43mhistplot\u001b[49m\u001b[43m(\u001b[49m\u001b[43mdf_pd\u001b[49m\u001b[43m[\u001b[49m\u001b[38;5;124;43m'\u001b[39;49m\u001b[38;5;124;43msales_net\u001b[39;49m\u001b[38;5;124;43m'\u001b[39;49m\u001b[43m]\u001b[49m\u001b[43m)\u001b[49m\n\u001b[0;32m     10\u001b[0m plt\u001b[38;5;241m.\u001b[39mshow()\n\u001b[0;32m     12\u001b[0m \u001b[38;5;66;03m# Correlation heatmap\u001b[39;00m\n",
      "File \u001b[1;32mc:\\Users\\DELL\\AppData\\Local\\Programs\\Python\\Python312\\Lib\\site-packages\\seaborn\\distributions.py:1416\u001b[0m, in \u001b[0;36mhistplot\u001b[1;34m(data, x, y, hue, weights, stat, bins, binwidth, binrange, discrete, cumulative, common_bins, common_norm, multiple, element, fill, shrink, kde, kde_kws, line_kws, thresh, pthresh, pmax, cbar, cbar_ax, cbar_kws, palette, hue_order, hue_norm, color, log_scale, legend, ax, **kwargs)\u001b[0m\n\u001b[0;32m   1405\u001b[0m estimate_kws \u001b[38;5;241m=\u001b[39m \u001b[38;5;28mdict\u001b[39m(\n\u001b[0;32m   1406\u001b[0m     stat\u001b[38;5;241m=\u001b[39mstat,\n\u001b[0;32m   1407\u001b[0m     bins\u001b[38;5;241m=\u001b[39mbins,\n\u001b[1;32m   (...)\u001b[0m\n\u001b[0;32m   1411\u001b[0m     cumulative\u001b[38;5;241m=\u001b[39mcumulative,\n\u001b[0;32m   1412\u001b[0m )\n\u001b[0;32m   1414\u001b[0m \u001b[38;5;28;01mif\u001b[39;00m p\u001b[38;5;241m.\u001b[39munivariate:\n\u001b[1;32m-> 1416\u001b[0m     \u001b[43mp\u001b[49m\u001b[38;5;241;43m.\u001b[39;49m\u001b[43mplot_univariate_histogram\u001b[49m\u001b[43m(\u001b[49m\n\u001b[0;32m   1417\u001b[0m \u001b[43m        \u001b[49m\u001b[43mmultiple\u001b[49m\u001b[38;5;241;43m=\u001b[39;49m\u001b[43mmultiple\u001b[49m\u001b[43m,\u001b[49m\n\u001b[0;32m   1418\u001b[0m \u001b[43m        \u001b[49m\u001b[43melement\u001b[49m\u001b[38;5;241;43m=\u001b[39;49m\u001b[43melement\u001b[49m\u001b[43m,\u001b[49m\n\u001b[0;32m   1419\u001b[0m \u001b[43m        \u001b[49m\u001b[43mfill\u001b[49m\u001b[38;5;241;43m=\u001b[39;49m\u001b[43mfill\u001b[49m\u001b[43m,\u001b[49m\n\u001b[0;32m   1420\u001b[0m \u001b[43m        \u001b[49m\u001b[43mshrink\u001b[49m\u001b[38;5;241;43m=\u001b[39;49m\u001b[43mshrink\u001b[49m\u001b[43m,\u001b[49m\n\u001b[0;32m   1421\u001b[0m \u001b[43m        \u001b[49m\u001b[43mcommon_norm\u001b[49m\u001b[38;5;241;43m=\u001b[39;49m\u001b[43mcommon_norm\u001b[49m\u001b[43m,\u001b[49m\n\u001b[0;32m   1422\u001b[0m \u001b[43m        \u001b[49m\u001b[43mcommon_bins\u001b[49m\u001b[38;5;241;43m=\u001b[39;49m\u001b[43mcommon_bins\u001b[49m\u001b[43m,\u001b[49m\n\u001b[0;32m   1423\u001b[0m \u001b[43m        \u001b[49m\u001b[43mkde\u001b[49m\u001b[38;5;241;43m=\u001b[39;49m\u001b[43mkde\u001b[49m\u001b[43m,\u001b[49m\n\u001b[0;32m   1424\u001b[0m \u001b[43m        \u001b[49m\u001b[43mkde_kws\u001b[49m\u001b[38;5;241;43m=\u001b[39;49m\u001b[43mkde_kws\u001b[49m\u001b[43m,\u001b[49m\n\u001b[0;32m   1425\u001b[0m \u001b[43m        \u001b[49m\u001b[43mcolor\u001b[49m\u001b[38;5;241;43m=\u001b[39;49m\u001b[43mcolor\u001b[49m\u001b[43m,\u001b[49m\n\u001b[0;32m   1426\u001b[0m \u001b[43m        \u001b[49m\u001b[43mlegend\u001b[49m\u001b[38;5;241;43m=\u001b[39;49m\u001b[43mlegend\u001b[49m\u001b[43m,\u001b[49m\n\u001b[0;32m   1427\u001b[0m \u001b[43m        \u001b[49m\u001b[43mestimate_kws\u001b[49m\u001b[38;5;241;43m=\u001b[39;49m\u001b[43mestimate_kws\u001b[49m\u001b[43m,\u001b[49m\n\u001b[0;32m   1428\u001b[0m \u001b[43m        \u001b[49m\u001b[43mline_kws\u001b[49m\u001b[38;5;241;43m=\u001b[39;49m\u001b[43mline_kws\u001b[49m\u001b[43m,\u001b[49m\n\u001b[0;32m   1429\u001b[0m \u001b[43m        \u001b[49m\u001b[38;5;241;43m*\u001b[39;49m\u001b[38;5;241;43m*\u001b[39;49m\u001b[43mkwargs\u001b[49m\u001b[43m,\u001b[49m\n\u001b[0;32m   1430\u001b[0m \u001b[43m    \u001b[49m\u001b[43m)\u001b[49m\n\u001b[0;32m   1432\u001b[0m \u001b[38;5;28;01melse\u001b[39;00m:\n\u001b[0;32m   1434\u001b[0m     p\u001b[38;5;241m.\u001b[39mplot_bivariate_histogram(\n\u001b[0;32m   1435\u001b[0m         common_bins\u001b[38;5;241m=\u001b[39mcommon_bins,\n\u001b[0;32m   1436\u001b[0m         common_norm\u001b[38;5;241m=\u001b[39mcommon_norm,\n\u001b[1;32m   (...)\u001b[0m\n\u001b[0;32m   1446\u001b[0m         \u001b[38;5;241m*\u001b[39m\u001b[38;5;241m*\u001b[39mkwargs,\n\u001b[0;32m   1447\u001b[0m     )\n",
      "File \u001b[1;32mc:\\Users\\DELL\\AppData\\Local\\Programs\\Python\\Python312\\Lib\\site-packages\\seaborn\\distributions.py:571\u001b[0m, in \u001b[0;36m_DistributionPlotter.plot_univariate_histogram\u001b[1;34m(self, multiple, element, fill, common_norm, common_bins, shrink, kde, kde_kws, color, legend, line_kws, estimate_kws, **plot_kws)\u001b[0m\n\u001b[0;32m    566\u001b[0m \u001b[38;5;28;01mif\u001b[39;00m element \u001b[38;5;241m==\u001b[39m \u001b[38;5;124m\"\u001b[39m\u001b[38;5;124mbars\u001b[39m\u001b[38;5;124m\"\u001b[39m:\n\u001b[0;32m    567\u001b[0m \n\u001b[0;32m    568\u001b[0m     \u001b[38;5;66;03m# Use matplotlib bar plotting\u001b[39;00m\n\u001b[0;32m    570\u001b[0m     plot_func \u001b[38;5;241m=\u001b[39m ax\u001b[38;5;241m.\u001b[39mbar \u001b[38;5;28;01mif\u001b[39;00m \u001b[38;5;28mself\u001b[39m\u001b[38;5;241m.\u001b[39mdata_variable \u001b[38;5;241m==\u001b[39m \u001b[38;5;124m\"\u001b[39m\u001b[38;5;124mx\u001b[39m\u001b[38;5;124m\"\u001b[39m \u001b[38;5;28;01melse\u001b[39;00m ax\u001b[38;5;241m.\u001b[39mbarh\n\u001b[1;32m--> 571\u001b[0m     artists \u001b[38;5;241m=\u001b[39m \u001b[43mplot_func\u001b[49m\u001b[43m(\u001b[49m\n\u001b[0;32m    572\u001b[0m \u001b[43m        \u001b[49m\u001b[43mhist\u001b[49m\u001b[43m[\u001b[49m\u001b[38;5;124;43m\"\u001b[39;49m\u001b[38;5;124;43medges\u001b[39;49m\u001b[38;5;124;43m\"\u001b[39;49m\u001b[43m]\u001b[49m\u001b[43m,\u001b[49m\n\u001b[0;32m    573\u001b[0m \u001b[43m        \u001b[49m\u001b[43mhist\u001b[49m\u001b[43m[\u001b[49m\u001b[38;5;124;43m\"\u001b[39;49m\u001b[38;5;124;43mheights\u001b[39;49m\u001b[38;5;124;43m\"\u001b[39;49m\u001b[43m]\u001b[49m\u001b[43m \u001b[49m\u001b[38;5;241;43m-\u001b[39;49m\u001b[43m \u001b[49m\u001b[43mbottom\u001b[49m\u001b[43m,\u001b[49m\n\u001b[0;32m    574\u001b[0m \u001b[43m        \u001b[49m\u001b[43mhist\u001b[49m\u001b[43m[\u001b[49m\u001b[38;5;124;43m\"\u001b[39;49m\u001b[38;5;124;43mwidths\u001b[39;49m\u001b[38;5;124;43m\"\u001b[39;49m\u001b[43m]\u001b[49m\u001b[43m,\u001b[49m\n\u001b[0;32m    575\u001b[0m \u001b[43m        \u001b[49m\u001b[43mbottom\u001b[49m\u001b[43m,\u001b[49m\n\u001b[0;32m    576\u001b[0m \u001b[43m        \u001b[49m\u001b[43malign\u001b[49m\u001b[38;5;241;43m=\u001b[39;49m\u001b[38;5;124;43m\"\u001b[39;49m\u001b[38;5;124;43medge\u001b[39;49m\u001b[38;5;124;43m\"\u001b[39;49m\u001b[43m,\u001b[49m\n\u001b[0;32m    577\u001b[0m \u001b[43m        \u001b[49m\u001b[38;5;241;43m*\u001b[39;49m\u001b[38;5;241;43m*\u001b[39;49m\u001b[43martist_kws\u001b[49m\u001b[43m,\u001b[49m\n\u001b[0;32m    578\u001b[0m \u001b[43m    \u001b[49m\u001b[43m)\u001b[49m\n\u001b[0;32m    580\u001b[0m     \u001b[38;5;28;01mfor\u001b[39;00m bar \u001b[38;5;129;01min\u001b[39;00m artists:\n\u001b[0;32m    581\u001b[0m         \u001b[38;5;28;01mif\u001b[39;00m \u001b[38;5;28mself\u001b[39m\u001b[38;5;241m.\u001b[39mdata_variable \u001b[38;5;241m==\u001b[39m \u001b[38;5;124m\"\u001b[39m\u001b[38;5;124mx\u001b[39m\u001b[38;5;124m\"\u001b[39m:\n",
      "File \u001b[1;32mc:\\Users\\DELL\\AppData\\Local\\Programs\\Python\\Python312\\Lib\\site-packages\\matplotlib\\__init__.py:1473\u001b[0m, in \u001b[0;36m_preprocess_data.<locals>.inner\u001b[1;34m(ax, data, *args, **kwargs)\u001b[0m\n\u001b[0;32m   1470\u001b[0m \u001b[38;5;129m@functools\u001b[39m\u001b[38;5;241m.\u001b[39mwraps(func)\n\u001b[0;32m   1471\u001b[0m \u001b[38;5;28;01mdef\u001b[39;00m \u001b[38;5;21minner\u001b[39m(ax, \u001b[38;5;241m*\u001b[39margs, data\u001b[38;5;241m=\u001b[39m\u001b[38;5;28;01mNone\u001b[39;00m, \u001b[38;5;241m*\u001b[39m\u001b[38;5;241m*\u001b[39mkwargs):\n\u001b[0;32m   1472\u001b[0m     \u001b[38;5;28;01mif\u001b[39;00m data \u001b[38;5;129;01mis\u001b[39;00m \u001b[38;5;28;01mNone\u001b[39;00m:\n\u001b[1;32m-> 1473\u001b[0m         \u001b[38;5;28;01mreturn\u001b[39;00m \u001b[43mfunc\u001b[49m\u001b[43m(\u001b[49m\n\u001b[0;32m   1474\u001b[0m \u001b[43m            \u001b[49m\u001b[43max\u001b[49m\u001b[43m,\u001b[49m\n\u001b[0;32m   1475\u001b[0m \u001b[43m            \u001b[49m\u001b[38;5;241;43m*\u001b[39;49m\u001b[38;5;28;43mmap\u001b[39;49m\u001b[43m(\u001b[49m\u001b[43msanitize_sequence\u001b[49m\u001b[43m,\u001b[49m\u001b[43m \u001b[49m\u001b[43margs\u001b[49m\u001b[43m)\u001b[49m\u001b[43m,\u001b[49m\n\u001b[0;32m   1476\u001b[0m \u001b[43m            \u001b[49m\u001b[38;5;241;43m*\u001b[39;49m\u001b[38;5;241;43m*\u001b[39;49m\u001b[43m{\u001b[49m\u001b[43mk\u001b[49m\u001b[43m:\u001b[49m\u001b[43m \u001b[49m\u001b[43msanitize_sequence\u001b[49m\u001b[43m(\u001b[49m\u001b[43mv\u001b[49m\u001b[43m)\u001b[49m\u001b[43m \u001b[49m\u001b[38;5;28;43;01mfor\u001b[39;49;00m\u001b[43m \u001b[49m\u001b[43mk\u001b[49m\u001b[43m,\u001b[49m\u001b[43m \u001b[49m\u001b[43mv\u001b[49m\u001b[43m \u001b[49m\u001b[38;5;129;43;01min\u001b[39;49;00m\u001b[43m \u001b[49m\u001b[43mkwargs\u001b[49m\u001b[38;5;241;43m.\u001b[39;49m\u001b[43mitems\u001b[49m\u001b[43m(\u001b[49m\u001b[43m)\u001b[49m\u001b[43m}\u001b[49m\u001b[43m)\u001b[49m\n\u001b[0;32m   1478\u001b[0m     bound \u001b[38;5;241m=\u001b[39m new_sig\u001b[38;5;241m.\u001b[39mbind(ax, \u001b[38;5;241m*\u001b[39margs, \u001b[38;5;241m*\u001b[39m\u001b[38;5;241m*\u001b[39mkwargs)\n\u001b[0;32m   1479\u001b[0m     auto_label \u001b[38;5;241m=\u001b[39m (bound\u001b[38;5;241m.\u001b[39marguments\u001b[38;5;241m.\u001b[39mget(label_namer)\n\u001b[0;32m   1480\u001b[0m                   \u001b[38;5;129;01mor\u001b[39;00m bound\u001b[38;5;241m.\u001b[39mkwargs\u001b[38;5;241m.\u001b[39mget(label_namer))\n",
      "File \u001b[1;32mc:\\Users\\DELL\\AppData\\Local\\Programs\\Python\\Python312\\Lib\\site-packages\\matplotlib\\axes\\_axes.py:2597\u001b[0m, in \u001b[0;36mAxes.bar\u001b[1;34m(self, x, height, width, bottom, align, **kwargs)\u001b[0m\n\u001b[0;32m   2595\u001b[0m     \u001b[38;5;28;01melse\u001b[39;00m:  \u001b[38;5;66;03m# horizontal\u001b[39;00m\n\u001b[0;32m   2596\u001b[0m         r\u001b[38;5;241m.\u001b[39msticky_edges\u001b[38;5;241m.\u001b[39mx\u001b[38;5;241m.\u001b[39mappend(l)\n\u001b[1;32m-> 2597\u001b[0m     \u001b[38;5;28;43mself\u001b[39;49m\u001b[38;5;241;43m.\u001b[39;49m\u001b[43madd_patch\u001b[49m\u001b[43m(\u001b[49m\u001b[43mr\u001b[49m\u001b[43m)\u001b[49m\n\u001b[0;32m   2598\u001b[0m     patches\u001b[38;5;241m.\u001b[39mappend(r)\n\u001b[0;32m   2600\u001b[0m \u001b[38;5;28;01mif\u001b[39;00m xerr \u001b[38;5;129;01mis\u001b[39;00m \u001b[38;5;129;01mnot\u001b[39;00m \u001b[38;5;28;01mNone\u001b[39;00m \u001b[38;5;129;01mor\u001b[39;00m yerr \u001b[38;5;129;01mis\u001b[39;00m \u001b[38;5;129;01mnot\u001b[39;00m \u001b[38;5;28;01mNone\u001b[39;00m:\n",
      "File \u001b[1;32mc:\\Users\\DELL\\AppData\\Local\\Programs\\Python\\Python312\\Lib\\site-packages\\matplotlib\\axes\\_base.py:2414\u001b[0m, in \u001b[0;36m_AxesBase.add_patch\u001b[1;34m(self, p)\u001b[0m\n\u001b[0;32m   2412\u001b[0m \u001b[38;5;28;01mif\u001b[39;00m p\u001b[38;5;241m.\u001b[39mget_clip_path() \u001b[38;5;129;01mis\u001b[39;00m \u001b[38;5;28;01mNone\u001b[39;00m:\n\u001b[0;32m   2413\u001b[0m     p\u001b[38;5;241m.\u001b[39mset_clip_path(\u001b[38;5;28mself\u001b[39m\u001b[38;5;241m.\u001b[39mpatch)\n\u001b[1;32m-> 2414\u001b[0m \u001b[38;5;28;43mself\u001b[39;49m\u001b[38;5;241;43m.\u001b[39;49m\u001b[43m_update_patch_limits\u001b[49m\u001b[43m(\u001b[49m\u001b[43mp\u001b[49m\u001b[43m)\u001b[49m\n\u001b[0;32m   2415\u001b[0m \u001b[38;5;28mself\u001b[39m\u001b[38;5;241m.\u001b[39m_children\u001b[38;5;241m.\u001b[39mappend(p)\n\u001b[0;32m   2416\u001b[0m p\u001b[38;5;241m.\u001b[39m_remove_method \u001b[38;5;241m=\u001b[39m \u001b[38;5;28mself\u001b[39m\u001b[38;5;241m.\u001b[39m_children\u001b[38;5;241m.\u001b[39mremove\n",
      "File \u001b[1;32mc:\\Users\\DELL\\AppData\\Local\\Programs\\Python\\Python312\\Lib\\site-packages\\matplotlib\\axes\\_base.py:2456\u001b[0m, in \u001b[0;36m_AxesBase._update_patch_limits\u001b[1;34m(self, patch)\u001b[0m\n\u001b[0;32m   2454\u001b[0m         updatey \u001b[38;5;241m=\u001b[39m \u001b[38;5;28;01mFalse\u001b[39;00m\n\u001b[0;32m   2455\u001b[0m trf_to_data \u001b[38;5;241m=\u001b[39m patch_trf \u001b[38;5;241m-\u001b[39m \u001b[38;5;28mself\u001b[39m\u001b[38;5;241m.\u001b[39mtransData\n\u001b[1;32m-> 2456\u001b[0m xys \u001b[38;5;241m=\u001b[39m \u001b[43mtrf_to_data\u001b[49m\u001b[38;5;241;43m.\u001b[39;49m\u001b[43mtransform\u001b[49m\u001b[43m(\u001b[49m\u001b[43mvertices\u001b[49m\u001b[43m)\u001b[49m\n\u001b[0;32m   2457\u001b[0m \u001b[38;5;28mself\u001b[39m\u001b[38;5;241m.\u001b[39mupdate_datalim(xys, updatex\u001b[38;5;241m=\u001b[39mupdatex, updatey\u001b[38;5;241m=\u001b[39mupdatey)\n",
      "File \u001b[1;32mc:\\Users\\DELL\\AppData\\Local\\Programs\\Python\\Python312\\Lib\\site-packages\\matplotlib\\transforms.py:1505\u001b[0m, in \u001b[0;36mTransform.transform\u001b[1;34m(self, values)\u001b[0m\n\u001b[0;32m   1502\u001b[0m values \u001b[38;5;241m=\u001b[39m values\u001b[38;5;241m.\u001b[39mreshape((\u001b[38;5;241m-\u001b[39m\u001b[38;5;241m1\u001b[39m, \u001b[38;5;28mself\u001b[39m\u001b[38;5;241m.\u001b[39minput_dims))\n\u001b[0;32m   1504\u001b[0m \u001b[38;5;66;03m# Transform the values\u001b[39;00m\n\u001b[1;32m-> 1505\u001b[0m res \u001b[38;5;241m=\u001b[39m \u001b[38;5;28;43mself\u001b[39;49m\u001b[38;5;241;43m.\u001b[39;49m\u001b[43mtransform_affine\u001b[49m\u001b[43m(\u001b[49m\u001b[38;5;28;43mself\u001b[39;49m\u001b[38;5;241;43m.\u001b[39;49m\u001b[43mtransform_non_affine\u001b[49m\u001b[43m(\u001b[49m\u001b[43mvalues\u001b[49m\u001b[43m)\u001b[49m\u001b[43m)\u001b[49m\n\u001b[0;32m   1507\u001b[0m \u001b[38;5;66;03m# Convert the result back to the shape of the input values.\u001b[39;00m\n\u001b[0;32m   1508\u001b[0m \u001b[38;5;28;01mif\u001b[39;00m ndim \u001b[38;5;241m==\u001b[39m \u001b[38;5;241m0\u001b[39m:\n",
      "File \u001b[1;32mc:\\Users\\DELL\\AppData\\Local\\Programs\\Python\\Python312\\Lib\\site-packages\\matplotlib\\_api\\deprecation.py:300\u001b[0m, in \u001b[0;36mrename_parameter.<locals>.wrapper\u001b[1;34m(*args, **kwargs)\u001b[0m\n\u001b[0;32m    295\u001b[0m     warn_deprecated(\n\u001b[0;32m    296\u001b[0m         since, message\u001b[38;5;241m=\u001b[39m\u001b[38;5;124mf\u001b[39m\u001b[38;5;124m\"\u001b[39m\u001b[38;5;124mThe \u001b[39m\u001b[38;5;132;01m{\u001b[39;00mold\u001b[38;5;132;01m!r}\u001b[39;00m\u001b[38;5;124m parameter of \u001b[39m\u001b[38;5;132;01m{\u001b[39;00mfunc\u001b[38;5;241m.\u001b[39m\u001b[38;5;18m__name__\u001b[39m\u001b[38;5;132;01m}\u001b[39;00m\u001b[38;5;124m() \u001b[39m\u001b[38;5;124m\"\u001b[39m\n\u001b[0;32m    297\u001b[0m         \u001b[38;5;124mf\u001b[39m\u001b[38;5;124m\"\u001b[39m\u001b[38;5;124mhas been renamed \u001b[39m\u001b[38;5;132;01m{\u001b[39;00mnew\u001b[38;5;132;01m!r}\u001b[39;00m\u001b[38;5;124m since Matplotlib \u001b[39m\u001b[38;5;132;01m{\u001b[39;00msince\u001b[38;5;132;01m}\u001b[39;00m\u001b[38;5;124m; support \u001b[39m\u001b[38;5;124m\"\u001b[39m\n\u001b[0;32m    298\u001b[0m         \u001b[38;5;124mf\u001b[39m\u001b[38;5;124m\"\u001b[39m\u001b[38;5;124mfor the old name will be dropped %(removal)s.\u001b[39m\u001b[38;5;124m\"\u001b[39m)\n\u001b[0;32m    299\u001b[0m     kwargs[new] \u001b[38;5;241m=\u001b[39m kwargs\u001b[38;5;241m.\u001b[39mpop(old)\n\u001b[1;32m--> 300\u001b[0m \u001b[38;5;28;01mreturn\u001b[39;00m \u001b[43mfunc\u001b[49m\u001b[43m(\u001b[49m\u001b[38;5;241;43m*\u001b[39;49m\u001b[43margs\u001b[49m\u001b[43m,\u001b[49m\u001b[43m \u001b[49m\u001b[38;5;241;43m*\u001b[39;49m\u001b[38;5;241;43m*\u001b[39;49m\u001b[43mkwargs\u001b[49m\u001b[43m)\u001b[49m\n",
      "File \u001b[1;32mc:\\Users\\DELL\\AppData\\Local\\Programs\\Python\\Python312\\Lib\\site-packages\\matplotlib\\transforms.py:2428\u001b[0m, in \u001b[0;36mCompositeGenericTransform.transform_affine\u001b[1;34m(self, values)\u001b[0m\n\u001b[0;32m   2425\u001b[0m \u001b[38;5;129m@_api\u001b[39m\u001b[38;5;241m.\u001b[39mrename_parameter(\u001b[38;5;124m\"\u001b[39m\u001b[38;5;124m3.8\u001b[39m\u001b[38;5;124m\"\u001b[39m, \u001b[38;5;124m\"\u001b[39m\u001b[38;5;124mpoints\u001b[39m\u001b[38;5;124m\"\u001b[39m, \u001b[38;5;124m\"\u001b[39m\u001b[38;5;124mvalues\u001b[39m\u001b[38;5;124m\"\u001b[39m)\n\u001b[0;32m   2426\u001b[0m \u001b[38;5;28;01mdef\u001b[39;00m \u001b[38;5;21mtransform_affine\u001b[39m(\u001b[38;5;28mself\u001b[39m, values):\n\u001b[0;32m   2427\u001b[0m     \u001b[38;5;66;03m# docstring inherited\u001b[39;00m\n\u001b[1;32m-> 2428\u001b[0m     \u001b[38;5;28;01mreturn\u001b[39;00m \u001b[38;5;28;43mself\u001b[39;49m\u001b[38;5;241;43m.\u001b[39;49m\u001b[43mget_affine\u001b[49m\u001b[43m(\u001b[49m\u001b[43m)\u001b[49m\u001b[38;5;241m.\u001b[39mtransform(values)\n",
      "File \u001b[1;32mc:\\Users\\DELL\\AppData\\Local\\Programs\\Python\\Python312\\Lib\\site-packages\\matplotlib\\transforms.py:2455\u001b[0m, in \u001b[0;36mCompositeGenericTransform.get_affine\u001b[1;34m(self)\u001b[0m\n\u001b[0;32m   2453\u001b[0m     \u001b[38;5;28;01mreturn\u001b[39;00m \u001b[38;5;28mself\u001b[39m\u001b[38;5;241m.\u001b[39m_b\u001b[38;5;241m.\u001b[39mget_affine()\n\u001b[0;32m   2454\u001b[0m \u001b[38;5;28;01melse\u001b[39;00m:\n\u001b[1;32m-> 2455\u001b[0m     \u001b[38;5;28;01mreturn\u001b[39;00m Affine2D(\u001b[43mnp\u001b[49m\u001b[38;5;241;43m.\u001b[39;49m\u001b[43mdot\u001b[49m\u001b[43m(\u001b[49m\u001b[38;5;28;43mself\u001b[39;49m\u001b[38;5;241;43m.\u001b[39;49m\u001b[43m_b\u001b[49m\u001b[38;5;241;43m.\u001b[39;49m\u001b[43mget_affine\u001b[49m\u001b[43m(\u001b[49m\u001b[43m)\u001b[49m\u001b[38;5;241;43m.\u001b[39;49m\u001b[43mget_matrix\u001b[49m\u001b[43m(\u001b[49m\u001b[43m)\u001b[49m\u001b[43m,\u001b[49m\n\u001b[0;32m   2456\u001b[0m \u001b[43m                           \u001b[49m\u001b[38;5;28;43mself\u001b[39;49m\u001b[38;5;241;43m.\u001b[39;49m\u001b[43m_a\u001b[49m\u001b[38;5;241;43m.\u001b[39;49m\u001b[43mget_affine\u001b[49m\u001b[43m(\u001b[49m\u001b[43m)\u001b[49m\u001b[38;5;241;43m.\u001b[39;49m\u001b[43mget_matrix\u001b[49m\u001b[43m(\u001b[49m\u001b[43m)\u001b[49m\u001b[43m)\u001b[49m)\n",
      "\u001b[1;31mKeyboardInterrupt\u001b[0m: "
     ]
    }
   ],
   "source": [
    "# Convert to pandas for plotting\n",
    "import matplotlib.pyplot as plt\n",
    "import seaborn as sns\n",
    "\n",
    "# Example: convert to pandas for visualization\n",
    "df_pd = df.to_pandas()\n",
    "\n",
    "# Plot the distribution of a column\n",
    "sns.histplot(df_pd['sales_net'])\n",
    "plt.show()\n",
    "\n",
    "# Correlation heatmap\n",
    "sns.heatmap(df_pd.corr(), annot=True, cmap='coolwarm')\n",
    "plt.show()\n"
   ]
  },
  {
   "cell_type": "code",
   "execution_count": 10,
   "metadata": {},
   "outputs": [
    {
     "name": "stderr",
     "output_type": "stream",
     "text": [
      "C:\\Users\\DELL\\AppData\\Local\\Temp\\ipykernel_23528\\4207683701.py:2: DeprecationWarning: `groupby` is deprecated. It has been renamed to `group_by`.\n",
      "  df.groupby(\"date_order\").agg(pl.col(\"sales_net\").sum()).sort(\"date_order\").plot()\n"
     ]
    },
    {
     "data": {
      "text/html": [
       "<script type=\"esms-options\">{\"shimMode\": true}</script><style>*[data-root-id],\n",
       "*[data-root-id] > * {\n",
       "  box-sizing: border-box;\n",
       "  font-family: var(--jp-ui-font-family);\n",
       "  font-size: var(--jp-ui-font-size1);\n",
       "  color: var(--vscode-editor-foreground, var(--jp-ui-font-color1));\n",
       "}\n",
       "\n",
       "/* Override VSCode background color */\n",
       ".cell-output-ipywidget-background:has(\n",
       "    > .cell-output-ipywidget-background > .lm-Widget > *[data-root-id]\n",
       "  ),\n",
       ".cell-output-ipywidget-background:has(> .lm-Widget > *[data-root-id]) {\n",
       "  background-color: transparent !important;\n",
       "}\n",
       "</style>"
      ]
     },
     "metadata": {},
     "output_type": "display_data"
    },
    {
     "data": {
      "application/javascript": "(function(root) {\n  function now() {\n    return new Date();\n  }\n\n  const force = true;\n  const py_version = '3.6.3'.replace('rc', '-rc.').replace('.dev', '-dev.');\n  const reloading = false;\n  const Bokeh = root.Bokeh;\n\n  // Set a timeout for this load but only if we are not already initializing\n  if (typeof (root._bokeh_timeout) === \"undefined\" || (force || !root._bokeh_is_initializing)) {\n    root._bokeh_timeout = Date.now() + 5000;\n    root._bokeh_failed_load = false;\n  }\n\n  function run_callbacks() {\n    try {\n      root._bokeh_onload_callbacks.forEach(function(callback) {\n        if (callback != null)\n          callback();\n      });\n    } finally {\n      delete root._bokeh_onload_callbacks;\n    }\n    console.debug(\"Bokeh: all callbacks have finished\");\n  }\n\n  function load_libs(css_urls, js_urls, js_modules, js_exports, callback) {\n    if (css_urls == null) css_urls = [];\n    if (js_urls == null) js_urls = [];\n    if (js_modules == null) js_modules = [];\n    if (js_exports == null) js_exports = {};\n\n    root._bokeh_onload_callbacks.push(callback);\n\n    if (root._bokeh_is_loading > 0) {\n      // Don't load bokeh if it is still initializing\n      console.debug(\"Bokeh: BokehJS is being loaded, scheduling callback at\", now());\n      return null;\n    } else if (js_urls.length === 0 && js_modules.length === 0 && Object.keys(js_exports).length === 0) {\n      // There is nothing to load\n      run_callbacks();\n      return null;\n    }\n\n    function on_load() {\n      root._bokeh_is_loading--;\n      if (root._bokeh_is_loading === 0) {\n        console.debug(\"Bokeh: all BokehJS libraries/stylesheets loaded\");\n        run_callbacks()\n      }\n    }\n    window._bokeh_on_load = on_load\n\n    function on_error(e) {\n      const src_el = e.srcElement\n      console.error(\"failed to load \" + (src_el.href || src_el.src));\n    }\n\n    const skip = [];\n    if (window.requirejs) {\n      window.requirejs.config({'packages': {}, 'paths': {}, 'shim': {}});\n      root._bokeh_is_loading = css_urls.length + 0;\n    } else {\n      root._bokeh_is_loading = css_urls.length + js_urls.length + js_modules.length + Object.keys(js_exports).length;\n    }\n\n    const existing_stylesheets = []\n    const links = document.getElementsByTagName('link')\n    for (let i = 0; i < links.length; i++) {\n      const link = links[i]\n      if (link.href != null) {\n        existing_stylesheets.push(link.href)\n      }\n    }\n    for (let i = 0; i < css_urls.length; i++) {\n      const url = css_urls[i];\n      const escaped = encodeURI(url)\n      if (existing_stylesheets.indexOf(escaped) !== -1) {\n        on_load()\n        continue;\n      }\n      const element = document.createElement(\"link\");\n      element.onload = on_load;\n      element.onerror = on_error;\n      element.rel = \"stylesheet\";\n      element.type = \"text/css\";\n      element.href = url;\n      console.debug(\"Bokeh: injecting link tag for BokehJS stylesheet: \", url);\n      document.body.appendChild(element);\n    }    var existing_scripts = []\n    const scripts = document.getElementsByTagName('script')\n    for (let i = 0; i < scripts.length; i++) {\n      var script = scripts[i]\n      if (script.src != null) {\n        existing_scripts.push(script.src)\n      }\n    }\n    for (let i = 0; i < js_urls.length; i++) {\n      const url = js_urls[i];\n      const escaped = encodeURI(url)\n      if (skip.indexOf(escaped) !== -1 || existing_scripts.indexOf(escaped) !== -1) {\n        if (!window.requirejs) {\n          on_load();\n        }\n        continue;\n      }\n      const element = document.createElement('script');\n      element.onload = on_load;\n      element.onerror = on_error;\n      element.async = false;\n      element.src = url;\n      console.debug(\"Bokeh: injecting script tag for BokehJS library: \", url);\n      document.head.appendChild(element);\n    }\n    for (let i = 0; i < js_modules.length; i++) {\n      const url = js_modules[i];\n      const escaped = encodeURI(url)\n      if (skip.indexOf(escaped) !== -1 || existing_scripts.indexOf(escaped) !== -1) {\n        if (!window.requirejs) {\n          on_load();\n        }\n        continue;\n      }\n      var element = document.createElement('script');\n      element.onload = on_load;\n      element.onerror = on_error;\n      element.async = false;\n      element.src = url;\n      element.type = \"module\";\n      console.debug(\"Bokeh: injecting script tag for BokehJS library: \", url);\n      document.head.appendChild(element);\n    }\n    for (const name in js_exports) {\n      const url = js_exports[name];\n      const escaped = encodeURI(url)\n      if (skip.indexOf(escaped) >= 0 || root[name] != null) {\n        if (!window.requirejs) {\n          on_load();\n        }\n        continue;\n      }\n      var element = document.createElement('script');\n      element.onerror = on_error;\n      element.async = false;\n      element.type = \"module\";\n      console.debug(\"Bokeh: injecting script tag for BokehJS library: \", url);\n      element.textContent = `\n      import ${name} from \"${url}\"\n      window.${name} = ${name}\n      window._bokeh_on_load()\n      `\n      document.head.appendChild(element);\n    }\n    if (!js_urls.length && !js_modules.length) {\n      on_load()\n    }\n  };\n\n  function inject_raw_css(css) {\n    const element = document.createElement(\"style\");\n    element.appendChild(document.createTextNode(css));\n    document.body.appendChild(element);\n  }\n\n  const js_urls = [\"https://cdn.holoviz.org/panel/1.6.1/dist/bundled/reactiveesm/es-module-shims@^1.10.0/dist/es-module-shims.min.js\", \"https://cdn.bokeh.org/bokeh/release/bokeh-3.6.3.min.js\", \"https://cdn.bokeh.org/bokeh/release/bokeh-gl-3.6.3.min.js\", \"https://cdn.bokeh.org/bokeh/release/bokeh-widgets-3.6.3.min.js\", \"https://cdn.bokeh.org/bokeh/release/bokeh-tables-3.6.3.min.js\", \"https://cdn.holoviz.org/panel/1.6.1/dist/panel.min.js\"];\n  const js_modules = [];\n  const js_exports = {};\n  const css_urls = [];\n  const inline_js = [    function(Bokeh) {\n      Bokeh.set_log_level(\"info\");\n    },\nfunction(Bokeh) {} // ensure no trailing comma for IE\n  ];\n\n  function run_inline_js() {\n    if ((root.Bokeh !== undefined) || (force === true)) {\n      for (let i = 0; i < inline_js.length; i++) {\n        try {\n          inline_js[i].call(root, root.Bokeh);\n        } catch(e) {\n          if (!reloading) {\n            throw e;\n          }\n        }\n      }\n      // Cache old bokeh versions\n      if (Bokeh != undefined && !reloading) {\n        var NewBokeh = root.Bokeh;\n        if (Bokeh.versions === undefined) {\n          Bokeh.versions = new Map();\n        }\n        if (NewBokeh.version !== Bokeh.version) {\n          Bokeh.versions.set(NewBokeh.version, NewBokeh)\n        }\n        root.Bokeh = Bokeh;\n      }\n    } else if (Date.now() < root._bokeh_timeout) {\n      setTimeout(run_inline_js, 100);\n    } else if (!root._bokeh_failed_load) {\n      console.log(\"Bokeh: BokehJS failed to load within specified timeout.\");\n      root._bokeh_failed_load = true;\n    }\n    root._bokeh_is_initializing = false\n  }\n\n  function load_or_wait() {\n    // Implement a backoff loop that tries to ensure we do not load multiple\n    // versions of Bokeh and its dependencies at the same time.\n    // In recent versions we use the root._bokeh_is_initializing flag\n    // to determine whether there is an ongoing attempt to initialize\n    // bokeh, however for backward compatibility we also try to ensure\n    // that we do not start loading a newer (Panel>=1.0 and Bokeh>3) version\n    // before older versions are fully initialized.\n    if (root._bokeh_is_initializing && Date.now() > root._bokeh_timeout) {\n      // If the timeout and bokeh was not successfully loaded we reset\n      // everything and try loading again\n      root._bokeh_timeout = Date.now() + 5000;\n      root._bokeh_is_initializing = false;\n      root._bokeh_onload_callbacks = undefined;\n      root._bokeh_is_loading = 0\n      console.log(\"Bokeh: BokehJS was loaded multiple times but one version failed to initialize.\");\n      load_or_wait();\n    } else if (root._bokeh_is_initializing || (typeof root._bokeh_is_initializing === \"undefined\" && root._bokeh_onload_callbacks !== undefined)) {\n      setTimeout(load_or_wait, 100);\n    } else {\n      root._bokeh_is_initializing = true\n      root._bokeh_onload_callbacks = []\n      const bokeh_loaded = root.Bokeh != null && (root.Bokeh.version === py_version || (root.Bokeh.versions !== undefined && root.Bokeh.versions.has(py_version)));\n      if (!reloading && !bokeh_loaded) {\n        if (root.Bokeh) {\n          root.Bokeh = undefined;\n        }\n        console.debug(\"Bokeh: BokehJS not loaded, scheduling load and callback at\", now());\n      }\n      load_libs(css_urls, js_urls, js_modules, js_exports, function() {\n        console.debug(\"Bokeh: BokehJS plotting callback run at\", now());\n        run_inline_js();\n      });\n    }\n  }\n  // Give older versions of the autoload script a head-start to ensure\n  // they initialize before we start loading newer version.\n  setTimeout(load_or_wait, 100)\n}(window));",
      "application/vnd.holoviews_load.v0+json": ""
     },
     "metadata": {},
     "output_type": "display_data"
    },
    {
     "data": {
      "application/javascript": "\nif ((window.PyViz === undefined) || (window.PyViz instanceof HTMLElement)) {\n  window.PyViz = {comms: {}, comm_status:{}, kernels:{}, receivers: {}, plot_index: []}\n}\n\n\n    function JupyterCommManager() {\n    }\n\n    JupyterCommManager.prototype.register_target = function(plot_id, comm_id, msg_handler) {\n      if (window.comm_manager || ((window.Jupyter !== undefined) && (Jupyter.notebook.kernel != null))) {\n        var comm_manager = window.comm_manager || Jupyter.notebook.kernel.comm_manager;\n        comm_manager.register_target(comm_id, function(comm) {\n          comm.on_msg(msg_handler);\n        });\n      } else if ((plot_id in window.PyViz.kernels) && (window.PyViz.kernels[plot_id])) {\n        window.PyViz.kernels[plot_id].registerCommTarget(comm_id, function(comm) {\n          comm.onMsg = msg_handler;\n        });\n      } else if (typeof google != 'undefined' && google.colab.kernel != null) {\n        google.colab.kernel.comms.registerTarget(comm_id, (comm) => {\n          var messages = comm.messages[Symbol.asyncIterator]();\n          function processIteratorResult(result) {\n            var message = result.value;\n            console.log(message)\n            var content = {data: message.data, comm_id};\n            var buffers = []\n            for (var buffer of message.buffers || []) {\n              buffers.push(new DataView(buffer))\n            }\n            var metadata = message.metadata || {};\n            var msg = {content, buffers, metadata}\n            msg_handler(msg);\n            return messages.next().then(processIteratorResult);\n          }\n          return messages.next().then(processIteratorResult);\n        })\n      }\n    }\n\n    JupyterCommManager.prototype.get_client_comm = function(plot_id, comm_id, msg_handler) {\n      if (comm_id in window.PyViz.comms) {\n        return window.PyViz.comms[comm_id];\n      } else if (window.comm_manager || ((window.Jupyter !== undefined) && (Jupyter.notebook.kernel != null))) {\n        var comm_manager = window.comm_manager || Jupyter.notebook.kernel.comm_manager;\n        var comm = comm_manager.new_comm(comm_id, {}, {}, {}, comm_id);\n        if (msg_handler) {\n          comm.on_msg(msg_handler);\n        }\n      } else if ((plot_id in window.PyViz.kernels) && (window.PyViz.kernels[plot_id])) {\n        var comm = window.PyViz.kernels[plot_id].connectToComm(comm_id);\n        comm.open();\n        if (msg_handler) {\n          comm.onMsg = msg_handler;\n        }\n      } else if (typeof google != 'undefined' && google.colab.kernel != null) {\n        var comm_promise = google.colab.kernel.comms.open(comm_id)\n        comm_promise.then((comm) => {\n          window.PyViz.comms[comm_id] = comm;\n          if (msg_handler) {\n            var messages = comm.messages[Symbol.asyncIterator]();\n            function processIteratorResult(result) {\n              var message = result.value;\n              var content = {data: message.data};\n              var metadata = message.metadata || {comm_id};\n              var msg = {content, metadata}\n              msg_handler(msg);\n              return messages.next().then(processIteratorResult);\n            }\n            return messages.next().then(processIteratorResult);\n          }\n        })\n        var sendClosure = (data, metadata, buffers, disposeOnDone) => {\n          return comm_promise.then((comm) => {\n            comm.send(data, metadata, buffers, disposeOnDone);\n          });\n        };\n        var comm = {\n          send: sendClosure\n        };\n      }\n      window.PyViz.comms[comm_id] = comm;\n      return comm;\n    }\n    window.PyViz.comm_manager = new JupyterCommManager();\n    \n\n\nvar JS_MIME_TYPE = 'application/javascript';\nvar HTML_MIME_TYPE = 'text/html';\nvar EXEC_MIME_TYPE = 'application/vnd.holoviews_exec.v0+json';\nvar CLASS_NAME = 'output';\n\n/**\n * Render data to the DOM node\n */\nfunction render(props, node) {\n  var div = document.createElement(\"div\");\n  var script = document.createElement(\"script\");\n  node.appendChild(div);\n  node.appendChild(script);\n}\n\n/**\n * Handle when a new output is added\n */\nfunction handle_add_output(event, handle) {\n  var output_area = handle.output_area;\n  var output = handle.output;\n  if ((output.data == undefined) || (!output.data.hasOwnProperty(EXEC_MIME_TYPE))) {\n    return\n  }\n  var id = output.metadata[EXEC_MIME_TYPE][\"id\"];\n  var toinsert = output_area.element.find(\".\" + CLASS_NAME.split(' ')[0]);\n  if (id !== undefined) {\n    var nchildren = toinsert.length;\n    var html_node = toinsert[nchildren-1].children[0];\n    html_node.innerHTML = output.data[HTML_MIME_TYPE];\n    var scripts = [];\n    var nodelist = html_node.querySelectorAll(\"script\");\n    for (var i in nodelist) {\n      if (nodelist.hasOwnProperty(i)) {\n        scripts.push(nodelist[i])\n      }\n    }\n\n    scripts.forEach( function (oldScript) {\n      var newScript = document.createElement(\"script\");\n      var attrs = [];\n      var nodemap = oldScript.attributes;\n      for (var j in nodemap) {\n        if (nodemap.hasOwnProperty(j)) {\n          attrs.push(nodemap[j])\n        }\n      }\n      attrs.forEach(function(attr) { newScript.setAttribute(attr.name, attr.value) });\n      newScript.appendChild(document.createTextNode(oldScript.innerHTML));\n      oldScript.parentNode.replaceChild(newScript, oldScript);\n    });\n    if (JS_MIME_TYPE in output.data) {\n      toinsert[nchildren-1].children[1].textContent = output.data[JS_MIME_TYPE];\n    }\n    output_area._hv_plot_id = id;\n    if ((window.Bokeh !== undefined) && (id in Bokeh.index)) {\n      window.PyViz.plot_index[id] = Bokeh.index[id];\n    } else {\n      window.PyViz.plot_index[id] = null;\n    }\n  } else if (output.metadata[EXEC_MIME_TYPE][\"server_id\"] !== undefined) {\n    var bk_div = document.createElement(\"div\");\n    bk_div.innerHTML = output.data[HTML_MIME_TYPE];\n    var script_attrs = bk_div.children[0].attributes;\n    for (var i = 0; i < script_attrs.length; i++) {\n      toinsert[toinsert.length - 1].childNodes[1].setAttribute(script_attrs[i].name, script_attrs[i].value);\n    }\n    // store reference to server id on output_area\n    output_area._bokeh_server_id = output.metadata[EXEC_MIME_TYPE][\"server_id\"];\n  }\n}\n\n/**\n * Handle when an output is cleared or removed\n */\nfunction handle_clear_output(event, handle) {\n  var id = handle.cell.output_area._hv_plot_id;\n  var server_id = handle.cell.output_area._bokeh_server_id;\n  if (((id === undefined) || !(id in PyViz.plot_index)) && (server_id !== undefined)) { return; }\n  var comm = window.PyViz.comm_manager.get_client_comm(\"hv-extension-comm\", \"hv-extension-comm\", function () {});\n  if (server_id !== null) {\n    comm.send({event_type: 'server_delete', 'id': server_id});\n    return;\n  } else if (comm !== null) {\n    comm.send({event_type: 'delete', 'id': id});\n  }\n  delete PyViz.plot_index[id];\n  if ((window.Bokeh !== undefined) & (id in window.Bokeh.index)) {\n    var doc = window.Bokeh.index[id].model.document\n    doc.clear();\n    const i = window.Bokeh.documents.indexOf(doc);\n    if (i > -1) {\n      window.Bokeh.documents.splice(i, 1);\n    }\n  }\n}\n\n/**\n * Handle kernel restart event\n */\nfunction handle_kernel_cleanup(event, handle) {\n  delete PyViz.comms[\"hv-extension-comm\"];\n  window.PyViz.plot_index = {}\n}\n\n/**\n * Handle update_display_data messages\n */\nfunction handle_update_output(event, handle) {\n  handle_clear_output(event, {cell: {output_area: handle.output_area}})\n  handle_add_output(event, handle)\n}\n\nfunction register_renderer(events, OutputArea) {\n  function append_mime(data, metadata, element) {\n    // create a DOM node to render to\n    var toinsert = this.create_output_subarea(\n    metadata,\n    CLASS_NAME,\n    EXEC_MIME_TYPE\n    );\n    this.keyboard_manager.register_events(toinsert);\n    // Render to node\n    var props = {data: data, metadata: metadata[EXEC_MIME_TYPE]};\n    render(props, toinsert[0]);\n    element.append(toinsert);\n    return toinsert\n  }\n\n  events.on('output_added.OutputArea', handle_add_output);\n  events.on('output_updated.OutputArea', handle_update_output);\n  events.on('clear_output.CodeCell', handle_clear_output);\n  events.on('delete.Cell', handle_clear_output);\n  events.on('kernel_ready.Kernel', handle_kernel_cleanup);\n\n  OutputArea.prototype.register_mime_type(EXEC_MIME_TYPE, append_mime, {\n    safe: true,\n    index: 0\n  });\n}\n\nif (window.Jupyter !== undefined) {\n  try {\n    var events = require('base/js/events');\n    var OutputArea = require('notebook/js/outputarea').OutputArea;\n    if (OutputArea.prototype.mime_types().indexOf(EXEC_MIME_TYPE) == -1) {\n      register_renderer(events, OutputArea);\n    }\n  } catch(err) {\n  }\n}\n",
      "application/vnd.holoviews_load.v0+json": ""
     },
     "metadata": {},
     "output_type": "display_data"
    },
    {
     "data": {
      "application/vnd.holoviews_exec.v0+json": "",
      "text/html": [
       "<div id='244290b0-db82-4f98-a12c-0040ebe6f067'>\n",
       "  <div id=\"e03dc780-bf21-4c5e-829f-b24d9730c326\" data-root-id=\"244290b0-db82-4f98-a12c-0040ebe6f067\" style=\"display: contents;\"></div>\n",
       "</div>\n",
       "<script type=\"application/javascript\">(function(root) {\n",
       "  var docs_json = {\"f45425af-dc14-453a-a80c-806c544f4c24\":{\"version\":\"3.6.3\",\"title\":\"Bokeh Application\",\"roots\":[{\"type\":\"object\",\"name\":\"panel.models.browser.BrowserInfo\",\"id\":\"244290b0-db82-4f98-a12c-0040ebe6f067\"},{\"type\":\"object\",\"name\":\"panel.models.comm_manager.CommManager\",\"id\":\"9820f213-7e61-46bd-afe4-cb297687ae27\",\"attributes\":{\"plot_id\":\"244290b0-db82-4f98-a12c-0040ebe6f067\",\"comm_id\":\"804ff13393c24a749434c373b63b8436\",\"client_comm_id\":\"29b8c92a8a574c62910e1f74b2881e3a\"}}],\"defs\":[{\"type\":\"model\",\"name\":\"ReactiveHTML1\"},{\"type\":\"model\",\"name\":\"FlexBox1\",\"properties\":[{\"name\":\"align_content\",\"kind\":\"Any\",\"default\":\"flex-start\"},{\"name\":\"align_items\",\"kind\":\"Any\",\"default\":\"flex-start\"},{\"name\":\"flex_direction\",\"kind\":\"Any\",\"default\":\"row\"},{\"name\":\"flex_wrap\",\"kind\":\"Any\",\"default\":\"wrap\"},{\"name\":\"gap\",\"kind\":\"Any\",\"default\":\"\"},{\"name\":\"justify_content\",\"kind\":\"Any\",\"default\":\"flex-start\"}]},{\"type\":\"model\",\"name\":\"FloatPanel1\",\"properties\":[{\"name\":\"config\",\"kind\":\"Any\",\"default\":{\"type\":\"map\"}},{\"name\":\"contained\",\"kind\":\"Any\",\"default\":true},{\"name\":\"position\",\"kind\":\"Any\",\"default\":\"right-top\"},{\"name\":\"offsetx\",\"kind\":\"Any\",\"default\":null},{\"name\":\"offsety\",\"kind\":\"Any\",\"default\":null},{\"name\":\"theme\",\"kind\":\"Any\",\"default\":\"primary\"},{\"name\":\"status\",\"kind\":\"Any\",\"default\":\"normalized\"}]},{\"type\":\"model\",\"name\":\"GridStack1\",\"properties\":[{\"name\":\"mode\",\"kind\":\"Any\",\"default\":\"warn\"},{\"name\":\"ncols\",\"kind\":\"Any\",\"default\":null},{\"name\":\"nrows\",\"kind\":\"Any\",\"default\":null},{\"name\":\"allow_resize\",\"kind\":\"Any\",\"default\":true},{\"name\":\"allow_drag\",\"kind\":\"Any\",\"default\":true},{\"name\":\"state\",\"kind\":\"Any\",\"default\":[]}]},{\"type\":\"model\",\"name\":\"drag1\",\"properties\":[{\"name\":\"slider_width\",\"kind\":\"Any\",\"default\":5},{\"name\":\"slider_color\",\"kind\":\"Any\",\"default\":\"black\"},{\"name\":\"value\",\"kind\":\"Any\",\"default\":50}]},{\"type\":\"model\",\"name\":\"click1\",\"properties\":[{\"name\":\"terminal_output\",\"kind\":\"Any\",\"default\":\"\"},{\"name\":\"debug_name\",\"kind\":\"Any\",\"default\":\"\"},{\"name\":\"clears\",\"kind\":\"Any\",\"default\":0}]},{\"type\":\"model\",\"name\":\"FastWrapper1\",\"properties\":[{\"name\":\"object\",\"kind\":\"Any\",\"default\":null},{\"name\":\"style\",\"kind\":\"Any\",\"default\":null}]},{\"type\":\"model\",\"name\":\"NotificationAreaBase1\",\"properties\":[{\"name\":\"js_events\",\"kind\":\"Any\",\"default\":{\"type\":\"map\"}},{\"name\":\"position\",\"kind\":\"Any\",\"default\":\"bottom-right\"},{\"name\":\"_clear\",\"kind\":\"Any\",\"default\":0}]},{\"type\":\"model\",\"name\":\"NotificationArea1\",\"properties\":[{\"name\":\"js_events\",\"kind\":\"Any\",\"default\":{\"type\":\"map\"}},{\"name\":\"notifications\",\"kind\":\"Any\",\"default\":[]},{\"name\":\"position\",\"kind\":\"Any\",\"default\":\"bottom-right\"},{\"name\":\"_clear\",\"kind\":\"Any\",\"default\":0},{\"name\":\"types\",\"kind\":\"Any\",\"default\":[{\"type\":\"map\",\"entries\":[[\"type\",\"warning\"],[\"background\",\"#ffc107\"],[\"icon\",{\"type\":\"map\",\"entries\":[[\"className\",\"fas fa-exclamation-triangle\"],[\"tagName\",\"i\"],[\"color\",\"white\"]]}]]},{\"type\":\"map\",\"entries\":[[\"type\",\"info\"],[\"background\",\"#007bff\"],[\"icon\",{\"type\":\"map\",\"entries\":[[\"className\",\"fas fa-info-circle\"],[\"tagName\",\"i\"],[\"color\",\"white\"]]}]]}]}]},{\"type\":\"model\",\"name\":\"Notification\",\"properties\":[{\"name\":\"background\",\"kind\":\"Any\",\"default\":null},{\"name\":\"duration\",\"kind\":\"Any\",\"default\":3000},{\"name\":\"icon\",\"kind\":\"Any\",\"default\":null},{\"name\":\"message\",\"kind\":\"Any\",\"default\":\"\"},{\"name\":\"notification_type\",\"kind\":\"Any\",\"default\":null},{\"name\":\"_rendered\",\"kind\":\"Any\",\"default\":false},{\"name\":\"_destroyed\",\"kind\":\"Any\",\"default\":false}]},{\"type\":\"model\",\"name\":\"TemplateActions1\",\"properties\":[{\"name\":\"open_modal\",\"kind\":\"Any\",\"default\":0},{\"name\":\"close_modal\",\"kind\":\"Any\",\"default\":0}]},{\"type\":\"model\",\"name\":\"BootstrapTemplateActions1\",\"properties\":[{\"name\":\"open_modal\",\"kind\":\"Any\",\"default\":0},{\"name\":\"close_modal\",\"kind\":\"Any\",\"default\":0}]},{\"type\":\"model\",\"name\":\"TemplateEditor1\",\"properties\":[{\"name\":\"layout\",\"kind\":\"Any\",\"default\":[]}]},{\"type\":\"model\",\"name\":\"MaterialTemplateActions1\",\"properties\":[{\"name\":\"open_modal\",\"kind\":\"Any\",\"default\":0},{\"name\":\"close_modal\",\"kind\":\"Any\",\"default\":0}]},{\"type\":\"model\",\"name\":\"ReactiveESM1\",\"properties\":[{\"name\":\"esm_constants\",\"kind\":\"Any\",\"default\":{\"type\":\"map\"}}]},{\"type\":\"model\",\"name\":\"JSComponent1\",\"properties\":[{\"name\":\"esm_constants\",\"kind\":\"Any\",\"default\":{\"type\":\"map\"}}]},{\"type\":\"model\",\"name\":\"ReactComponent1\",\"properties\":[{\"name\":\"esm_constants\",\"kind\":\"Any\",\"default\":{\"type\":\"map\"}}]},{\"type\":\"model\",\"name\":\"AnyWidgetComponent1\",\"properties\":[{\"name\":\"esm_constants\",\"kind\":\"Any\",\"default\":{\"type\":\"map\"}}]},{\"type\":\"model\",\"name\":\"request_value1\",\"properties\":[{\"name\":\"fill\",\"kind\":\"Any\",\"default\":\"none\"},{\"name\":\"_synced\",\"kind\":\"Any\",\"default\":null},{\"name\":\"_request_sync\",\"kind\":\"Any\",\"default\":0}]}]}};\n",
       "  var render_items = [{\"docid\":\"f45425af-dc14-453a-a80c-806c544f4c24\",\"roots\":{\"244290b0-db82-4f98-a12c-0040ebe6f067\":\"e03dc780-bf21-4c5e-829f-b24d9730c326\"},\"root_ids\":[\"244290b0-db82-4f98-a12c-0040ebe6f067\"]}];\n",
       "  var docs = Object.values(docs_json)\n",
       "  if (!docs) {\n",
       "    return\n",
       "  }\n",
       "  const py_version = docs[0].version.replace('rc', '-rc.').replace('.dev', '-dev.')\n",
       "  async function embed_document(root) {\n",
       "    var Bokeh = get_bokeh(root)\n",
       "    await Bokeh.embed.embed_items_notebook(docs_json, render_items);\n",
       "    for (const render_item of render_items) {\n",
       "      for (const root_id of render_item.root_ids) {\n",
       "\tconst id_el = document.getElementById(root_id)\n",
       "\tif (id_el.children.length && id_el.children[0].hasAttribute('data-root-id')) {\n",
       "\t  const root_el = id_el.children[0]\n",
       "\t  root_el.id = root_el.id + '-rendered'\n",
       "\t  for (const child of root_el.children) {\n",
       "            // Ensure JupyterLab does not capture keyboard shortcuts\n",
       "            // see: https://jupyterlab.readthedocs.io/en/4.1.x/extension/notebook.html#keyboard-interaction-model\n",
       "\t    child.setAttribute('data-lm-suppress-shortcuts', 'true')\n",
       "\t  }\n",
       "\t}\n",
       "      }\n",
       "    }\n",
       "  }\n",
       "  function get_bokeh(root) {\n",
       "    if (root.Bokeh === undefined) {\n",
       "      return null\n",
       "    } else if (root.Bokeh.version !== py_version) {\n",
       "      if (root.Bokeh.versions === undefined || !root.Bokeh.versions.has(py_version)) {\n",
       "\treturn null\n",
       "      }\n",
       "      return root.Bokeh.versions.get(py_version);\n",
       "    } else if (root.Bokeh.version === py_version) {\n",
       "      return root.Bokeh\n",
       "    }\n",
       "    return null\n",
       "  }\n",
       "  function is_loaded(root) {\n",
       "    var Bokeh = get_bokeh(root)\n",
       "    return (Bokeh != null && Bokeh.Panel !== undefined)\n",
       "  }\n",
       "  if (is_loaded(root)) {\n",
       "    embed_document(root);\n",
       "  } else {\n",
       "    var attempts = 0;\n",
       "    var timer = setInterval(function(root) {\n",
       "      if (is_loaded(root)) {\n",
       "        clearInterval(timer);\n",
       "        embed_document(root);\n",
       "      } else if (document.readyState == \"complete\") {\n",
       "        attempts++;\n",
       "        if (attempts > 200) {\n",
       "          clearInterval(timer);\n",
       "\t  var Bokeh = get_bokeh(root)\n",
       "\t  if (Bokeh == null || Bokeh.Panel == null) {\n",
       "            console.warn(\"Panel: ERROR: Unable to run Panel code because Bokeh or Panel library is missing\");\n",
       "\t  } else {\n",
       "\t    console.warn(\"Panel: WARNING: Attempting to render but not all required libraries could be resolved.\")\n",
       "\t    embed_document(root)\n",
       "\t  }\n",
       "        }\n",
       "      }\n",
       "    }, 25, root)\n",
       "  }\n",
       "})(window);</script>"
      ]
     },
     "metadata": {
      "application/vnd.holoviews_exec.v0+json": {
       "id": "244290b0-db82-4f98-a12c-0040ebe6f067"
      }
     },
     "output_type": "display_data"
    },
    {
     "data": {},
     "metadata": {},
     "output_type": "display_data"
    },
    {
     "data": {
      "application/vnd.holoviews_exec.v0+json": "",
      "text/html": [
       "<div id='55a323dc-fa5c-427d-bf1a-23a21e949c1f'>\n",
       "  <div id=\"a6d4d691-3073-4035-9e4a-faa7c28227ad\" data-root-id=\"55a323dc-fa5c-427d-bf1a-23a21e949c1f\" style=\"display: contents;\"></div>\n",
       "</div>\n",
       "<script type=\"application/javascript\">(function(root) {\n",
       "  var docs_json = {\"48022b66-b198-4258-a38b-209374abd4a4\":{\"version\":\"3.6.3\",\"title\":\"Bokeh Application\",\"roots\":[{\"type\":\"object\",\"name\":\"Row\",\"id\":\"55a323dc-fa5c-427d-bf1a-23a21e949c1f\",\"attributes\":{\"name\":\"Row00279\",\"tags\":[\"embedded\"],\"stylesheets\":[\"\\n:host(.pn-loading):before, .pn-loading:before {\\n  background-color: #c3c3c3;\\n  mask-size: auto calc(min(50%, 400px));\\n  -webkit-mask-size: auto calc(min(50%, 400px));\\n}\",{\"type\":\"object\",\"name\":\"ImportedStyleSheet\",\"id\":\"3635551c-100b-4ae2-98ec-3fc4d4560ef8\",\"attributes\":{\"url\":\"https://cdn.holoviz.org/panel/1.6.1/dist/css/loading.css\"}},{\"type\":\"object\",\"name\":\"ImportedStyleSheet\",\"id\":\"aca0ef5e-1e82-40a8-a02f-24473c3a20a3\",\"attributes\":{\"url\":\"https://cdn.holoviz.org/panel/1.6.1/dist/css/listpanel.css\"}},{\"type\":\"object\",\"name\":\"ImportedStyleSheet\",\"id\":\"a9ed5a88-84dc-429f-87a5-f1faba3109b5\",\"attributes\":{\"url\":\"https://cdn.holoviz.org/panel/1.6.1/dist/bundled/theme/default.css\"}},{\"type\":\"object\",\"name\":\"ImportedStyleSheet\",\"id\":\"99be5ff6-e058-483d-bf13-1d80deec3589\",\"attributes\":{\"url\":\"https://cdn.holoviz.org/panel/1.6.1/dist/bundled/theme/native.css\"}}],\"min_width\":700,\"margin\":0,\"sizing_mode\":\"stretch_width\",\"align\":\"start\",\"children\":[{\"type\":\"object\",\"name\":\"Spacer\",\"id\":\"1bbc95d6-5b1f-424d-9e7d-b8802bc13d48\",\"attributes\":{\"name\":\"HSpacer00283\",\"stylesheets\":[\"\\n:host(.pn-loading):before, .pn-loading:before {\\n  background-color: #c3c3c3;\\n  mask-size: auto calc(min(50%, 400px));\\n  -webkit-mask-size: auto calc(min(50%, 400px));\\n}\",{\"id\":\"3635551c-100b-4ae2-98ec-3fc4d4560ef8\"},{\"id\":\"a9ed5a88-84dc-429f-87a5-f1faba3109b5\"},{\"id\":\"99be5ff6-e058-483d-bf13-1d80deec3589\"}],\"margin\":0,\"sizing_mode\":\"stretch_width\",\"align\":\"start\"}},{\"type\":\"object\",\"name\":\"Figure\",\"id\":\"74ae4b1b-f583-4af8-9a41-1fed2dda9cee\",\"attributes\":{\"width\":700,\"height\":300,\"margin\":[5,10],\"sizing_mode\":\"fixed\",\"align\":\"start\",\"x_range\":{\"type\":\"object\",\"name\":\"Range1d\",\"id\":\"d5839a22-3c3f-4046-b0ec-75eda1bc7d7e\",\"attributes\":{\"name\":\"index\",\"tags\":[[[\"index\",null]],[]],\"end\":730.0,\"reset_start\":0.0,\"reset_end\":730.0}},\"y_range\":{\"type\":\"object\",\"name\":\"Range1d\",\"id\":\"b4075ab0-4237-41b3-8ebb-737af0eebcf5\",\"attributes\":{\"name\":\"sales_net\",\"tags\":[[[\"sales_net\",null]],{\"type\":\"map\",\"entries\":[[\"invert_yaxis\",false],[\"autorange\",false]]}],\"start\":-2672646.5392608363,\"end\":29456092.302749198,\"reset_start\":-2672646.5392608363,\"reset_end\":29456092.302749198}},\"x_scale\":{\"type\":\"object\",\"name\":\"LinearScale\",\"id\":\"4c5f01d2-58fa-45cc-8d3b-4543b8775db7\"},\"y_scale\":{\"type\":\"object\",\"name\":\"LinearScale\",\"id\":\"bf1c08ce-1eb8-4802-8ec6-97343bdb54c7\"},\"title\":{\"type\":\"object\",\"name\":\"Title\",\"id\":\"bc5f14cc-e150-4624-914e-233c83c81840\",\"attributes\":{\"text_color\":\"black\",\"text_font_size\":\"12pt\"}},\"renderers\":[{\"type\":\"object\",\"name\":\"GlyphRenderer\",\"id\":\"911639f2-b745-4089-aa83-39da2550cb84\",\"attributes\":{\"data_source\":{\"type\":\"object\",\"name\":\"ColumnDataSource\",\"id\":\"a0f505d5-4b35-4a42-bec9-be73bf128a81\",\"attributes\":{\"selected\":{\"type\":\"object\",\"name\":\"Selection\",\"id\":\"65e1d51d-7840-4246-b66f-4d2721019e00\",\"attributes\":{\"indices\":[],\"line_indices\":[]}},\"selection_policy\":{\"type\":\"object\",\"name\":\"UnionRenderers\",\"id\":\"9d0ebeb7-5ba5-4778-a570-2e21484a2c56\"},\"data\":{\"type\":\"map\",\"entries\":[[\"index\",{\"type\":\"ndarray\",\"array\":{\"type\":\"bytes\",\"data\":\"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\"},\"shape\":[731],\"dtype\":\"int32\",\"order\":\"little\"}],[\"sales_net\",{\"type\":\"ndarray\",\"array\":{\"type\":\"bytes\",\"data\":\"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\"},\"shape\":[731],\"dtype\":\"float64\",\"order\":\"little\"}]]}}},\"view\":{\"type\":\"object\",\"name\":\"CDSView\",\"id\":\"2821f07d-7f9c-4930-b87f-47481ac72b3e\",\"attributes\":{\"filter\":{\"type\":\"object\",\"name\":\"AllIndices\",\"id\":\"dc22fd84-3928-43c4-b266-53d2649a782a\"}}},\"glyph\":{\"type\":\"object\",\"name\":\"Line\",\"id\":\"93403fdf-280d-4aea-b269-f0ec17f847fd\",\"attributes\":{\"tags\":[\"apply_ranges\"],\"x\":{\"type\":\"field\",\"field\":\"index\"},\"y\":{\"type\":\"field\",\"field\":\"sales_net\"},\"line_color\":\"#30a2da\",\"line_width\":2}},\"selection_glyph\":{\"type\":\"object\",\"name\":\"Line\",\"id\":\"43f78f10-5275-4525-b098-dabd8f3d746d\",\"attributes\":{\"tags\":[\"apply_ranges\"],\"x\":{\"type\":\"field\",\"field\":\"index\"},\"y\":{\"type\":\"field\",\"field\":\"sales_net\"},\"line_color\":\"#30a2da\",\"line_width\":2}},\"nonselection_glyph\":{\"type\":\"object\",\"name\":\"Line\",\"id\":\"cd030eac-bbb1-4386-9aa5-efd77051bb70\",\"attributes\":{\"tags\":[\"apply_ranges\"],\"x\":{\"type\":\"field\",\"field\":\"index\"},\"y\":{\"type\":\"field\",\"field\":\"sales_net\"},\"line_color\":\"#30a2da\",\"line_alpha\":0.1,\"line_width\":2}},\"muted_glyph\":{\"type\":\"object\",\"name\":\"Line\",\"id\":\"3e3b4b18-5174-4d7a-8d9b-ab88e43360b5\",\"attributes\":{\"tags\":[\"apply_ranges\"],\"x\":{\"type\":\"field\",\"field\":\"index\"},\"y\":{\"type\":\"field\",\"field\":\"sales_net\"},\"line_color\":\"#30a2da\",\"line_alpha\":0.2,\"line_width\":2}}}}],\"toolbar\":{\"type\":\"object\",\"name\":\"Toolbar\",\"id\":\"85ac8cc8-f736-4d8e-a08b-9d2f5bf6be89\",\"attributes\":{\"tools\":[{\"type\":\"object\",\"name\":\"WheelZoomTool\",\"id\":\"5e487065-ece1-4dfa-890e-eac1cf0cab55\",\"attributes\":{\"tags\":[\"hv_created\"],\"renderers\":\"auto\",\"zoom_together\":\"none\"}},{\"type\":\"object\",\"name\":\"HoverTool\",\"id\":\"2fb89ce6-f46d-4728-9514-b5991f9d6a87\",\"attributes\":{\"tags\":[\"hv_created\"],\"renderers\":[{\"id\":\"911639f2-b745-4089-aa83-39da2550cb84\"}],\"tooltips\":[[\"index\",\"@{index}\"],[\"sales_net\",\"@{sales_net}\"]]}},{\"type\":\"object\",\"name\":\"SaveTool\",\"id\":\"2a47e4da-d5ed-4bea-8f2f-0ccf6d086dd1\"},{\"type\":\"object\",\"name\":\"PanTool\",\"id\":\"9fc1b325-d90d-495f-b6e4-08570a7d05e9\"},{\"type\":\"object\",\"name\":\"BoxZoomTool\",\"id\":\"4560a174-74bc-4bb4-bcf7-0d590b9cfb18\",\"attributes\":{\"overlay\":{\"type\":\"object\",\"name\":\"BoxAnnotation\",\"id\":\"d9ef3429-b048-449b-8e56-8292fa5190c5\",\"attributes\":{\"syncable\":false,\"line_color\":\"black\",\"line_alpha\":1.0,\"line_width\":2,\"line_dash\":[4,4],\"fill_color\":\"lightgrey\",\"fill_alpha\":0.5,\"level\":\"overlay\",\"visible\":false,\"left\":{\"type\":\"number\",\"value\":\"nan\"},\"right\":{\"type\":\"number\",\"value\":\"nan\"},\"top\":{\"type\":\"number\",\"value\":\"nan\"},\"bottom\":{\"type\":\"number\",\"value\":\"nan\"},\"left_units\":\"canvas\",\"right_units\":\"canvas\",\"top_units\":\"canvas\",\"bottom_units\":\"canvas\",\"handles\":{\"type\":\"object\",\"name\":\"BoxInteractionHandles\",\"id\":\"7ec018e6-6efc-4919-b855-0109612e8334\",\"attributes\":{\"all\":{\"type\":\"object\",\"name\":\"AreaVisuals\",\"id\":\"17aad03e-d114-40f9-b2ef-d3a4be39e08c\",\"attributes\":{\"fill_color\":\"white\",\"hover_fill_color\":\"lightgray\"}}}}}}}},{\"type\":\"object\",\"name\":\"ResetTool\",\"id\":\"356258f1-1786-474a-bb78-7576e9485904\"}],\"active_drag\":{\"id\":\"9fc1b325-d90d-495f-b6e4-08570a7d05e9\"},\"active_scroll\":{\"id\":\"5e487065-ece1-4dfa-890e-eac1cf0cab55\"}}},\"left\":[{\"type\":\"object\",\"name\":\"LinearAxis\",\"id\":\"792b0c4d-24ad-451d-bc3d-e1cf31fcba12\",\"attributes\":{\"ticker\":{\"type\":\"object\",\"name\":\"BasicTicker\",\"id\":\"357df975-fea4-432f-a595-bf352a95fa68\",\"attributes\":{\"mantissas\":[1,2,5]}},\"formatter\":{\"type\":\"object\",\"name\":\"BasicTickFormatter\",\"id\":\"4ba959f4-80d6-40ed-9821-24f51b9f64ff\"},\"axis_label\":\"sales_net\",\"major_label_policy\":{\"type\":\"object\",\"name\":\"AllLabels\",\"id\":\"15d3487e-dbfe-4e2e-b6e9-1ab8d75c56fd\"}}}],\"below\":[{\"type\":\"object\",\"name\":\"LinearAxis\",\"id\":\"d718b6b6-6c10-45b8-9c28-ee9df235e658\",\"attributes\":{\"ticker\":{\"type\":\"object\",\"name\":\"BasicTicker\",\"id\":\"9f9cd68d-6939-484b-aa6b-12deb4a5b10b\",\"attributes\":{\"mantissas\":[1,2,5]}},\"formatter\":{\"type\":\"object\",\"name\":\"BasicTickFormatter\",\"id\":\"39842591-31d2-4cfb-b148-63916e6e1737\"},\"axis_label\":\"\",\"major_label_policy\":{\"type\":\"object\",\"name\":\"AllLabels\",\"id\":\"0bf72ded-8064-4f0f-b2c6-d4146463b6c7\"}}}],\"center\":[{\"type\":\"object\",\"name\":\"Grid\",\"id\":\"04dea5b4-6158-4dc9-9668-c89369d061ce\",\"attributes\":{\"axis\":{\"id\":\"d718b6b6-6c10-45b8-9c28-ee9df235e658\"},\"grid_line_color\":null}},{\"type\":\"object\",\"name\":\"Grid\",\"id\":\"cc718902-ae50-48be-a723-7f761a499866\",\"attributes\":{\"dimension\":1,\"axis\":{\"id\":\"792b0c4d-24ad-451d-bc3d-e1cf31fcba12\"},\"grid_line_color\":null}}],\"min_border_top\":10,\"min_border_bottom\":10,\"min_border_left\":10,\"min_border_right\":10,\"output_backend\":\"webgl\"}},{\"type\":\"object\",\"name\":\"Spacer\",\"id\":\"aa6bad62-6991-457a-b6d1-aa0c1f9b7041\",\"attributes\":{\"name\":\"HSpacer00284\",\"stylesheets\":[\"\\n:host(.pn-loading):before, .pn-loading:before {\\n  background-color: #c3c3c3;\\n  mask-size: auto calc(min(50%, 400px));\\n  -webkit-mask-size: auto calc(min(50%, 400px));\\n}\",{\"id\":\"3635551c-100b-4ae2-98ec-3fc4d4560ef8\"},{\"id\":\"a9ed5a88-84dc-429f-87a5-f1faba3109b5\"},{\"id\":\"99be5ff6-e058-483d-bf13-1d80deec3589\"}],\"margin\":0,\"sizing_mode\":\"stretch_width\",\"align\":\"start\"}}]}}],\"defs\":[{\"type\":\"model\",\"name\":\"ReactiveHTML1\"},{\"type\":\"model\",\"name\":\"FlexBox1\",\"properties\":[{\"name\":\"align_content\",\"kind\":\"Any\",\"default\":\"flex-start\"},{\"name\":\"align_items\",\"kind\":\"Any\",\"default\":\"flex-start\"},{\"name\":\"flex_direction\",\"kind\":\"Any\",\"default\":\"row\"},{\"name\":\"flex_wrap\",\"kind\":\"Any\",\"default\":\"wrap\"},{\"name\":\"gap\",\"kind\":\"Any\",\"default\":\"\"},{\"name\":\"justify_content\",\"kind\":\"Any\",\"default\":\"flex-start\"}]},{\"type\":\"model\",\"name\":\"FloatPanel1\",\"properties\":[{\"name\":\"config\",\"kind\":\"Any\",\"default\":{\"type\":\"map\"}},{\"name\":\"contained\",\"kind\":\"Any\",\"default\":true},{\"name\":\"position\",\"kind\":\"Any\",\"default\":\"right-top\"},{\"name\":\"offsetx\",\"kind\":\"Any\",\"default\":null},{\"name\":\"offsety\",\"kind\":\"Any\",\"default\":null},{\"name\":\"theme\",\"kind\":\"Any\",\"default\":\"primary\"},{\"name\":\"status\",\"kind\":\"Any\",\"default\":\"normalized\"}]},{\"type\":\"model\",\"name\":\"GridStack1\",\"properties\":[{\"name\":\"mode\",\"kind\":\"Any\",\"default\":\"warn\"},{\"name\":\"ncols\",\"kind\":\"Any\",\"default\":null},{\"name\":\"nrows\",\"kind\":\"Any\",\"default\":null},{\"name\":\"allow_resize\",\"kind\":\"Any\",\"default\":true},{\"name\":\"allow_drag\",\"kind\":\"Any\",\"default\":true},{\"name\":\"state\",\"kind\":\"Any\",\"default\":[]}]},{\"type\":\"model\",\"name\":\"drag1\",\"properties\":[{\"name\":\"slider_width\",\"kind\":\"Any\",\"default\":5},{\"name\":\"slider_color\",\"kind\":\"Any\",\"default\":\"black\"},{\"name\":\"value\",\"kind\":\"Any\",\"default\":50}]},{\"type\":\"model\",\"name\":\"click1\",\"properties\":[{\"name\":\"terminal_output\",\"kind\":\"Any\",\"default\":\"\"},{\"name\":\"debug_name\",\"kind\":\"Any\",\"default\":\"\"},{\"name\":\"clears\",\"kind\":\"Any\",\"default\":0}]},{\"type\":\"model\",\"name\":\"FastWrapper1\",\"properties\":[{\"name\":\"object\",\"kind\":\"Any\",\"default\":null},{\"name\":\"style\",\"kind\":\"Any\",\"default\":null}]},{\"type\":\"model\",\"name\":\"NotificationAreaBase1\",\"properties\":[{\"name\":\"js_events\",\"kind\":\"Any\",\"default\":{\"type\":\"map\"}},{\"name\":\"position\",\"kind\":\"Any\",\"default\":\"bottom-right\"},{\"name\":\"_clear\",\"kind\":\"Any\",\"default\":0}]},{\"type\":\"model\",\"name\":\"NotificationArea1\",\"properties\":[{\"name\":\"js_events\",\"kind\":\"Any\",\"default\":{\"type\":\"map\"}},{\"name\":\"notifications\",\"kind\":\"Any\",\"default\":[]},{\"name\":\"position\",\"kind\":\"Any\",\"default\":\"bottom-right\"},{\"name\":\"_clear\",\"kind\":\"Any\",\"default\":0},{\"name\":\"types\",\"kind\":\"Any\",\"default\":[{\"type\":\"map\",\"entries\":[[\"type\",\"warning\"],[\"background\",\"#ffc107\"],[\"icon\",{\"type\":\"map\",\"entries\":[[\"className\",\"fas fa-exclamation-triangle\"],[\"tagName\",\"i\"],[\"color\",\"white\"]]}]]},{\"type\":\"map\",\"entries\":[[\"type\",\"info\"],[\"background\",\"#007bff\"],[\"icon\",{\"type\":\"map\",\"entries\":[[\"className\",\"fas fa-info-circle\"],[\"tagName\",\"i\"],[\"color\",\"white\"]]}]]}]}]},{\"type\":\"model\",\"name\":\"Notification\",\"properties\":[{\"name\":\"background\",\"kind\":\"Any\",\"default\":null},{\"name\":\"duration\",\"kind\":\"Any\",\"default\":3000},{\"name\":\"icon\",\"kind\":\"Any\",\"default\":null},{\"name\":\"message\",\"kind\":\"Any\",\"default\":\"\"},{\"name\":\"notification_type\",\"kind\":\"Any\",\"default\":null},{\"name\":\"_rendered\",\"kind\":\"Any\",\"default\":false},{\"name\":\"_destroyed\",\"kind\":\"Any\",\"default\":false}]},{\"type\":\"model\",\"name\":\"TemplateActions1\",\"properties\":[{\"name\":\"open_modal\",\"kind\":\"Any\",\"default\":0},{\"name\":\"close_modal\",\"kind\":\"Any\",\"default\":0}]},{\"type\":\"model\",\"name\":\"BootstrapTemplateActions1\",\"properties\":[{\"name\":\"open_modal\",\"kind\":\"Any\",\"default\":0},{\"name\":\"close_modal\",\"kind\":\"Any\",\"default\":0}]},{\"type\":\"model\",\"name\":\"TemplateEditor1\",\"properties\":[{\"name\":\"layout\",\"kind\":\"Any\",\"default\":[]}]},{\"type\":\"model\",\"name\":\"MaterialTemplateActions1\",\"properties\":[{\"name\":\"open_modal\",\"kind\":\"Any\",\"default\":0},{\"name\":\"close_modal\",\"kind\":\"Any\",\"default\":0}]},{\"type\":\"model\",\"name\":\"ReactiveESM1\",\"properties\":[{\"name\":\"esm_constants\",\"kind\":\"Any\",\"default\":{\"type\":\"map\"}}]},{\"type\":\"model\",\"name\":\"JSComponent1\",\"properties\":[{\"name\":\"esm_constants\",\"kind\":\"Any\",\"default\":{\"type\":\"map\"}}]},{\"type\":\"model\",\"name\":\"ReactComponent1\",\"properties\":[{\"name\":\"esm_constants\",\"kind\":\"Any\",\"default\":{\"type\":\"map\"}}]},{\"type\":\"model\",\"name\":\"AnyWidgetComponent1\",\"properties\":[{\"name\":\"esm_constants\",\"kind\":\"Any\",\"default\":{\"type\":\"map\"}}]},{\"type\":\"model\",\"name\":\"request_value1\",\"properties\":[{\"name\":\"fill\",\"kind\":\"Any\",\"default\":\"none\"},{\"name\":\"_synced\",\"kind\":\"Any\",\"default\":null},{\"name\":\"_request_sync\",\"kind\":\"Any\",\"default\":0}]}]}};\n",
       "  var render_items = [{\"docid\":\"48022b66-b198-4258-a38b-209374abd4a4\",\"roots\":{\"55a323dc-fa5c-427d-bf1a-23a21e949c1f\":\"a6d4d691-3073-4035-9e4a-faa7c28227ad\"},\"root_ids\":[\"55a323dc-fa5c-427d-bf1a-23a21e949c1f\"]}];\n",
       "  var docs = Object.values(docs_json)\n",
       "  if (!docs) {\n",
       "    return\n",
       "  }\n",
       "  const py_version = docs[0].version.replace('rc', '-rc.').replace('.dev', '-dev.')\n",
       "  async function embed_document(root) {\n",
       "    var Bokeh = get_bokeh(root)\n",
       "    await Bokeh.embed.embed_items_notebook(docs_json, render_items);\n",
       "    for (const render_item of render_items) {\n",
       "      for (const root_id of render_item.root_ids) {\n",
       "\tconst id_el = document.getElementById(root_id)\n",
       "\tif (id_el.children.length && id_el.children[0].hasAttribute('data-root-id')) {\n",
       "\t  const root_el = id_el.children[0]\n",
       "\t  root_el.id = root_el.id + '-rendered'\n",
       "\t  for (const child of root_el.children) {\n",
       "            // Ensure JupyterLab does not capture keyboard shortcuts\n",
       "            // see: https://jupyterlab.readthedocs.io/en/4.1.x/extension/notebook.html#keyboard-interaction-model\n",
       "\t    child.setAttribute('data-lm-suppress-shortcuts', 'true')\n",
       "\t  }\n",
       "\t}\n",
       "      }\n",
       "    }\n",
       "  }\n",
       "  function get_bokeh(root) {\n",
       "    if (root.Bokeh === undefined) {\n",
       "      return null\n",
       "    } else if (root.Bokeh.version !== py_version) {\n",
       "      if (root.Bokeh.versions === undefined || !root.Bokeh.versions.has(py_version)) {\n",
       "\treturn null\n",
       "      }\n",
       "      return root.Bokeh.versions.get(py_version);\n",
       "    } else if (root.Bokeh.version === py_version) {\n",
       "      return root.Bokeh\n",
       "    }\n",
       "    return null\n",
       "  }\n",
       "  function is_loaded(root) {\n",
       "    var Bokeh = get_bokeh(root)\n",
       "    return (Bokeh != null && Bokeh.Panel !== undefined)\n",
       "  }\n",
       "  if (is_loaded(root)) {\n",
       "    embed_document(root);\n",
       "  } else {\n",
       "    var attempts = 0;\n",
       "    var timer = setInterval(function(root) {\n",
       "      if (is_loaded(root)) {\n",
       "        clearInterval(timer);\n",
       "        embed_document(root);\n",
       "      } else if (document.readyState == \"complete\") {\n",
       "        attempts++;\n",
       "        if (attempts > 200) {\n",
       "          clearInterval(timer);\n",
       "\t  var Bokeh = get_bokeh(root)\n",
       "\t  if (Bokeh == null || Bokeh.Panel == null) {\n",
       "            console.warn(\"Panel: ERROR: Unable to run Panel code because Bokeh or Panel library is missing\");\n",
       "\t  } else {\n",
       "\t    console.warn(\"Panel: WARNING: Attempting to render but not all required libraries could be resolved.\")\n",
       "\t    embed_document(root)\n",
       "\t  }\n",
       "        }\n",
       "      }\n",
       "    }, 25, root)\n",
       "  }\n",
       "})(window);</script>"
      ],
      "text/plain": [
       ":Curve   [index]   (sales_net)"
      ]
     },
     "execution_count": 10,
     "metadata": {
      "application/vnd.holoviews_exec.v0+json": {
       "id": "55a323dc-fa5c-427d-bf1a-23a21e949c1f"
      }
     },
     "output_type": "execute_result"
    }
   ],
   "source": [
    "# Check sales trends over time\n",
    "df.groupby(\"date_order\").agg(pl.col(\"sales_net\").sum()).sort(\"date_order\").plot()"
   ]
  },
  {
   "cell_type": "markdown",
   "metadata": {},
   "source": [
    "## 📊 Step 3: Feature Engineering for Churn Prediction"
   ]
  },
  {
   "cell_type": "code",
   "execution_count": 11,
   "metadata": {},
   "outputs": [
    {
     "name": "stderr",
     "output_type": "stream",
     "text": [
      "C:\\Users\\DELL\\AppData\\Local\\Temp\\ipykernel_23528\\2982527216.py:6: DeprecationWarning: `days` is deprecated. It has been renamed to `total_days`.\n",
      "  (latest_date - pl.col(\"date_order\").max()).dt.days().alias(\"recency\"),\n"
     ]
    }
   ],
   "source": [
    "# Get latest order date\n",
    "latest_date = df[\"date_order\"].max()\n",
    "\n",
    "# Compute RFM features\n",
    "rfm = df.group_by(\"client_id\").agg([\n",
    "    (latest_date - pl.col(\"date_order\").max()).dt.days().alias(\"recency\"),\n",
    "    pl.len().alias(\"frequency\"),\n",
    "    pl.col(\"sales_net\").sum().alias(\"monetary_value\"),\n",
    "    pl.col(\"sales_net\").mean().alias(\"avg_order_value\"),\n",
    "    pl.col(\"quantity\").mean().alias(\"avg_quantity\"),\n",
    "])\n"
   ]
  },
  {
   "cell_type": "code",
   "execution_count": 12,
   "metadata": {},
   "outputs": [
    {
     "data": {
      "text/html": [
       "<div><style>\n",
       ".dataframe > thead > tr,\n",
       ".dataframe > tbody > tr {\n",
       "  text-align: right;\n",
       "  white-space: pre-wrap;\n",
       "}\n",
       "</style>\n",
       "<small>shape: (5, 6)</small><table border=\"1\" class=\"dataframe\"><thead><tr><th>client_id</th><th>recency</th><th>frequency</th><th>monetary_value</th><th>avg_order_value</th><th>avg_quantity</th></tr><tr><td>i64</td><td>i64</td><td>u32</td><td>f64</td><td>f64</td><td>f64</td></tr></thead><tbody><tr><td>1071508</td><td>10</td><td>187</td><td>33309.145404</td><td>178.123772</td><td>30.540107</td></tr><tr><td>193110</td><td>10</td><td>342</td><td>38834.576806</td><td>113.551394</td><td>504.280702</td></tr><tr><td>1327543</td><td>2</td><td>1165</td><td>106312.721628</td><td>91.255555</td><td>30.553648</td></tr><tr><td>93073</td><td>82</td><td>33</td><td>14082.555892</td><td>426.744118</td><td>93.0</td></tr><tr><td>1146771</td><td>2</td><td>114</td><td>43667.468503</td><td>383.047969</td><td>47.631579</td></tr></tbody></table></div>"
      ],
      "text/plain": [
       "shape: (5, 6)\n",
       "┌───────────┬─────────┬───────────┬────────────────┬─────────────────┬──────────────┐\n",
       "│ client_id ┆ recency ┆ frequency ┆ monetary_value ┆ avg_order_value ┆ avg_quantity │\n",
       "│ ---       ┆ ---     ┆ ---       ┆ ---            ┆ ---             ┆ ---          │\n",
       "│ i64       ┆ i64     ┆ u32       ┆ f64            ┆ f64             ┆ f64          │\n",
       "╞═══════════╪═════════╪═══════════╪════════════════╪═════════════════╪══════════════╡\n",
       "│ 1071508   ┆ 10      ┆ 187       ┆ 33309.145404   ┆ 178.123772      ┆ 30.540107    │\n",
       "│ 193110    ┆ 10      ┆ 342       ┆ 38834.576806   ┆ 113.551394      ┆ 504.280702   │\n",
       "│ 1327543   ┆ 2       ┆ 1165      ┆ 106312.721628  ┆ 91.255555       ┆ 30.553648    │\n",
       "│ 93073     ┆ 82      ┆ 33        ┆ 14082.555892   ┆ 426.744118      ┆ 93.0         │\n",
       "│ 1146771   ┆ 2       ┆ 114       ┆ 43667.468503   ┆ 383.047969      ┆ 47.631579    │\n",
       "└───────────┴─────────┴───────────┴────────────────┴─────────────────┴──────────────┘"
      ]
     },
     "execution_count": 12,
     "metadata": {},
     "output_type": "execute_result"
    }
   ],
   "source": [
    "rfm.head()"
   ]
  },
  {
   "cell_type": "code",
   "execution_count": 13,
   "metadata": {},
   "outputs": [
    {
     "name": "stderr",
     "output_type": "stream",
     "text": [
      "C:\\Users\\DELL\\AppData\\Local\\Temp\\ipykernel_23528\\1373336219.py:5: DeprecationWarning: `days` is deprecated. It has been renamed to `total_days`.\n",
      "  pl.col(\"date_order\").diff().over(\"client_id\").dt.days().alias(\"days_between_orders\")\n",
      "C:\\Users\\DELL\\AppData\\Local\\Temp\\ipykernel_23528\\1373336219.py:15: DeprecationWarning: The default coalesce behavior of left join will change to `False` in the next breaking release. Pass `coalesce=True` to keep the current behavior and silence this warning.\n",
      "  rfm = rfm.join(time_features, on=\"client_id\", how=\"left\")\n"
     ]
    },
    {
     "data": {
      "text/html": [
       "<div><style>\n",
       ".dataframe > thead > tr,\n",
       ".dataframe > tbody > tr {\n",
       "  text-align: right;\n",
       "  white-space: pre-wrap;\n",
       "}\n",
       "</style>\n",
       "<small>shape: (5, 8)</small><table border=\"1\" class=\"dataframe\"><thead><tr><th>client_id</th><th>recency</th><th>frequency</th><th>monetary_value</th><th>avg_order_value</th><th>avg_quantity</th><th>avg_days_between_orders</th><th>std_days_between_orders</th></tr><tr><td>i64</td><td>i64</td><td>u32</td><td>f64</td><td>f64</td><td>f64</td><td>f64</td><td>f64</td></tr></thead><tbody><tr><td>1071508</td><td>10</td><td>187</td><td>33309.145404</td><td>178.123772</td><td>30.540107</td><td>3.795699</td><td>8.994364</td></tr><tr><td>193110</td><td>10</td><td>342</td><td>38834.576806</td><td>113.551394</td><td>504.280702</td><td>2.093842</td><td>6.118198</td></tr><tr><td>1327543</td><td>2</td><td>1165</td><td>106312.721628</td><td>91.255555</td><td>30.553648</td><td>0.621134</td><td>1.959153</td></tr><tr><td>93073</td><td>82</td><td>33</td><td>14082.555892</td><td>426.744118</td><td>93.0</td><td>14.1875</td><td>37.538314</td></tr><tr><td>1146771</td><td>2</td><td>114</td><td>43667.468503</td><td>383.047969</td><td>47.631579</td><td>4.610619</td><td>13.250629</td></tr></tbody></table></div>"
      ],
      "text/plain": [
       "shape: (5, 8)\n",
       "┌───────────┬─────────┬───────────┬────────────┬────────────┬────────────┬────────────┬────────────┐\n",
       "│ client_id ┆ recency ┆ frequency ┆ monetary_v ┆ avg_order_ ┆ avg_quanti ┆ avg_days_b ┆ std_days_b │\n",
       "│ ---       ┆ ---     ┆ ---       ┆ alue       ┆ value      ┆ ty         ┆ etween_ord ┆ etween_ord │\n",
       "│ i64       ┆ i64     ┆ u32       ┆ ---        ┆ ---        ┆ ---        ┆ ers        ┆ ers        │\n",
       "│           ┆         ┆           ┆ f64        ┆ f64        ┆ f64        ┆ ---        ┆ ---        │\n",
       "│           ┆         ┆           ┆            ┆            ┆            ┆ f64        ┆ f64        │\n",
       "╞═══════════╪═════════╪═══════════╪════════════╪════════════╪════════════╪════════════╪════════════╡\n",
       "│ 1071508   ┆ 10      ┆ 187       ┆ 33309.1454 ┆ 178.123772 ┆ 30.540107  ┆ 3.795699   ┆ 8.994364   │\n",
       "│           ┆         ┆           ┆ 04         ┆            ┆            ┆            ┆            │\n",
       "│ 193110    ┆ 10      ┆ 342       ┆ 38834.5768 ┆ 113.551394 ┆ 504.280702 ┆ 2.093842   ┆ 6.118198   │\n",
       "│           ┆         ┆           ┆ 06         ┆            ┆            ┆            ┆            │\n",
       "│ 1327543   ┆ 2       ┆ 1165      ┆ 106312.721 ┆ 91.255555  ┆ 30.553648  ┆ 0.621134   ┆ 1.959153   │\n",
       "│           ┆         ┆           ┆ 628        ┆            ┆            ┆            ┆            │\n",
       "│ 93073     ┆ 82      ┆ 33        ┆ 14082.5558 ┆ 426.744118 ┆ 93.0       ┆ 14.1875    ┆ 37.538314  │\n",
       "│           ┆         ┆           ┆ 92         ┆            ┆            ┆            ┆            │\n",
       "│ 1146771   ┆ 2       ┆ 114       ┆ 43667.4685 ┆ 383.047969 ┆ 47.631579  ┆ 4.610619   ┆ 13.250629  │\n",
       "│           ┆         ┆           ┆ 03         ┆            ┆            ┆            ┆            │\n",
       "└───────────┴─────────┴───────────┴────────────┴────────────┴────────────┴────────────┴────────────┘"
      ]
     },
     "execution_count": 13,
     "metadata": {},
     "output_type": "execute_result"
    }
   ],
   "source": [
    "# Compute days between orders per client\n",
    "df = df.sort([\"client_id\", \"date_order\"])\n",
    "\n",
    "df = df.with_columns(\n",
    "    pl.col(\"date_order\").diff().over(\"client_id\").dt.days().alias(\"days_between_orders\")\n",
    ")\n",
    "\n",
    "# Aggregate order patterns per client\n",
    "time_features = df.group_by(\"client_id\").agg([\n",
    "    pl.col(\"days_between_orders\").mean().alias(\"avg_days_between_orders\"),\n",
    "    pl.col(\"days_between_orders\").std().alias(\"std_days_between_orders\")\n",
    "])\n",
    "\n",
    "# Merge RFM & time-based features\n",
    "rfm = rfm.join(time_features, on=\"client_id\", how=\"left\")\n",
    "\n",
    "rfm.head()\n"
   ]
  },
  {
   "cell_type": "code",
   "execution_count": 14,
   "metadata": {},
   "outputs": [
    {
     "name": "stdout",
     "output_type": "stream",
     "text": [
      "shape: (2, 2)\n",
      "┌───────┬────────┐\n",
      "│ churn ┆ count  │\n",
      "│ ---   ┆ ---    │\n",
      "│ i8    ┆ u32    │\n",
      "╞═══════╪════════╡\n",
      "│ 0     ┆ 142228 │\n",
      "│ 1     ┆ 28361  │\n",
      "└───────┴────────┘\n"
     ]
    }
   ],
   "source": [
    "# Compute churn label (no orders in the last year)\n",
    "rfm = rfm.with_columns(\n",
    "    (pl.col(\"recency\") > 365).cast(pl.Int8()).alias(\"churn\")\n",
    ")\n",
    "\n",
    "# Check class distribution\n",
    "print(rfm[\"churn\"].value_counts())"
   ]
  },
  {
   "cell_type": "code",
   "execution_count": null,
   "metadata": {},
   "outputs": [],
   "source": []
  },
  {
   "cell_type": "markdown",
   "metadata": {},
   "source": [
    "## 🧠 Step 4: Train a Churn Prediction Model\n"
   ]
  },
  {
   "cell_type": "code",
   "execution_count": null,
   "metadata": {},
   "outputs": [],
   "source": [
    "from sklearn.model_selection import train_test_split\n",
    "import lightgbm as lgb\n",
    "\n",
    "\n"
   ]
  },
  {
   "cell_type": "code",
   "execution_count": 16,
   "metadata": {},
   "outputs": [
    {
     "name": "stdout",
     "output_type": "stream",
     "text": [
      "Class distribution: Counter({np.int8(0): 142228, np.int8(1): 28361})\n",
      "Minority class: 1\n"
     ]
    }
   ],
   "source": [
    "import numpy as np\n",
    "from collections import Counter\n",
    "\n",
    "# Check class distribution\n",
    "class_counts = Counter(y)\n",
    "print(f\"Class distribution: {class_counts}\")\n",
    "print(f\"Minority class: {min(class_counts, key=class_counts.get)}\")"
   ]
  },
  {
   "cell_type": "code",
   "execution_count": 20,
   "metadata": {},
   "outputs": [
    {
     "data": {
      "text/html": [
       "<div><style>\n",
       ".dataframe > thead > tr,\n",
       ".dataframe > tbody > tr {\n",
       "  text-align: right;\n",
       "  white-space: pre-wrap;\n",
       "}\n",
       "</style>\n",
       "<small>shape: (1, 9)</small><table border=\"1\" class=\"dataframe\"><thead><tr><th>client_id</th><th>recency</th><th>frequency</th><th>monetary_value</th><th>avg_order_value</th><th>avg_quantity</th><th>avg_days_between_orders</th><th>std_days_between_orders</th><th>churn</th></tr><tr><td>u32</td><td>u32</td><td>u32</td><td>u32</td><td>u32</td><td>u32</td><td>u32</td><td>u32</td><td>u32</td></tr></thead><tbody><tr><td>0</td><td>0</td><td>0</td><td>0</td><td>0</td><td>0</td><td>6310</td><td>13334</td><td>0</td></tr></tbody></table></div>"
      ],
      "text/plain": [
       "shape: (1, 9)\n",
       "┌───────────┬─────────┬───────────┬─────────────┬───┬────────────┬────────────┬────────────┬───────┐\n",
       "│ client_id ┆ recency ┆ frequency ┆ monetary_va ┆ … ┆ avg_quanti ┆ avg_days_b ┆ std_days_b ┆ churn │\n",
       "│ ---       ┆ ---     ┆ ---       ┆ lue         ┆   ┆ ty         ┆ etween_ord ┆ etween_ord ┆ ---   │\n",
       "│ u32       ┆ u32     ┆ u32       ┆ ---         ┆   ┆ ---        ┆ ers        ┆ ers        ┆ u32   │\n",
       "│           ┆         ┆           ┆ u32         ┆   ┆ u32        ┆ ---        ┆ ---        ┆       │\n",
       "│           ┆         ┆           ┆             ┆   ┆            ┆ u32        ┆ u32        ┆       │\n",
       "╞═══════════╪═════════╪═══════════╪═════════════╪═══╪════════════╪════════════╪════════════╪═══════╡\n",
       "│ 0         ┆ 0       ┆ 0         ┆ 0           ┆ … ┆ 0          ┆ 6310       ┆ 13334      ┆ 0     │\n",
       "└───────────┴─────────┴───────────┴─────────────┴───┴────────────┴────────────┴────────────┴───────┘"
      ]
     },
     "execution_count": 20,
     "metadata": {},
     "output_type": "execute_result"
    }
   ],
   "source": [
    "rfm.null_count()"
   ]
  },
  {
   "cell_type": "code",
   "execution_count": 21,
   "metadata": {},
   "outputs": [
    {
     "data": {
      "text/html": [
       "<div><style>\n",
       ".dataframe > thead > tr,\n",
       ".dataframe > tbody > tr {\n",
       "  text-align: right;\n",
       "  white-space: pre-wrap;\n",
       "}\n",
       "</style>\n",
       "<small>shape: (1, 9)</small><table border=\"1\" class=\"dataframe\"><thead><tr><th>client_id</th><th>recency</th><th>frequency</th><th>monetary_value</th><th>avg_order_value</th><th>avg_quantity</th><th>avg_days_between_orders</th><th>std_days_between_orders</th><th>churn</th></tr><tr><td>u32</td><td>u32</td><td>u32</td><td>u32</td><td>u32</td><td>u32</td><td>u32</td><td>u32</td><td>u32</td></tr></thead><tbody><tr><td>170589</td><td>170589</td><td>170589</td><td>170589</td><td>170589</td><td>170589</td><td>164279</td><td>157255</td><td>170589</td></tr></tbody></table></div>"
      ],
      "text/plain": [
       "shape: (1, 9)\n",
       "┌───────────┬─────────┬───────────┬────────────┬───┬────────────┬────────────┬────────────┬────────┐\n",
       "│ client_id ┆ recency ┆ frequency ┆ monetary_v ┆ … ┆ avg_quanti ┆ avg_days_b ┆ std_days_b ┆ churn  │\n",
       "│ ---       ┆ ---     ┆ ---       ┆ alue       ┆   ┆ ty         ┆ etween_ord ┆ etween_ord ┆ ---    │\n",
       "│ u32       ┆ u32     ┆ u32       ┆ ---        ┆   ┆ ---        ┆ ers        ┆ ers        ┆ u32    │\n",
       "│           ┆         ┆           ┆ u32        ┆   ┆ u32        ┆ ---        ┆ ---        ┆        │\n",
       "│           ┆         ┆           ┆            ┆   ┆            ┆ u32        ┆ u32        ┆        │\n",
       "╞═══════════╪═════════╪═══════════╪════════════╪═══╪════════════╪════════════╪════════════╪════════╡\n",
       "│ 170589    ┆ 170589  ┆ 170589    ┆ 170589     ┆ … ┆ 170589     ┆ 164279     ┆ 157255     ┆ 170589 │\n",
       "└───────────┴─────────┴───────────┴────────────┴───┴────────────┴────────────┴────────────┴────────┘"
      ]
     },
     "execution_count": 21,
     "metadata": {},
     "output_type": "execute_result"
    }
   ],
   "source": [
    "rfm.count()"
   ]
  },
  {
   "cell_type": "code",
   "execution_count": null,
   "metadata": {},
   "outputs": [],
   "source": [
    "rfm = rfm.fill_null(0)\n"
   ]
  },
  {
   "cell_type": "code",
   "execution_count": 23,
   "metadata": {},
   "outputs": [
    {
     "data": {
      "text/html": [
       "<div><style>\n",
       ".dataframe > thead > tr,\n",
       ".dataframe > tbody > tr {\n",
       "  text-align: right;\n",
       "  white-space: pre-wrap;\n",
       "}\n",
       "</style>\n",
       "<small>shape: (1, 9)</small><table border=\"1\" class=\"dataframe\"><thead><tr><th>client_id</th><th>recency</th><th>frequency</th><th>monetary_value</th><th>avg_order_value</th><th>avg_quantity</th><th>avg_days_between_orders</th><th>std_days_between_orders</th><th>churn</th></tr><tr><td>u32</td><td>u32</td><td>u32</td><td>u32</td><td>u32</td><td>u32</td><td>u32</td><td>u32</td><td>u32</td></tr></thead><tbody><tr><td>0</td><td>0</td><td>0</td><td>0</td><td>0</td><td>0</td><td>0</td><td>0</td><td>0</td></tr></tbody></table></div>"
      ],
      "text/plain": [
       "shape: (1, 9)\n",
       "┌───────────┬─────────┬───────────┬─────────────┬───┬────────────┬────────────┬────────────┬───────┐\n",
       "│ client_id ┆ recency ┆ frequency ┆ monetary_va ┆ … ┆ avg_quanti ┆ avg_days_b ┆ std_days_b ┆ churn │\n",
       "│ ---       ┆ ---     ┆ ---       ┆ lue         ┆   ┆ ty         ┆ etween_ord ┆ etween_ord ┆ ---   │\n",
       "│ u32       ┆ u32     ┆ u32       ┆ ---         ┆   ┆ ---        ┆ ers        ┆ ers        ┆ u32   │\n",
       "│           ┆         ┆           ┆ u32         ┆   ┆ u32        ┆ ---        ┆ ---        ┆       │\n",
       "│           ┆         ┆           ┆             ┆   ┆            ┆ u32        ┆ u32        ┆       │\n",
       "╞═══════════╪═════════╪═══════════╪═════════════╪═══╪════════════╪════════════╪════════════╪═══════╡\n",
       "│ 0         ┆ 0       ┆ 0         ┆ 0           ┆ … ┆ 0          ┆ 0          ┆ 0          ┆ 0     │\n",
       "└───────────┴─────────┴───────────┴─────────────┴───┴────────────┴────────────┴────────────┴───────┘"
      ]
     },
     "execution_count": 23,
     "metadata": {},
     "output_type": "execute_result"
    }
   ],
   "source": [
    "rfm.null_count()"
   ]
  },
  {
   "cell_type": "code",
   "execution_count": 48,
   "metadata": {},
   "outputs": [
    {
     "data": {
      "text/html": [
       "<div><style>\n",
       ".dataframe > thead > tr,\n",
       ".dataframe > tbody > tr {\n",
       "  text-align: right;\n",
       "  white-space: pre-wrap;\n",
       "}\n",
       "</style>\n",
       "<small>shape: (5, 9)</small><table border=\"1\" class=\"dataframe\"><thead><tr><th>client_id</th><th>recency</th><th>frequency</th><th>monetary_value</th><th>avg_order_value</th><th>avg_quantity</th><th>avg_days_between_orders</th><th>std_days_between_orders</th><th>churn</th></tr><tr><td>i64</td><td>i64</td><td>i64</td><td>f64</td><td>f64</td><td>f64</td><td>f64</td><td>f64</td><td>i8</td></tr></thead><tbody><tr><td>1071508</td><td>10</td><td>187</td><td>33309.145404</td><td>178.123772</td><td>30.540107</td><td>3.795699</td><td>8.994364</td><td>0</td></tr><tr><td>193110</td><td>10</td><td>342</td><td>38834.576806</td><td>113.551394</td><td>504.280702</td><td>2.093842</td><td>6.118198</td><td>0</td></tr><tr><td>1327543</td><td>2</td><td>1165</td><td>106312.721628</td><td>91.255555</td><td>30.553648</td><td>0.621134</td><td>1.959153</td><td>0</td></tr><tr><td>93073</td><td>82</td><td>33</td><td>14082.555892</td><td>426.744118</td><td>93.0</td><td>14.1875</td><td>37.538314</td><td>0</td></tr><tr><td>1146771</td><td>2</td><td>114</td><td>43667.468503</td><td>383.047969</td><td>47.631579</td><td>4.610619</td><td>13.250629</td><td>0</td></tr></tbody></table></div>"
      ],
      "text/plain": [
       "shape: (5, 9)\n",
       "┌───────────┬─────────┬───────────┬─────────────┬───┬────────────┬────────────┬────────────┬───────┐\n",
       "│ client_id ┆ recency ┆ frequency ┆ monetary_va ┆ … ┆ avg_quanti ┆ avg_days_b ┆ std_days_b ┆ churn │\n",
       "│ ---       ┆ ---     ┆ ---       ┆ lue         ┆   ┆ ty         ┆ etween_ord ┆ etween_ord ┆ ---   │\n",
       "│ i64       ┆ i64     ┆ i64       ┆ ---         ┆   ┆ ---        ┆ ers        ┆ ers        ┆ i8    │\n",
       "│           ┆         ┆           ┆ f64         ┆   ┆ f64        ┆ ---        ┆ ---        ┆       │\n",
       "│           ┆         ┆           ┆             ┆   ┆            ┆ f64        ┆ f64        ┆       │\n",
       "╞═══════════╪═════════╪═══════════╪═════════════╪═══╪════════════╪════════════╪════════════╪═══════╡\n",
       "│ 1071508   ┆ 10      ┆ 187       ┆ 33309.14540 ┆ … ┆ 30.540107  ┆ 3.795699   ┆ 8.994364   ┆ 0     │\n",
       "│           ┆         ┆           ┆ 4           ┆   ┆            ┆            ┆            ┆       │\n",
       "│ 193110    ┆ 10      ┆ 342       ┆ 38834.57680 ┆ … ┆ 504.280702 ┆ 2.093842   ┆ 6.118198   ┆ 0     │\n",
       "│           ┆         ┆           ┆ 6           ┆   ┆            ┆            ┆            ┆       │\n",
       "│ 1327543   ┆ 2       ┆ 1165      ┆ 106312.7216 ┆ … ┆ 30.553648  ┆ 0.621134   ┆ 1.959153   ┆ 0     │\n",
       "│           ┆         ┆           ┆ 28          ┆   ┆            ┆            ┆            ┆       │\n",
       "│ 93073     ┆ 82      ┆ 33        ┆ 14082.55589 ┆ … ┆ 93.0       ┆ 14.1875    ┆ 37.538314  ┆ 0     │\n",
       "│           ┆         ┆           ┆ 2           ┆   ┆            ┆            ┆            ┆       │\n",
       "│ 1146771   ┆ 2       ┆ 114       ┆ 43667.46850 ┆ … ┆ 47.631579  ┆ 4.610619   ┆ 13.250629  ┆ 0     │\n",
       "│           ┆         ┆           ┆ 3           ┆   ┆            ┆            ┆            ┆       │\n",
       "└───────────┴─────────┴───────────┴─────────────┴───┴────────────┴────────────┴────────────┴───────┘"
      ]
     },
     "execution_count": 48,
     "metadata": {},
     "output_type": "execute_result"
    }
   ],
   "source": [
    "rfm.head()"
   ]
  },
  {
   "cell_type": "code",
   "execution_count": 25,
   "metadata": {},
   "outputs": [],
   "source": [
    "# Convert Polars dataframe to NumPy for ML\n",
    "X = rfm.drop([\"client_id\", \"churn\"]).to_numpy()\n",
    "y = rfm[\"churn\"].to_numpy()\n",
    "\n",
    "# Train-test split\n",
    "X_train, X_test, y_train, y_test = train_test_split(X, y, test_size=0.2, random_state=42)"
   ]
  },
  {
   "cell_type": "code",
   "execution_count": 27,
   "metadata": {},
   "outputs": [
    {
     "name": "stdout",
     "output_type": "stream",
     "text": [
      "New class distribution: Counter({np.int8(0): 113853, np.int8(1): 79697})\n",
      "New minority class: 1\n"
     ]
    }
   ],
   "source": [
    "from imblearn.over_sampling import SMOTE\n",
    "\n",
    "# Apply SMOTE to generate synthetic minority samples\n",
    "smote = SMOTE(sampling_strategy=0.7, random_state=42)  # Upsample minority class to 50% of majority\n",
    "X_train_resampled, y_train_resampled = smote.fit_resample(X_train, y_train)\n",
    "\n",
    "print(f\"New class distribution: {Counter(y_train_resampled)}\")\n",
    "print(f\"New minority class: {min(Counter(y_train_resampled), key=Counter(y_train_resampled).get)}\")"
   ]
  },
  {
   "cell_type": "code",
   "execution_count": 28,
   "metadata": {},
   "outputs": [
    {
     "name": "stdout",
     "output_type": "stream",
     "text": [
      "[LightGBM] [Info] Number of positive: 79697, number of negative: 113853\n",
      "[LightGBM] [Info] Auto-choosing row-wise multi-threading, the overhead of testing was 0.003282 seconds.\n",
      "You can set `force_row_wise=true` to remove the overhead.\n",
      "And if memory is not enough, you can set `force_col_wise=true`.\n",
      "[LightGBM] [Info] Total Bins 1785\n",
      "[LightGBM] [Info] Number of data points in the train set: 193550, number of used features: 7\n",
      "[LightGBM] [Info] [binary:BoostFromScore]: pavg=0.500000 -> initscore=-0.000000\n",
      "[LightGBM] [Info] Start training from score -0.000000\n",
      "[LightGBM] [Warning] No further splits with positive gain, best gain: -inf\n",
      "[LightGBM] [Warning] No further splits with positive gain, best gain: -inf\n",
      "[LightGBM] [Warning] No further splits with positive gain, best gain: -inf\n",
      "[LightGBM] [Warning] No further splits with positive gain, best gain: -inf\n",
      "[LightGBM] [Warning] No further splits with positive gain, best gain: -inf\n",
      "[LightGBM] [Warning] No further splits with positive gain, best gain: -inf\n",
      "[LightGBM] [Warning] No further splits with positive gain, best gain: -inf\n",
      "[LightGBM] [Warning] No further splits with positive gain, best gain: -inf\n",
      "[LightGBM] [Warning] No further splits with positive gain, best gain: -inf\n",
      "[LightGBM] [Warning] No further splits with positive gain, best gain: -inf\n",
      "[LightGBM] [Warning] No further splits with positive gain, best gain: -inf\n",
      "[LightGBM] [Warning] No further splits with positive gain, best gain: -inf\n",
      "[LightGBM] [Warning] No further splits with positive gain, best gain: -inf\n",
      "[LightGBM] [Warning] No further splits with positive gain, best gain: -inf\n",
      "[LightGBM] [Warning] No further splits with positive gain, best gain: -inf\n",
      "[LightGBM] [Warning] No further splits with positive gain, best gain: -inf\n",
      "[LightGBM] [Warning] No further splits with positive gain, best gain: -inf\n",
      "[LightGBM] [Warning] No further splits with positive gain, best gain: -inf\n",
      "[LightGBM] [Warning] No further splits with positive gain, best gain: -inf\n",
      "[LightGBM] [Warning] No further splits with positive gain, best gain: -inf\n",
      "[LightGBM] [Warning] No further splits with positive gain, best gain: -inf\n",
      "[LightGBM] [Warning] No further splits with positive gain, best gain: -inf\n",
      "[LightGBM] [Warning] No further splits with positive gain, best gain: -inf\n",
      "[LightGBM] [Warning] No further splits with positive gain, best gain: -inf\n",
      "[LightGBM] [Warning] No further splits with positive gain, best gain: -inf\n",
      "[LightGBM] [Warning] No further splits with positive gain, best gain: -inf\n",
      "[LightGBM] [Warning] No further splits with positive gain, best gain: -inf\n",
      "[LightGBM] [Warning] No further splits with positive gain, best gain: -inf\n",
      "[LightGBM] [Warning] No further splits with positive gain, best gain: -inf\n",
      "[LightGBM] [Warning] No further splits with positive gain, best gain: -inf\n",
      "[LightGBM] [Warning] No further splits with positive gain, best gain: -inf\n",
      "[LightGBM] [Warning] No further splits with positive gain, best gain: -inf\n",
      "[LightGBM] [Warning] No further splits with positive gain, best gain: -inf\n",
      "[LightGBM] [Warning] No further splits with positive gain, best gain: -inf\n",
      "[LightGBM] [Warning] No further splits with positive gain, best gain: -inf\n",
      "[LightGBM] [Warning] No further splits with positive gain, best gain: -inf\n",
      "[LightGBM] [Warning] No further splits with positive gain, best gain: -inf\n",
      "[LightGBM] [Warning] No further splits with positive gain, best gain: -inf\n",
      "[LightGBM] [Warning] No further splits with positive gain, best gain: -inf\n",
      "[LightGBM] [Warning] No further splits with positive gain, best gain: -inf\n",
      "[LightGBM] [Warning] No further splits with positive gain, best gain: -inf\n",
      "[LightGBM] [Warning] No further splits with positive gain, best gain: -inf\n",
      "[LightGBM] [Warning] No further splits with positive gain, best gain: -inf\n",
      "[LightGBM] [Warning] No further splits with positive gain, best gain: -inf\n",
      "[LightGBM] [Warning] No further splits with positive gain, best gain: -inf\n",
      "[LightGBM] [Warning] No further splits with positive gain, best gain: -inf\n",
      "[LightGBM] [Warning] No further splits with positive gain, best gain: -inf\n",
      "[LightGBM] [Warning] No further splits with positive gain, best gain: -inf\n",
      "[LightGBM] [Warning] No further splits with positive gain, best gain: -inf\n",
      "[LightGBM] [Warning] No further splits with positive gain, best gain: -inf\n",
      "[LightGBM] [Warning] No further splits with positive gain, best gain: -inf\n",
      "[LightGBM] [Warning] No further splits with positive gain, best gain: -inf\n",
      "[LightGBM] [Warning] No further splits with positive gain, best gain: -inf\n",
      "[LightGBM] [Warning] No further splits with positive gain, best gain: -inf\n",
      "[LightGBM] [Warning] No further splits with positive gain, best gain: -inf\n",
      "[LightGBM] [Warning] No further splits with positive gain, best gain: -inf\n",
      "[LightGBM] [Warning] No further splits with positive gain, best gain: -inf\n",
      "[LightGBM] [Warning] No further splits with positive gain, best gain: -inf\n",
      "[LightGBM] [Warning] No further splits with positive gain, best gain: -inf\n",
      "[LightGBM] [Warning] No further splits with positive gain, best gain: -inf\n",
      "[LightGBM] [Warning] No further splits with positive gain, best gain: -inf\n",
      "[LightGBM] [Warning] No further splits with positive gain, best gain: -inf\n",
      "[LightGBM] [Warning] No further splits with positive gain, best gain: -inf\n",
      "[LightGBM] [Warning] No further splits with positive gain, best gain: -inf\n",
      "[LightGBM] [Warning] No further splits with positive gain, best gain: -inf\n",
      "[LightGBM] [Warning] No further splits with positive gain, best gain: -inf\n",
      "[LightGBM] [Warning] No further splits with positive gain, best gain: -inf\n",
      "[LightGBM] [Warning] No further splits with positive gain, best gain: -inf\n",
      "[LightGBM] [Warning] No further splits with positive gain, best gain: -inf\n",
      "[LightGBM] [Warning] No further splits with positive gain, best gain: -inf\n",
      "[LightGBM] [Warning] No further splits with positive gain, best gain: -inf\n",
      "[LightGBM] [Warning] No further splits with positive gain, best gain: -inf\n",
      "[LightGBM] [Warning] No further splits with positive gain, best gain: -inf\n",
      "[LightGBM] [Warning] No further splits with positive gain, best gain: -inf\n",
      "[LightGBM] [Warning] No further splits with positive gain, best gain: -inf\n",
      "[LightGBM] [Warning] No further splits with positive gain, best gain: -inf\n",
      "[LightGBM] [Warning] No further splits with positive gain, best gain: -inf\n",
      "[LightGBM] [Warning] No further splits with positive gain, best gain: -inf\n",
      "[LightGBM] [Warning] No further splits with positive gain, best gain: -inf\n",
      "[LightGBM] [Warning] No further splits with positive gain, best gain: -inf\n",
      "[LightGBM] [Warning] No further splits with positive gain, best gain: -inf\n",
      "[LightGBM] [Warning] No further splits with positive gain, best gain: -inf\n",
      "[LightGBM] [Warning] No further splits with positive gain, best gain: -inf\n",
      "[LightGBM] [Warning] No further splits with positive gain, best gain: -inf\n",
      "[LightGBM] [Warning] No further splits with positive gain, best gain: -inf\n",
      "[LightGBM] [Warning] No further splits with positive gain, best gain: -inf\n",
      "[LightGBM] [Warning] No further splits with positive gain, best gain: -inf\n",
      "[LightGBM] [Warning] No further splits with positive gain, best gain: -inf\n",
      "[LightGBM] [Warning] No further splits with positive gain, best gain: -inf\n",
      "[LightGBM] [Warning] No further splits with positive gain, best gain: -inf\n",
      "[LightGBM] [Warning] No further splits with positive gain, best gain: -inf\n",
      "[LightGBM] [Warning] No further splits with positive gain, best gain: -inf\n",
      "[LightGBM] [Warning] No further splits with positive gain, best gain: -inf\n",
      "[LightGBM] [Warning] No further splits with positive gain, best gain: -inf\n",
      "[LightGBM] [Warning] No further splits with positive gain, best gain: -inf\n",
      "[LightGBM] [Warning] No further splits with positive gain, best gain: -inf\n",
      "[LightGBM] [Warning] No further splits with positive gain, best gain: -inf\n",
      "[LightGBM] [Warning] No further splits with positive gain, best gain: -inf\n",
      "[LightGBM] [Warning] No further splits with positive gain, best gain: -inf\n",
      "[LightGBM] [Warning] No further splits with positive gain, best gain: -inf\n",
      "[LightGBM] [Warning] No further splits with positive gain, best gain: -inf\n",
      "[LightGBM] [Warning] No further splits with positive gain, best gain: -inf\n",
      "[LightGBM] [Warning] No further splits with positive gain, best gain: -inf\n",
      "[LightGBM] [Warning] No further splits with positive gain, best gain: -inf\n",
      "[LightGBM] [Warning] No further splits with positive gain, best gain: -inf\n",
      "[LightGBM] [Warning] No further splits with positive gain, best gain: -inf\n",
      "[LightGBM] [Warning] No further splits with positive gain, best gain: -inf\n",
      "[LightGBM] [Warning] No further splits with positive gain, best gain: -inf\n",
      "[LightGBM] [Warning] No further splits with positive gain, best gain: -inf\n",
      "[LightGBM] [Warning] No further splits with positive gain, best gain: -inf\n",
      "[LightGBM] [Warning] No further splits with positive gain, best gain: -inf\n",
      "[LightGBM] [Warning] No further splits with positive gain, best gain: -inf\n",
      "[LightGBM] [Warning] No further splits with positive gain, best gain: -inf\n",
      "[LightGBM] [Warning] No further splits with positive gain, best gain: -inf\n",
      "[LightGBM] [Warning] No further splits with positive gain, best gain: -inf\n",
      "[LightGBM] [Warning] No further splits with positive gain, best gain: -inf\n",
      "[LightGBM] [Warning] No further splits with positive gain, best gain: -inf\n",
      "[LightGBM] [Warning] No further splits with positive gain, best gain: -inf\n",
      "[LightGBM] [Warning] No further splits with positive gain, best gain: -inf\n",
      "[LightGBM] [Warning] No further splits with positive gain, best gain: -inf\n",
      "[LightGBM] [Warning] No further splits with positive gain, best gain: -inf\n",
      "[LightGBM] [Warning] No further splits with positive gain, best gain: -inf\n",
      "[LightGBM] [Warning] No further splits with positive gain, best gain: -inf\n",
      "[LightGBM] [Warning] No further splits with positive gain, best gain: -inf\n",
      "[LightGBM] [Warning] No further splits with positive gain, best gain: -inf\n",
      "[LightGBM] [Warning] No further splits with positive gain, best gain: -inf\n",
      "[LightGBM] [Warning] No further splits with positive gain, best gain: -inf\n",
      "[LightGBM] [Warning] No further splits with positive gain, best gain: -inf\n",
      "[LightGBM] [Warning] No further splits with positive gain, best gain: -inf\n",
      "[LightGBM] [Warning] No further splits with positive gain, best gain: -inf\n",
      "[LightGBM] [Warning] No further splits with positive gain, best gain: -inf\n",
      "[LightGBM] [Warning] No further splits with positive gain, best gain: -inf\n",
      "[LightGBM] [Warning] No further splits with positive gain, best gain: -inf\n",
      "[LightGBM] [Warning] No further splits with positive gain, best gain: -inf\n",
      "[LightGBM] [Warning] No further splits with positive gain, best gain: -inf\n",
      "[LightGBM] [Warning] No further splits with positive gain, best gain: -inf\n",
      "[LightGBM] [Warning] No further splits with positive gain, best gain: -inf\n",
      "[LightGBM] [Warning] No further splits with positive gain, best gain: -inf\n",
      "[LightGBM] [Warning] No further splits with positive gain, best gain: -inf\n",
      "[LightGBM] [Warning] No further splits with positive gain, best gain: -inf\n",
      "[LightGBM] [Warning] No further splits with positive gain, best gain: -inf\n",
      "[LightGBM] [Warning] No further splits with positive gain, best gain: -inf\n",
      "[LightGBM] [Warning] No further splits with positive gain, best gain: -inf\n",
      "[LightGBM] [Warning] No further splits with positive gain, best gain: -inf\n",
      "[LightGBM] [Warning] No further splits with positive gain, best gain: -inf\n",
      "[LightGBM] [Warning] No further splits with positive gain, best gain: -inf\n",
      "[LightGBM] [Warning] No further splits with positive gain, best gain: -inf\n",
      "[LightGBM] [Warning] No further splits with positive gain, best gain: -inf\n",
      "[LightGBM] [Warning] No further splits with positive gain, best gain: -inf\n",
      "[LightGBM] [Warning] No further splits with positive gain, best gain: -inf\n",
      "[LightGBM] [Warning] No further splits with positive gain, best gain: -inf\n",
      "[LightGBM] [Warning] No further splits with positive gain, best gain: -inf\n",
      "[LightGBM] [Warning] No further splits with positive gain, best gain: -inf\n",
      "[LightGBM] [Warning] No further splits with positive gain, best gain: -inf\n",
      "[LightGBM] [Warning] No further splits with positive gain, best gain: -inf\n",
      "[LightGBM] [Warning] No further splits with positive gain, best gain: -inf\n",
      "[LightGBM] [Warning] No further splits with positive gain, best gain: -inf\n",
      "[LightGBM] [Warning] No further splits with positive gain, best gain: -inf\n",
      "[LightGBM] [Warning] No further splits with positive gain, best gain: -inf\n",
      "[LightGBM] [Warning] No further splits with positive gain, best gain: -inf\n",
      "[LightGBM] [Warning] No further splits with positive gain, best gain: -inf\n",
      "[LightGBM] [Warning] No further splits with positive gain, best gain: -inf\n",
      "[LightGBM] [Warning] No further splits with positive gain, best gain: -inf\n",
      "[LightGBM] [Warning] No further splits with positive gain, best gain: -inf\n",
      "[LightGBM] [Warning] No further splits with positive gain, best gain: -inf\n",
      "[LightGBM] [Warning] No further splits with positive gain, best gain: -inf\n",
      "[LightGBM] [Warning] No further splits with positive gain, best gain: -inf\n",
      "[LightGBM] [Warning] No further splits with positive gain, best gain: -inf\n",
      "[LightGBM] [Warning] No further splits with positive gain, best gain: -inf\n",
      "[LightGBM] [Warning] No further splits with positive gain, best gain: -inf\n",
      "[LightGBM] [Warning] No further splits with positive gain, best gain: -inf\n",
      "[LightGBM] [Warning] No further splits with positive gain, best gain: -inf\n",
      "[LightGBM] [Warning] No further splits with positive gain, best gain: -inf\n",
      "[LightGBM] [Warning] No further splits with positive gain, best gain: -inf\n",
      "[LightGBM] [Warning] No further splits with positive gain, best gain: -inf\n",
      "[LightGBM] [Warning] No further splits with positive gain, best gain: -inf\n",
      "[LightGBM] [Warning] No further splits with positive gain, best gain: -inf\n",
      "[LightGBM] [Warning] No further splits with positive gain, best gain: -inf\n",
      "[LightGBM] [Warning] No further splits with positive gain, best gain: -inf\n",
      "[LightGBM] [Warning] No further splits with positive gain, best gain: -inf\n",
      "[LightGBM] [Warning] No further splits with positive gain, best gain: -inf\n",
      "[LightGBM] [Warning] No further splits with positive gain, best gain: -inf\n",
      "[LightGBM] [Warning] No further splits with positive gain, best gain: -inf\n",
      "[LightGBM] [Warning] No further splits with positive gain, best gain: -inf\n",
      "[LightGBM] [Warning] No further splits with positive gain, best gain: -inf\n",
      "[LightGBM] [Warning] No further splits with positive gain, best gain: -inf\n",
      "[LightGBM] [Warning] No further splits with positive gain, best gain: -inf\n",
      "[LightGBM] [Warning] No further splits with positive gain, best gain: -inf\n",
      "[LightGBM] [Warning] No further splits with positive gain, best gain: -inf\n",
      "[LightGBM] [Warning] No further splits with positive gain, best gain: -inf\n",
      "[LightGBM] [Warning] No further splits with positive gain, best gain: -inf\n",
      "[LightGBM] [Warning] No further splits with positive gain, best gain: -inf\n",
      "[LightGBM] [Warning] No further splits with positive gain, best gain: -inf\n",
      "[LightGBM] [Warning] No further splits with positive gain, best gain: -inf\n",
      "[LightGBM] [Warning] No further splits with positive gain, best gain: -inf\n",
      "[LightGBM] [Warning] No further splits with positive gain, best gain: -inf\n",
      "[LightGBM] [Warning] No further splits with positive gain, best gain: -inf\n",
      "[LightGBM] [Warning] No further splits with positive gain, best gain: -inf\n",
      "[LightGBM] [Warning] No further splits with positive gain, best gain: -inf\n",
      "[LightGBM] [Warning] No further splits with positive gain, best gain: -inf\n",
      "[LightGBM] [Warning] No further splits with positive gain, best gain: -inf\n",
      "[LightGBM] [Warning] No further splits with positive gain, best gain: -inf\n",
      "[LightGBM] [Warning] No further splits with positive gain, best gain: -inf\n",
      "[LightGBM] [Warning] No further splits with positive gain, best gain: -inf\n",
      "[LightGBM] [Warning] No further splits with positive gain, best gain: -inf\n",
      "[LightGBM] [Warning] No further splits with positive gain, best gain: -inf\n",
      "[LightGBM] [Warning] No further splits with positive gain, best gain: -inf\n",
      "[LightGBM] [Warning] No further splits with positive gain, best gain: -inf\n",
      "[LightGBM] [Warning] No further splits with positive gain, best gain: -inf\n",
      "[LightGBM] [Warning] No further splits with positive gain, best gain: -inf\n",
      "[LightGBM] [Warning] No further splits with positive gain, best gain: -inf\n",
      "[LightGBM] [Warning] No further splits with positive gain, best gain: -inf\n",
      "[LightGBM] [Warning] No further splits with positive gain, best gain: -inf\n",
      "[LightGBM] [Warning] No further splits with positive gain, best gain: -inf\n",
      "[LightGBM] [Warning] No further splits with positive gain, best gain: -inf\n",
      "[LightGBM] [Warning] No further splits with positive gain, best gain: -inf\n",
      "[LightGBM] [Warning] No further splits with positive gain, best gain: -inf\n",
      "[LightGBM] [Warning] No further splits with positive gain, best gain: -inf\n",
      "[LightGBM] [Warning] No further splits with positive gain, best gain: -inf\n",
      "[LightGBM] [Warning] No further splits with positive gain, best gain: -inf\n",
      "[LightGBM] [Warning] No further splits with positive gain, best gain: -inf\n",
      "[LightGBM] [Warning] No further splits with positive gain, best gain: -inf\n",
      "[LightGBM] [Warning] No further splits with positive gain, best gain: -inf\n",
      "[LightGBM] [Warning] No further splits with positive gain, best gain: -inf\n",
      "[LightGBM] [Warning] No further splits with positive gain, best gain: -inf\n",
      "[LightGBM] [Warning] No further splits with positive gain, best gain: -inf\n",
      "[LightGBM] [Warning] No further splits with positive gain, best gain: -inf\n",
      "[LightGBM] [Warning] No further splits with positive gain, best gain: -inf\n",
      "[LightGBM] [Warning] No further splits with positive gain, best gain: -inf\n",
      "[LightGBM] [Warning] No further splits with positive gain, best gain: -inf\n",
      "[LightGBM] [Warning] No further splits with positive gain, best gain: -inf\n",
      "[LightGBM] [Warning] No further splits with positive gain, best gain: -inf\n",
      "[LightGBM] [Warning] No further splits with positive gain, best gain: -inf\n",
      "[LightGBM] [Warning] No further splits with positive gain, best gain: -inf\n",
      "[LightGBM] [Warning] No further splits with positive gain, best gain: -inf\n",
      "[LightGBM] [Warning] No further splits with positive gain, best gain: -inf\n",
      "[LightGBM] [Warning] No further splits with positive gain, best gain: -inf\n",
      "[LightGBM] [Warning] No further splits with positive gain, best gain: -inf\n",
      "[LightGBM] [Warning] No further splits with positive gain, best gain: -inf\n",
      "[LightGBM] [Warning] No further splits with positive gain, best gain: -inf\n",
      "[LightGBM] [Warning] No further splits with positive gain, best gain: -inf\n",
      "[LightGBM] [Warning] No further splits with positive gain, best gain: -inf\n",
      "[LightGBM] [Warning] No further splits with positive gain, best gain: -inf\n",
      "[LightGBM] [Warning] No further splits with positive gain, best gain: -inf\n",
      "[LightGBM] [Warning] No further splits with positive gain, best gain: -inf\n",
      "[LightGBM] [Warning] No further splits with positive gain, best gain: -inf\n",
      "[LightGBM] [Warning] No further splits with positive gain, best gain: -inf\n",
      "[LightGBM] [Warning] No further splits with positive gain, best gain: -inf\n",
      "[LightGBM] [Warning] No further splits with positive gain, best gain: -inf\n",
      "[LightGBM] [Warning] No further splits with positive gain, best gain: -inf\n",
      "[LightGBM] [Warning] No further splits with positive gain, best gain: -inf\n",
      "[LightGBM] [Warning] No further splits with positive gain, best gain: -inf\n",
      "[LightGBM] [Warning] No further splits with positive gain, best gain: -inf\n",
      "[LightGBM] [Warning] No further splits with positive gain, best gain: -inf\n",
      "[LightGBM] [Warning] No further splits with positive gain, best gain: -inf\n",
      "[LightGBM] [Warning] No further splits with positive gain, best gain: -inf\n",
      "[LightGBM] [Warning] No further splits with positive gain, best gain: -inf\n",
      "[LightGBM] [Warning] No further splits with positive gain, best gain: -inf\n",
      "[LightGBM] [Warning] No further splits with positive gain, best gain: -inf\n",
      "[LightGBM] [Warning] No further splits with positive gain, best gain: -inf\n",
      "[LightGBM] [Warning] No further splits with positive gain, best gain: -inf\n",
      "[LightGBM] [Warning] No further splits with positive gain, best gain: -inf\n",
      "[LightGBM] [Warning] No further splits with positive gain, best gain: -inf\n",
      "[LightGBM] [Warning] No further splits with positive gain, best gain: -inf\n",
      "[LightGBM] [Warning] No further splits with positive gain, best gain: -inf\n",
      "[LightGBM] [Warning] No further splits with positive gain, best gain: -inf\n",
      "[LightGBM] [Warning] No further splits with positive gain, best gain: -inf\n",
      "[LightGBM] [Warning] No further splits with positive gain, best gain: -inf\n",
      "[LightGBM] [Warning] No further splits with positive gain, best gain: -inf\n",
      "[LightGBM] [Warning] No further splits with positive gain, best gain: -inf\n",
      "[LightGBM] [Warning] No further splits with positive gain, best gain: -inf\n",
      "[LightGBM] [Warning] No further splits with positive gain, best gain: -inf\n",
      "[LightGBM] [Warning] No further splits with positive gain, best gain: -inf\n",
      "[LightGBM] [Warning] No further splits with positive gain, best gain: -inf\n",
      "[LightGBM] [Warning] No further splits with positive gain, best gain: -inf\n",
      "[LightGBM] [Warning] No further splits with positive gain, best gain: -inf\n",
      "[LightGBM] [Warning] No further splits with positive gain, best gain: -inf\n",
      "[LightGBM] [Warning] No further splits with positive gain, best gain: -inf\n",
      "[LightGBM] [Warning] No further splits with positive gain, best gain: -inf\n",
      "[LightGBM] [Warning] No further splits with positive gain, best gain: -inf\n",
      "[LightGBM] [Warning] No further splits with positive gain, best gain: -inf\n",
      "[LightGBM] [Warning] No further splits with positive gain, best gain: -inf\n",
      "[LightGBM] [Warning] No further splits with positive gain, best gain: -inf\n",
      "[LightGBM] [Warning] No further splits with positive gain, best gain: -inf\n",
      "[LightGBM] [Warning] No further splits with positive gain, best gain: -inf\n",
      "[LightGBM] [Warning] No further splits with positive gain, best gain: -inf\n",
      "[LightGBM] [Warning] No further splits with positive gain, best gain: -inf\n",
      "[LightGBM] [Warning] No further splits with positive gain, best gain: -inf\n",
      "[LightGBM] [Warning] No further splits with positive gain, best gain: -inf\n",
      "[LightGBM] [Warning] No further splits with positive gain, best gain: -inf\n",
      "[LightGBM] [Warning] No further splits with positive gain, best gain: -inf\n",
      "[LightGBM] [Warning] No further splits with positive gain, best gain: -inf\n",
      "[LightGBM] [Warning] No further splits with positive gain, best gain: -inf\n",
      "[LightGBM] [Warning] No further splits with positive gain, best gain: -inf\n",
      "[LightGBM] [Warning] No further splits with positive gain, best gain: -inf\n",
      "[LightGBM] [Warning] No further splits with positive gain, best gain: -inf\n",
      "[LightGBM] [Warning] No further splits with positive gain, best gain: -inf\n",
      "[LightGBM] [Warning] No further splits with positive gain, best gain: -inf\n",
      "[LightGBM] [Warning] No further splits with positive gain, best gain: -inf\n",
      "[LightGBM] [Warning] No further splits with positive gain, best gain: -inf\n",
      "[LightGBM] [Warning] No further splits with positive gain, best gain: -inf\n",
      "[LightGBM] [Warning] No further splits with positive gain, best gain: -inf\n",
      "[LightGBM] [Warning] No further splits with positive gain, best gain: -inf\n",
      "[LightGBM] [Warning] No further splits with positive gain, best gain: -inf\n",
      "[LightGBM] [Warning] No further splits with positive gain, best gain: -inf\n",
      "[LightGBM] [Warning] No further splits with positive gain, best gain: -inf\n",
      "[LightGBM] [Warning] No further splits with positive gain, best gain: -inf\n",
      "[LightGBM] [Warning] No further splits with positive gain, best gain: -inf\n",
      "[LightGBM] [Warning] No further splits with positive gain, best gain: -inf\n",
      "[LightGBM] [Warning] No further splits with positive gain, best gain: -inf\n",
      "[LightGBM] [Warning] No further splits with positive gain, best gain: -inf\n",
      "[LightGBM] [Warning] No further splits with positive gain, best gain: -inf\n",
      "[LightGBM] [Warning] No further splits with positive gain, best gain: -inf\n",
      "[LightGBM] [Warning] No further splits with positive gain, best gain: -inf\n",
      "[LightGBM] [Warning] No further splits with positive gain, best gain: -inf\n",
      "[LightGBM] [Warning] No further splits with positive gain, best gain: -inf\n",
      "[LightGBM] [Warning] No further splits with positive gain, best gain: -inf\n",
      "[LightGBM] [Warning] No further splits with positive gain, best gain: -inf\n",
      "[LightGBM] [Warning] No further splits with positive gain, best gain: -inf\n",
      "[LightGBM] [Warning] No further splits with positive gain, best gain: -inf\n",
      "[LightGBM] [Warning] No further splits with positive gain, best gain: -inf\n",
      "[LightGBM] [Warning] No further splits with positive gain, best gain: -inf\n",
      "[LightGBM] [Warning] No further splits with positive gain, best gain: -inf\n",
      "[LightGBM] [Warning] No further splits with positive gain, best gain: -inf\n",
      "[LightGBM] [Warning] No further splits with positive gain, best gain: -inf\n",
      "[LightGBM] [Warning] No further splits with positive gain, best gain: -inf\n",
      "[LightGBM] [Warning] No further splits with positive gain, best gain: -inf\n",
      "[LightGBM] [Warning] No further splits with positive gain, best gain: -inf\n",
      "[LightGBM] [Warning] No further splits with positive gain, best gain: -inf\n",
      "[LightGBM] [Warning] No further splits with positive gain, best gain: -inf\n",
      "[LightGBM] [Warning] No further splits with positive gain, best gain: -inf\n",
      "[LightGBM] [Warning] No further splits with positive gain, best gain: -inf\n",
      "[LightGBM] [Warning] No further splits with positive gain, best gain: -inf\n",
      "[LightGBM] [Warning] No further splits with positive gain, best gain: -inf\n",
      "[LightGBM] [Warning] No further splits with positive gain, best gain: -inf\n",
      "[LightGBM] [Warning] No further splits with positive gain, best gain: -inf\n",
      "[LightGBM] [Warning] No further splits with positive gain, best gain: -inf\n",
      "[LightGBM] [Warning] No further splits with positive gain, best gain: -inf\n",
      "[LightGBM] [Warning] No further splits with positive gain, best gain: -inf\n",
      "[LightGBM] [Warning] No further splits with positive gain, best gain: -inf\n",
      "[LightGBM] [Warning] No further splits with positive gain, best gain: -inf\n",
      "[LightGBM] [Warning] No further splits with positive gain, best gain: -inf\n",
      "[LightGBM] [Warning] No further splits with positive gain, best gain: -inf\n",
      "[LightGBM] [Warning] No further splits with positive gain, best gain: -inf\n",
      "[LightGBM] [Warning] No further splits with positive gain, best gain: -inf\n",
      "[LightGBM] [Warning] No further splits with positive gain, best gain: -inf\n",
      "[LightGBM] [Warning] No further splits with positive gain, best gain: -inf\n",
      "[LightGBM] [Warning] No further splits with positive gain, best gain: -inf\n",
      "[LightGBM] [Warning] No further splits with positive gain, best gain: -inf\n",
      "[LightGBM] [Warning] No further splits with positive gain, best gain: -inf\n",
      "[LightGBM] [Warning] No further splits with positive gain, best gain: -inf\n",
      "[LightGBM] [Warning] No further splits with positive gain, best gain: -inf\n",
      "[LightGBM] [Warning] No further splits with positive gain, best gain: -inf\n",
      "[LightGBM] [Warning] No further splits with positive gain, best gain: -inf\n",
      "[LightGBM] [Warning] No further splits with positive gain, best gain: -inf\n",
      "[LightGBM] [Warning] No further splits with positive gain, best gain: -inf\n",
      "[LightGBM] [Warning] No further splits with positive gain, best gain: -inf\n",
      "[LightGBM] [Warning] No further splits with positive gain, best gain: -inf\n",
      "[LightGBM] [Warning] No further splits with positive gain, best gain: -inf\n",
      "[LightGBM] [Warning] No further splits with positive gain, best gain: -inf\n",
      "[LightGBM] [Warning] No further splits with positive gain, best gain: -inf\n",
      "[LightGBM] [Warning] No further splits with positive gain, best gain: -inf\n",
      "[LightGBM] [Warning] No further splits with positive gain, best gain: -inf\n",
      "[LightGBM] [Warning] No further splits with positive gain, best gain: -inf\n",
      "[LightGBM] [Warning] No further splits with positive gain, best gain: -inf\n",
      "[LightGBM] [Warning] No further splits with positive gain, best gain: -inf\n",
      "[LightGBM] [Warning] No further splits with positive gain, best gain: -inf\n",
      "[LightGBM] [Warning] No further splits with positive gain, best gain: -inf\n",
      "[LightGBM] [Warning] No further splits with positive gain, best gain: -inf\n",
      "[LightGBM] [Warning] No further splits with positive gain, best gain: -inf\n",
      "[LightGBM] [Warning] No further splits with positive gain, best gain: -inf\n",
      "[LightGBM] [Warning] No further splits with positive gain, best gain: -inf\n",
      "[LightGBM] [Warning] No further splits with positive gain, best gain: -inf\n",
      "[LightGBM] [Warning] No further splits with positive gain, best gain: -inf\n",
      "[LightGBM] [Warning] No further splits with positive gain, best gain: -inf\n",
      "[LightGBM] [Warning] No further splits with positive gain, best gain: -inf\n",
      "[LightGBM] [Warning] No further splits with positive gain, best gain: -inf\n",
      "[LightGBM] [Warning] No further splits with positive gain, best gain: -inf\n",
      "[LightGBM] [Warning] No further splits with positive gain, best gain: -inf\n",
      "[LightGBM] [Warning] No further splits with positive gain, best gain: -inf\n",
      "[LightGBM] [Warning] No further splits with positive gain, best gain: -inf\n",
      "[LightGBM] [Warning] No further splits with positive gain, best gain: -inf\n",
      "[LightGBM] [Warning] No further splits with positive gain, best gain: -inf\n",
      "[LightGBM] [Warning] No further splits with positive gain, best gain: -inf\n",
      "[LightGBM] [Warning] No further splits with positive gain, best gain: -inf\n",
      "[LightGBM] [Warning] No further splits with positive gain, best gain: -inf\n",
      "[LightGBM] [Warning] No further splits with positive gain, best gain: -inf\n",
      "[LightGBM] [Warning] No further splits with positive gain, best gain: -inf\n",
      "[LightGBM] [Warning] No further splits with positive gain, best gain: -inf\n",
      "[LightGBM] [Warning] No further splits with positive gain, best gain: -inf\n",
      "[LightGBM] [Warning] No further splits with positive gain, best gain: -inf\n",
      "[LightGBM] [Warning] No further splits with positive gain, best gain: -inf\n",
      "[LightGBM] [Warning] No further splits with positive gain, best gain: -inf\n",
      "[LightGBM] [Warning] No further splits with positive gain, best gain: -inf\n",
      "[LightGBM] [Warning] No further splits with positive gain, best gain: -inf\n",
      "[LightGBM] [Warning] No further splits with positive gain, best gain: -inf\n",
      "[LightGBM] [Warning] No further splits with positive gain, best gain: -inf\n",
      "[LightGBM] [Warning] No further splits with positive gain, best gain: -inf\n",
      "[LightGBM] [Warning] No further splits with positive gain, best gain: -inf\n",
      "[LightGBM] [Warning] No further splits with positive gain, best gain: -inf\n",
      "[LightGBM] [Warning] No further splits with positive gain, best gain: -inf\n",
      "[LightGBM] [Warning] No further splits with positive gain, best gain: -inf\n",
      "[LightGBM] [Warning] No further splits with positive gain, best gain: -inf\n",
      "[LightGBM] [Warning] No further splits with positive gain, best gain: -inf\n",
      "[LightGBM] [Warning] No further splits with positive gain, best gain: -inf\n",
      "[LightGBM] [Warning] No further splits with positive gain, best gain: -inf\n",
      "[LightGBM] [Warning] No further splits with positive gain, best gain: -inf\n",
      "[LightGBM] [Warning] No further splits with positive gain, best gain: -inf\n",
      "[LightGBM] [Warning] No further splits with positive gain, best gain: -inf\n",
      "[LightGBM] [Warning] No further splits with positive gain, best gain: -inf\n",
      "[LightGBM] [Warning] No further splits with positive gain, best gain: -inf\n",
      "[LightGBM] [Warning] No further splits with positive gain, best gain: -inf\n",
      "[LightGBM] [Warning] No further splits with positive gain, best gain: -inf\n",
      "[LightGBM] [Warning] No further splits with positive gain, best gain: -inf\n",
      "[LightGBM] [Warning] No further splits with positive gain, best gain: -inf\n",
      "[LightGBM] [Warning] No further splits with positive gain, best gain: -inf\n",
      "[LightGBM] [Warning] No further splits with positive gain, best gain: -inf\n",
      "[LightGBM] [Warning] No further splits with positive gain, best gain: -inf\n",
      "[LightGBM] [Warning] No further splits with positive gain, best gain: -inf\n",
      "[LightGBM] [Warning] No further splits with positive gain, best gain: -inf\n",
      "[LightGBM] [Warning] No further splits with positive gain, best gain: -inf\n",
      "[LightGBM] [Warning] No further splits with positive gain, best gain: -inf\n",
      "[LightGBM] [Warning] No further splits with positive gain, best gain: -inf\n",
      "[LightGBM] [Warning] No further splits with positive gain, best gain: -inf\n",
      "[LightGBM] [Warning] No further splits with positive gain, best gain: -inf\n",
      "[LightGBM] [Warning] No further splits with positive gain, best gain: -inf\n",
      "[LightGBM] [Warning] No further splits with positive gain, best gain: -inf\n",
      "[LightGBM] [Warning] No further splits with positive gain, best gain: -inf\n",
      "[LightGBM] [Warning] No further splits with positive gain, best gain: -inf\n",
      "[LightGBM] [Warning] No further splits with positive gain, best gain: -inf\n",
      "[LightGBM] [Warning] No further splits with positive gain, best gain: -inf\n",
      "[LightGBM] [Warning] No further splits with positive gain, best gain: -inf\n",
      "[LightGBM] [Warning] No further splits with positive gain, best gain: -inf\n",
      "[LightGBM] [Warning] No further splits with positive gain, best gain: -inf\n",
      "[LightGBM] [Warning] No further splits with positive gain, best gain: -inf\n",
      "[LightGBM] [Warning] No further splits with positive gain, best gain: -inf\n",
      "[LightGBM] [Warning] No further splits with positive gain, best gain: -inf\n",
      "[LightGBM] [Warning] No further splits with positive gain, best gain: -inf\n",
      "[LightGBM] [Warning] No further splits with positive gain, best gain: -inf\n",
      "[LightGBM] [Warning] No further splits with positive gain, best gain: -inf\n",
      "[LightGBM] [Warning] No further splits with positive gain, best gain: -inf\n",
      "[LightGBM] [Warning] No further splits with positive gain, best gain: -inf\n",
      "[LightGBM] [Warning] No further splits with positive gain, best gain: -inf\n",
      "[LightGBM] [Warning] No further splits with positive gain, best gain: -inf\n",
      "[LightGBM] [Warning] No further splits with positive gain, best gain: -inf\n",
      "[LightGBM] [Warning] No further splits with positive gain, best gain: -inf\n",
      "[LightGBM] [Warning] No further splits with positive gain, best gain: -inf\n",
      "[LightGBM] [Warning] No further splits with positive gain, best gain: -inf\n",
      "[LightGBM] [Warning] No further splits with positive gain, best gain: -inf\n",
      "[LightGBM] [Warning] No further splits with positive gain, best gain: -inf\n",
      "[LightGBM] [Warning] No further splits with positive gain, best gain: -inf\n",
      "[LightGBM] [Warning] No further splits with positive gain, best gain: -inf\n",
      "[LightGBM] [Warning] No further splits with positive gain, best gain: -inf\n",
      "[LightGBM] [Warning] No further splits with positive gain, best gain: -inf\n",
      "[LightGBM] [Warning] No further splits with positive gain, best gain: -inf\n",
      "[LightGBM] [Warning] No further splits with positive gain, best gain: -inf\n",
      "[LightGBM] [Warning] No further splits with positive gain, best gain: -inf\n",
      "[LightGBM] [Warning] No further splits with positive gain, best gain: -inf\n",
      "[LightGBM] [Warning] No further splits with positive gain, best gain: -inf\n",
      "[LightGBM] [Warning] No further splits with positive gain, best gain: -inf\n",
      "[LightGBM] [Warning] No further splits with positive gain, best gain: -inf\n",
      "[LightGBM] [Warning] No further splits with positive gain, best gain: -inf\n",
      "[LightGBM] [Warning] No further splits with positive gain, best gain: -inf\n",
      "[LightGBM] [Warning] No further splits with positive gain, best gain: -inf\n",
      "[LightGBM] [Warning] No further splits with positive gain, best gain: -inf\n",
      "[LightGBM] [Warning] No further splits with positive gain, best gain: -inf\n",
      "[LightGBM] [Warning] No further splits with positive gain, best gain: -inf\n",
      "[LightGBM] [Warning] No further splits with positive gain, best gain: -inf\n",
      "[LightGBM] [Warning] No further splits with positive gain, best gain: -inf\n",
      "[LightGBM] [Warning] No further splits with positive gain, best gain: -inf\n",
      "[LightGBM] [Warning] No further splits with positive gain, best gain: -inf\n",
      "[LightGBM] [Warning] No further splits with positive gain, best gain: -inf\n",
      "[LightGBM] [Warning] No further splits with positive gain, best gain: -inf\n",
      "[LightGBM] [Warning] No further splits with positive gain, best gain: -inf\n",
      "[LightGBM] [Warning] No further splits with positive gain, best gain: -inf\n",
      "[LightGBM] [Warning] No further splits with positive gain, best gain: -inf\n",
      "[LightGBM] [Warning] No further splits with positive gain, best gain: -inf\n",
      "[LightGBM] [Warning] No further splits with positive gain, best gain: -inf\n",
      "[LightGBM] [Warning] No further splits with positive gain, best gain: -inf\n",
      "[LightGBM] [Warning] No further splits with positive gain, best gain: -inf\n",
      "[LightGBM] [Warning] No further splits with positive gain, best gain: -inf\n"
     ]
    }
   ],
   "source": [
    "import lightgbm as lgb\n",
    "from sklearn.model_selection import train_test_split\n",
    "\n",
    "# LightGBM with class weights\n",
    "lgbm = lgb.LGBMClassifier(\n",
    "    n_estimators=500, \n",
    "    learning_rate=0.05, \n",
    "    max_depth=5, \n",
    "    class_weight=\"balanced\"  # Auto-weighting based on class distribution\n",
    ")\n",
    "\n",
    "# Train model\n",
    "lgbm.fit(X_train_resampled, y_train_resampled)\n",
    "\n",
    "# Predictions\n",
    "y_pred = lgbm.predict(X_test)\n"
   ]
  },
  {
   "cell_type": "code",
   "execution_count": 29,
   "metadata": {},
   "outputs": [
    {
     "name": "stdout",
     "output_type": "stream",
     "text": [
      "Model Accuracy: 0.9985\n",
      "F1 Score: 0.9957\n",
      "ROC AUC Score: 0.9978\n",
      "              precision    recall  f1-score   support\n",
      "\n",
      "           0       1.00      1.00      1.00     28375\n",
      "           1       0.99      1.00      1.00      5743\n",
      "\n",
      "    accuracy                           1.00     34118\n",
      "   macro avg       1.00      1.00      1.00     34118\n",
      "weighted avg       1.00      1.00      1.00     34118\n",
      "\n"
     ]
    }
   ],
   "source": [
    "from sklearn.metrics import accuracy_score, classification_report, roc_auc_score, f1_score\n",
    "\n",
    "# Evaluate model\n",
    "accuracy = accuracy_score(y_test, y_pred)\n",
    "f1 = f1_score(y_test, y_pred)\n",
    "roc_auc = roc_auc_score(y_test, y_pred)\n",
    "\n",
    "print(f\"Model Accuracy: {accuracy:.4f}\")\n",
    "print(f\"F1 Score: {f1:.4f}\")\n",
    "print(f\"ROC AUC Score: {roc_auc:.4f}\")\n",
    "print(classification_report(y_test, y_pred))\n"
   ]
  },
  {
   "cell_type": "markdown",
   "metadata": {},
   "source": [
    "#### ✅ 1️⃣ Hyperparameter Tuning with GridSearchCV\n",
    "<>"
   ]
  },
  {
   "cell_type": "code",
   "execution_count": 30,
   "metadata": {},
   "outputs": [
    {
     "name": "stdout",
     "output_type": "stream",
     "text": [
      "Fitting 3 folds for each of 81 candidates, totalling 243 fits\n",
      "[LightGBM] [Info] Number of positive: 79697, number of negative: 113853\n",
      "[LightGBM] [Info] Auto-choosing col-wise multi-threading, the overhead of testing was 0.019253 seconds.\n",
      "You can set `force_col_wise=true` to remove the overhead.\n",
      "[LightGBM] [Info] Total Bins 1785\n",
      "[LightGBM] [Info] Number of data points in the train set: 193550, number of used features: 7\n",
      "[LightGBM] [Info] [binary:BoostFromScore]: pavg=0.500000 -> initscore=-0.000000\n",
      "[LightGBM] [Info] Start training from score -0.000000\n",
      "[LightGBM] [Warning] No further splits with positive gain, best gain: -inf\n",
      "[LightGBM] [Warning] No further splits with positive gain, best gain: -inf\n",
      "[LightGBM] [Warning] No further splits with positive gain, best gain: -inf\n",
      "[LightGBM] [Warning] No further splits with positive gain, best gain: -inf\n",
      "[LightGBM] [Warning] No further splits with positive gain, best gain: -inf\n",
      "[LightGBM] [Warning] No further splits with positive gain, best gain: -inf\n",
      "[LightGBM] [Warning] No further splits with positive gain, best gain: -inf\n",
      "[LightGBM] [Warning] No further splits with positive gain, best gain: -inf\n",
      "[LightGBM] [Warning] No further splits with positive gain, best gain: -inf\n",
      "[LightGBM] [Warning] No further splits with positive gain, best gain: -inf\n",
      "[LightGBM] [Warning] No further splits with positive gain, best gain: -inf\n",
      "[LightGBM] [Warning] No further splits with positive gain, best gain: -inf\n",
      "[LightGBM] [Warning] No further splits with positive gain, best gain: -inf\n",
      "[LightGBM] [Warning] No further splits with positive gain, best gain: -inf\n",
      "[LightGBM] [Warning] No further splits with positive gain, best gain: -inf\n",
      "[LightGBM] [Warning] No further splits with positive gain, best gain: -inf\n",
      "[LightGBM] [Warning] No further splits with positive gain, best gain: -inf\n",
      "[LightGBM] [Warning] No further splits with positive gain, best gain: -inf\n",
      "[LightGBM] [Warning] No further splits with positive gain, best gain: -inf\n",
      "[LightGBM] [Warning] No further splits with positive gain, best gain: -inf\n",
      "[LightGBM] [Warning] No further splits with positive gain, best gain: -inf\n",
      "[LightGBM] [Warning] No further splits with positive gain, best gain: -inf\n",
      "[LightGBM] [Warning] No further splits with positive gain, best gain: -inf\n",
      "[LightGBM] [Warning] No further splits with positive gain, best gain: -inf\n",
      "[LightGBM] [Warning] No further splits with positive gain, best gain: -inf\n",
      "[LightGBM] [Warning] No further splits with positive gain, best gain: -inf\n",
      "[LightGBM] [Warning] No further splits with positive gain, best gain: -inf\n",
      "[LightGBM] [Warning] No further splits with positive gain, best gain: -inf\n",
      "[LightGBM] [Warning] No further splits with positive gain, best gain: -inf\n",
      "[LightGBM] [Warning] No further splits with positive gain, best gain: -inf\n",
      "[LightGBM] [Warning] No further splits with positive gain, best gain: -inf\n",
      "[LightGBM] [Warning] No further splits with positive gain, best gain: -inf\n",
      "[LightGBM] [Warning] No further splits with positive gain, best gain: -inf\n",
      "[LightGBM] [Warning] No further splits with positive gain, best gain: -inf\n",
      "[LightGBM] [Warning] No further splits with positive gain, best gain: -inf\n",
      "[LightGBM] [Warning] No further splits with positive gain, best gain: -inf\n",
      "[LightGBM] [Warning] No further splits with positive gain, best gain: -inf\n",
      "[LightGBM] [Warning] No further splits with positive gain, best gain: -inf\n",
      "[LightGBM] [Warning] No further splits with positive gain, best gain: -inf\n",
      "[LightGBM] [Warning] No further splits with positive gain, best gain: -inf\n",
      "[LightGBM] [Warning] No further splits with positive gain, best gain: -inf\n",
      "[LightGBM] [Warning] No further splits with positive gain, best gain: -inf\n",
      "[LightGBM] [Warning] No further splits with positive gain, best gain: -inf\n",
      "[LightGBM] [Warning] No further splits with positive gain, best gain: -inf\n",
      "[LightGBM] [Warning] No further splits with positive gain, best gain: -inf\n",
      "[LightGBM] [Warning] No further splits with positive gain, best gain: -inf\n",
      "[LightGBM] [Warning] No further splits with positive gain, best gain: -inf\n",
      "[LightGBM] [Warning] No further splits with positive gain, best gain: -inf\n",
      "[LightGBM] [Warning] No further splits with positive gain, best gain: -inf\n",
      "[LightGBM] [Warning] No further splits with positive gain, best gain: -inf\n",
      "[LightGBM] [Warning] No further splits with positive gain, best gain: -inf\n",
      "[LightGBM] [Warning] No further splits with positive gain, best gain: -inf\n",
      "[LightGBM] [Warning] No further splits with positive gain, best gain: -inf\n",
      "[LightGBM] [Warning] No further splits with positive gain, best gain: -inf\n",
      "[LightGBM] [Warning] No further splits with positive gain, best gain: -inf\n",
      "[LightGBM] [Warning] No further splits with positive gain, best gain: -inf\n",
      "[LightGBM] [Warning] No further splits with positive gain, best gain: -inf\n",
      "[LightGBM] [Warning] No further splits with positive gain, best gain: -inf\n",
      "[LightGBM] [Warning] No further splits with positive gain, best gain: -inf\n",
      "[LightGBM] [Warning] No further splits with positive gain, best gain: -inf\n",
      "[LightGBM] [Warning] No further splits with positive gain, best gain: -inf\n",
      "[LightGBM] [Warning] No further splits with positive gain, best gain: -inf\n",
      "[LightGBM] [Warning] No further splits with positive gain, best gain: -inf\n",
      "[LightGBM] [Warning] No further splits with positive gain, best gain: -inf\n",
      "[LightGBM] [Warning] No further splits with positive gain, best gain: -inf\n",
      "[LightGBM] [Warning] No further splits with positive gain, best gain: -inf\n",
      "[LightGBM] [Warning] No further splits with positive gain, best gain: -inf\n",
      "[LightGBM] [Warning] No further splits with positive gain, best gain: -inf\n",
      "[LightGBM] [Warning] No further splits with positive gain, best gain: -inf\n",
      "[LightGBM] [Warning] No further splits with positive gain, best gain: -inf\n",
      "[LightGBM] [Warning] No further splits with positive gain, best gain: -inf\n",
      "[LightGBM] [Warning] No further splits with positive gain, best gain: -inf\n",
      "[LightGBM] [Warning] No further splits with positive gain, best gain: -inf\n",
      "[LightGBM] [Warning] No further splits with positive gain, best gain: -inf\n",
      "[LightGBM] [Warning] No further splits with positive gain, best gain: -inf\n",
      "[LightGBM] [Warning] No further splits with positive gain, best gain: -inf\n",
      "[LightGBM] [Warning] No further splits with positive gain, best gain: -inf\n",
      "[LightGBM] [Warning] No further splits with positive gain, best gain: -inf\n",
      "[LightGBM] [Warning] No further splits with positive gain, best gain: -inf\n",
      "[LightGBM] [Warning] No further splits with positive gain, best gain: -inf\n",
      "[LightGBM] [Warning] No further splits with positive gain, best gain: -inf\n",
      "[LightGBM] [Warning] No further splits with positive gain, best gain: -inf\n",
      "[LightGBM] [Warning] No further splits with positive gain, best gain: -inf\n",
      "[LightGBM] [Warning] No further splits with positive gain, best gain: -inf\n",
      "[LightGBM] [Warning] No further splits with positive gain, best gain: -inf\n",
      "[LightGBM] [Warning] No further splits with positive gain, best gain: -inf\n",
      "[LightGBM] [Warning] No further splits with positive gain, best gain: -inf\n",
      "[LightGBM] [Warning] No further splits with positive gain, best gain: -inf\n",
      "[LightGBM] [Warning] No further splits with positive gain, best gain: -inf\n",
      "[LightGBM] [Warning] No further splits with positive gain, best gain: -inf\n",
      "[LightGBM] [Warning] No further splits with positive gain, best gain: -inf\n",
      "[LightGBM] [Warning] No further splits with positive gain, best gain: -inf\n",
      "[LightGBM] [Warning] No further splits with positive gain, best gain: -inf\n",
      "[LightGBM] [Warning] No further splits with positive gain, best gain: -inf\n",
      "[LightGBM] [Warning] No further splits with positive gain, best gain: -inf\n",
      "[LightGBM] [Warning] No further splits with positive gain, best gain: -inf\n",
      "[LightGBM] [Warning] No further splits with positive gain, best gain: -inf\n",
      "[LightGBM] [Warning] No further splits with positive gain, best gain: -inf\n",
      "[LightGBM] [Warning] No further splits with positive gain, best gain: -inf\n",
      "[LightGBM] [Warning] No further splits with positive gain, best gain: -inf\n",
      "[LightGBM] [Warning] No further splits with positive gain, best gain: -inf\n",
      "[LightGBM] [Warning] No further splits with positive gain, best gain: -inf\n",
      "[LightGBM] [Warning] No further splits with positive gain, best gain: -inf\n",
      "[LightGBM] [Warning] No further splits with positive gain, best gain: -inf\n",
      "[LightGBM] [Warning] No further splits with positive gain, best gain: -inf\n",
      "[LightGBM] [Warning] No further splits with positive gain, best gain: -inf\n",
      "[LightGBM] [Warning] No further splits with positive gain, best gain: -inf\n",
      "[LightGBM] [Warning] No further splits with positive gain, best gain: -inf\n",
      "[LightGBM] [Warning] No further splits with positive gain, best gain: -inf\n",
      "[LightGBM] [Warning] No further splits with positive gain, best gain: -inf\n",
      "[LightGBM] [Warning] No further splits with positive gain, best gain: -inf\n",
      "[LightGBM] [Warning] No further splits with positive gain, best gain: -inf\n",
      "[LightGBM] [Warning] No further splits with positive gain, best gain: -inf\n",
      "[LightGBM] [Warning] No further splits with positive gain, best gain: -inf\n",
      "[LightGBM] [Warning] No further splits with positive gain, best gain: -inf\n",
      "[LightGBM] [Warning] No further splits with positive gain, best gain: -inf\n",
      "[LightGBM] [Warning] No further splits with positive gain, best gain: -inf\n",
      "[LightGBM] [Warning] No further splits with positive gain, best gain: -inf\n",
      "[LightGBM] [Warning] No further splits with positive gain, best gain: -inf\n",
      "[LightGBM] [Warning] No further splits with positive gain, best gain: -inf\n",
      "[LightGBM] [Warning] No further splits with positive gain, best gain: -inf\n",
      "[LightGBM] [Warning] No further splits with positive gain, best gain: -inf\n",
      "[LightGBM] [Warning] No further splits with positive gain, best gain: -inf\n",
      "[LightGBM] [Warning] No further splits with positive gain, best gain: -inf\n",
      "[LightGBM] [Warning] No further splits with positive gain, best gain: -inf\n",
      "[LightGBM] [Warning] No further splits with positive gain, best gain: -inf\n",
      "[LightGBM] [Warning] No further splits with positive gain, best gain: -inf\n",
      "[LightGBM] [Warning] No further splits with positive gain, best gain: -inf\n",
      "[LightGBM] [Warning] No further splits with positive gain, best gain: -inf\n",
      "[LightGBM] [Warning] No further splits with positive gain, best gain: -inf\n",
      "[LightGBM] [Warning] No further splits with positive gain, best gain: -inf\n",
      "[LightGBM] [Warning] No further splits with positive gain, best gain: -inf\n",
      "[LightGBM] [Warning] No further splits with positive gain, best gain: -inf\n",
      "[LightGBM] [Warning] No further splits with positive gain, best gain: -inf\n",
      "[LightGBM] [Warning] No further splits with positive gain, best gain: -inf\n",
      "[LightGBM] [Warning] No further splits with positive gain, best gain: -inf\n",
      "[LightGBM] [Warning] No further splits with positive gain, best gain: -inf\n",
      "[LightGBM] [Warning] No further splits with positive gain, best gain: -inf\n",
      "[LightGBM] [Warning] No further splits with positive gain, best gain: -inf\n",
      "[LightGBM] [Warning] No further splits with positive gain, best gain: -inf\n",
      "[LightGBM] [Warning] No further splits with positive gain, best gain: -inf\n",
      "[LightGBM] [Warning] No further splits with positive gain, best gain: -inf\n",
      "[LightGBM] [Warning] No further splits with positive gain, best gain: -inf\n",
      "[LightGBM] [Warning] No further splits with positive gain, best gain: -inf\n",
      "[LightGBM] [Warning] No further splits with positive gain, best gain: -inf\n",
      "[LightGBM] [Warning] No further splits with positive gain, best gain: -inf\n",
      "[LightGBM] [Warning] No further splits with positive gain, best gain: -inf\n",
      "[LightGBM] [Warning] No further splits with positive gain, best gain: -inf\n",
      "[LightGBM] [Warning] No further splits with positive gain, best gain: -inf\n",
      "[LightGBM] [Warning] No further splits with positive gain, best gain: -inf\n",
      "[LightGBM] [Warning] No further splits with positive gain, best gain: -inf\n",
      "[LightGBM] [Warning] No further splits with positive gain, best gain: -inf\n",
      "[LightGBM] [Warning] No further splits with positive gain, best gain: -inf\n",
      "[LightGBM] [Warning] No further splits with positive gain, best gain: -inf\n",
      "[LightGBM] [Warning] No further splits with positive gain, best gain: -inf\n",
      "[LightGBM] [Warning] No further splits with positive gain, best gain: -inf\n",
      "[LightGBM] [Warning] No further splits with positive gain, best gain: -inf\n",
      "[LightGBM] [Warning] No further splits with positive gain, best gain: -inf\n",
      "[LightGBM] [Warning] No further splits with positive gain, best gain: -inf\n",
      "[LightGBM] [Warning] No further splits with positive gain, best gain: -inf\n",
      "[LightGBM] [Warning] No further splits with positive gain, best gain: -inf\n",
      "[LightGBM] [Warning] No further splits with positive gain, best gain: -inf\n",
      "[LightGBM] [Warning] No further splits with positive gain, best gain: -inf\n",
      "[LightGBM] [Warning] No further splits with positive gain, best gain: -inf\n",
      "[LightGBM] [Warning] No further splits with positive gain, best gain: -inf\n",
      "[LightGBM] [Warning] No further splits with positive gain, best gain: -inf\n",
      "[LightGBM] [Warning] No further splits with positive gain, best gain: -inf\n",
      "[LightGBM] [Warning] No further splits with positive gain, best gain: -inf\n",
      "[LightGBM] [Warning] No further splits with positive gain, best gain: -inf\n",
      "[LightGBM] [Warning] No further splits with positive gain, best gain: -inf\n",
      "[LightGBM] [Warning] No further splits with positive gain, best gain: -inf\n",
      "[LightGBM] [Warning] No further splits with positive gain, best gain: -inf\n",
      "[LightGBM] [Warning] No further splits with positive gain, best gain: -inf\n",
      "[LightGBM] [Warning] No further splits with positive gain, best gain: -inf\n",
      "[LightGBM] [Warning] No further splits with positive gain, best gain: -inf\n",
      "[LightGBM] [Warning] No further splits with positive gain, best gain: -inf\n",
      "[LightGBM] [Warning] No further splits with positive gain, best gain: -inf\n",
      "[LightGBM] [Warning] No further splits with positive gain, best gain: -inf\n",
      "[LightGBM] [Warning] No further splits with positive gain, best gain: -inf\n",
      "[LightGBM] [Warning] No further splits with positive gain, best gain: -inf\n",
      "[LightGBM] [Warning] No further splits with positive gain, best gain: -inf\n",
      "[LightGBM] [Warning] No further splits with positive gain, best gain: -inf\n",
      "[LightGBM] [Warning] No further splits with positive gain, best gain: -inf\n",
      "[LightGBM] [Warning] No further splits with positive gain, best gain: -inf\n",
      "[LightGBM] [Warning] No further splits with positive gain, best gain: -inf\n",
      "[LightGBM] [Warning] No further splits with positive gain, best gain: -inf\n",
      "[LightGBM] [Warning] No further splits with positive gain, best gain: -inf\n",
      "[LightGBM] [Warning] No further splits with positive gain, best gain: -inf\n",
      "[LightGBM] [Warning] No further splits with positive gain, best gain: -inf\n",
      "[LightGBM] [Warning] No further splits with positive gain, best gain: -inf\n",
      "[LightGBM] [Warning] No further splits with positive gain, best gain: -inf\n",
      "[LightGBM] [Warning] No further splits with positive gain, best gain: -inf\n",
      "[LightGBM] [Warning] No further splits with positive gain, best gain: -inf\n",
      "[LightGBM] [Warning] No further splits with positive gain, best gain: -inf\n",
      "[LightGBM] [Warning] No further splits with positive gain, best gain: -inf\n",
      "[LightGBM] [Warning] No further splits with positive gain, best gain: -inf\n",
      "[LightGBM] [Warning] No further splits with positive gain, best gain: -inf\n",
      "[LightGBM] [Warning] No further splits with positive gain, best gain: -inf\n",
      "[LightGBM] [Warning] No further splits with positive gain, best gain: -inf\n",
      "[LightGBM] [Warning] No further splits with positive gain, best gain: -inf\n",
      "[LightGBM] [Warning] No further splits with positive gain, best gain: -inf\n",
      "[LightGBM] [Warning] No further splits with positive gain, best gain: -inf\n",
      "[LightGBM] [Warning] No further splits with positive gain, best gain: -inf\n",
      "[LightGBM] [Warning] No further splits with positive gain, best gain: -inf\n",
      "[LightGBM] [Warning] No further splits with positive gain, best gain: -inf\n",
      "[LightGBM] [Warning] No further splits with positive gain, best gain: -inf\n",
      "[LightGBM] [Warning] No further splits with positive gain, best gain: -inf\n",
      "[LightGBM] [Warning] No further splits with positive gain, best gain: -inf\n",
      "[LightGBM] [Warning] No further splits with positive gain, best gain: -inf\n",
      "[LightGBM] [Warning] No further splits with positive gain, best gain: -inf\n",
      "[LightGBM] [Warning] No further splits with positive gain, best gain: -inf\n",
      "[LightGBM] [Warning] No further splits with positive gain, best gain: -inf\n",
      "[LightGBM] [Warning] No further splits with positive gain, best gain: -inf\n",
      "[LightGBM] [Warning] No further splits with positive gain, best gain: -inf\n",
      "[LightGBM] [Warning] No further splits with positive gain, best gain: -inf\n",
      "[LightGBM] [Warning] No further splits with positive gain, best gain: -inf\n",
      "[LightGBM] [Warning] No further splits with positive gain, best gain: -inf\n",
      "[LightGBM] [Warning] No further splits with positive gain, best gain: -inf\n",
      "[LightGBM] [Warning] No further splits with positive gain, best gain: -inf\n",
      "[LightGBM] [Warning] No further splits with positive gain, best gain: -inf\n",
      "[LightGBM] [Warning] No further splits with positive gain, best gain: -inf\n",
      "[LightGBM] [Warning] No further splits with positive gain, best gain: -inf\n",
      "[LightGBM] [Warning] No further splits with positive gain, best gain: -inf\n",
      "[LightGBM] [Warning] No further splits with positive gain, best gain: -inf\n",
      "[LightGBM] [Warning] No further splits with positive gain, best gain: -inf\n",
      "[LightGBM] [Warning] No further splits with positive gain, best gain: -inf\n",
      "[LightGBM] [Warning] No further splits with positive gain, best gain: -inf\n",
      "[LightGBM] [Warning] No further splits with positive gain, best gain: -inf\n",
      "[LightGBM] [Warning] No further splits with positive gain, best gain: -inf\n",
      "[LightGBM] [Warning] No further splits with positive gain, best gain: -inf\n",
      "[LightGBM] [Warning] No further splits with positive gain, best gain: -inf\n",
      "[LightGBM] [Warning] No further splits with positive gain, best gain: -inf\n",
      "[LightGBM] [Warning] No further splits with positive gain, best gain: -inf\n",
      "Best Parameters: {'learning_rate': 0.05, 'max_depth': 7, 'n_estimators': 500, 'num_leaves': 31}\n"
     ]
    }
   ],
   "source": [
    "from sklearn.model_selection import GridSearchCV\n",
    "\n",
    "# Define parameter grid\n",
    "param_grid = {\n",
    "    'n_estimators': [100, 300, 500],\n",
    "    'learning_rate': [0.01, 0.05, 0.1],\n",
    "    'max_depth': [3, 5, 7],\n",
    "    'num_leaves': [20, 31, 40]\n",
    "}\n",
    "\n",
    "# Initialize the model\n",
    "lgbm = lgb.LGBMClassifier(class_weight=\"balanced\")\n",
    "\n",
    "# Grid search with 3-fold cross-validation\n",
    "grid_search = GridSearchCV(\n",
    "    estimator=lgbm, \n",
    "    param_grid=param_grid, \n",
    "    scoring='roc_auc', \n",
    "    cv=3, \n",
    "    n_jobs=-1, \n",
    "    verbose=2\n",
    ")\n",
    "\n",
    "# Fit on resampled data\n",
    "grid_search.fit(X_train_resampled, y_train_resampled)\n",
    "\n",
    "# Best parameters\n",
    "print(f\"Best Parameters: {grid_search.best_params_}\")\n",
    "\n",
    "# Train best model\n",
    "best_lgbm = grid_search.best_estimator_\n"
   ]
  },
  {
   "cell_type": "code",
   "execution_count": 37,
   "metadata": {},
   "outputs": [],
   "source": [
    "import pandas as pd\n",
    "\n",
    "# Generate final predictions\n",
    "y_pred_proba = best_lgbm.predict_proba(X_test)[:, 1]  # Probabilities for churn class\n",
    "\n",
    "# Predictions\n",
    "y_pred = best_lgbm.predict(X_test)\n"
   ]
  },
  {
   "cell_type": "code",
   "execution_count": 38,
   "metadata": {},
   "outputs": [
    {
     "name": "stdout",
     "output_type": "stream",
     "text": [
      "Model Accuracy: 0.9986\n",
      "F1 Score: 0.9959\n",
      "ROC AUC Score: 0.9979\n",
      "              precision    recall  f1-score   support\n",
      "\n",
      "           0       1.00      1.00      1.00     28375\n",
      "           1       0.99      1.00      1.00      5743\n",
      "\n",
      "    accuracy                           1.00     34118\n",
      "   macro avg       1.00      1.00      1.00     34118\n",
      "weighted avg       1.00      1.00      1.00     34118\n",
      "\n"
     ]
    }
   ],
   "source": [
    "# Evaluate model\n",
    "accuracy = accuracy_score(y_test, y_pred)\n",
    "f1 = f1_score(y_test, y_pred)\n",
    "roc_auc = roc_auc_score(y_test, y_pred)\n",
    "\n",
    "print(f\"Model Accuracy: {accuracy:.4f}\")\n",
    "print(f\"F1 Score: {f1:.4f}\")\n",
    "print(f\"ROC AUC Score: {roc_auc:.4f}\")\n",
    "print(classification_report(y_test, y_pred))"
   ]
  },
  {
   "cell_type": "code",
   "execution_count": 39,
   "metadata": {},
   "outputs": [
    {
     "data": {
      "text/plain": [
       "['best_lgbm_model.pkl']"
      ]
     },
     "execution_count": 39,
     "metadata": {},
     "output_type": "execute_result"
    }
   ],
   "source": [
    "import joblib\n",
    "\n",
    "joblib.dump(best_lgbm, 'best_lgbm_model.pkl')  # Save model"
   ]
  },
  {
   "cell_type": "code",
   "execution_count": 46,
   "metadata": {},
   "outputs": [
    {
     "data": {
      "text/plain": [
       "array([[2.40000000e+01, 4.00000000e+00, 0.00000000e+00, ...,\n",
       "        3.00000000e+00, 0.00000000e+00, 0.00000000e+00],\n",
       "       [4.00000000e+00, 2.66000000e+02, 6.80226525e+04, ...,\n",
       "        2.17443609e+01, 2.71698113e+00, 6.68438184e+00],\n",
       "       [5.45000000e+02, 6.00000000e+00, 2.79616980e+02, ...,\n",
       "        4.30000000e+01, 5.60000000e+00, 7.95612971e+00],\n",
       "       ...,\n",
       "       [1.20000000e+01, 3.80000000e+01, 6.70040352e+03, ...,\n",
       "        1.08947368e+01, 1.52702703e+01, 5.10281233e+01],\n",
       "       [3.27000000e+02, 1.00000000e+00, 4.88581333e+01, ...,\n",
       "        7.00000000e+00, 0.00000000e+00, 0.00000000e+00],\n",
       "       [2.00000000e+00, 4.19000000e+02, 2.86055481e+04, ...,\n",
       "        4.42076372e+01, 7.53588517e-01, 5.64446624e+00]])"
      ]
     },
     "execution_count": 46,
     "metadata": {},
     "output_type": "execute_result"
    }
   ],
   "source": [
    "X_test"
   ]
  },
  {
   "cell_type": "code",
   "execution_count": 40,
   "metadata": {},
   "outputs": [
    {
     "ename": "IndexError",
     "evalue": "only integers, slices (`:`), ellipsis (`...`), numpy.newaxis (`None`) and integer or boolean arrays are valid indices",
     "output_type": "error",
     "traceback": [
      "\u001b[1;31m---------------------------------------------------------------------------\u001b[0m",
      "\u001b[1;31mIndexError\u001b[0m                                Traceback (most recent call last)",
      "Cell \u001b[1;32mIn[40], line 2\u001b[0m\n\u001b[0;32m      1\u001b[0m df_results \u001b[38;5;241m=\u001b[39m pd\u001b[38;5;241m.\u001b[39mDataFrame({\n\u001b[1;32m----> 2\u001b[0m     \u001b[38;5;124m\"\u001b[39m\u001b[38;5;124mclient_id\u001b[39m\u001b[38;5;124m\"\u001b[39m: \u001b[43mX_test\u001b[49m\u001b[43m[\u001b[49m\u001b[38;5;124;43m'\u001b[39;49m\u001b[38;5;124;43mclient_id\u001b[39;49m\u001b[38;5;124;43m'\u001b[39;49m\u001b[43m]\u001b[49m,  \u001b[38;5;66;03m# Assuming client_id is a column\u001b[39;00m\n\u001b[0;32m      3\u001b[0m     \u001b[38;5;124m\"\u001b[39m\u001b[38;5;124mchurn_probability\u001b[39m\u001b[38;5;124m\"\u001b[39m: y_pred_proba\n\u001b[0;32m      4\u001b[0m })\n\u001b[0;32m      6\u001b[0m \u001b[38;5;66;03m# Save as CSV for Tableau\u001b[39;00m\n\u001b[0;32m      7\u001b[0m df_results\u001b[38;5;241m.\u001b[39mto_csv(\u001b[38;5;124m\"\u001b[39m\u001b[38;5;124mchurn_predictions.csv\u001b[39m\u001b[38;5;124m\"\u001b[39m, index\u001b[38;5;241m=\u001b[39m\u001b[38;5;28;01mFalse\u001b[39;00m)\n",
      "\u001b[1;31mIndexError\u001b[0m: only integers, slices (`:`), ellipsis (`...`), numpy.newaxis (`None`) and integer or boolean arrays are valid indices"
     ]
    }
   ],
   "source": [
    "df_results = pd.DataFrame({\n",
    "    \"client_id\": X_test['client_id'],  # Assuming client_id is a column\n",
    "    \"churn_probability\": y_pred_proba\n",
    "})\n",
    "\n",
    "# Save as CSV for Tableau\n",
    "df_results.to_csv(\"churn_predictions.csv\", index=False)"
   ]
  },
  {
   "cell_type": "markdown",
   "metadata": {},
   "source": [
    "## ✅ Deploying the Model to Tableau (POC)\n",
    "In this final step, we will deploy the churn prediction model to Tableau for interactive visualization. We will use the CSV file generated in the previous step to create a dashboard that allows users to explore the churn probability for each client.\n",
    "    "
   ]
  },
  {
   "cell_type": "code",
   "execution_count": null,
   "metadata": {},
   "outputs": [],
   "source": []
  },
  {
   "cell_type": "markdown",
   "metadata": {},
   "source": []
  }
 ],
 "metadata": {
  "kernelspec": {
   "display_name": "Python 3",
   "language": "python",
   "name": "python3"
  },
  "language_info": {
   "codemirror_mode": {
    "name": "ipython",
    "version": 3
   },
   "file_extension": ".py",
   "mimetype": "text/x-python",
   "name": "python",
   "nbconvert_exporter": "python",
   "pygments_lexer": "ipython3",
   "version": "3.12.6"
  }
 },
 "nbformat": 4,
 "nbformat_minor": 2
}
